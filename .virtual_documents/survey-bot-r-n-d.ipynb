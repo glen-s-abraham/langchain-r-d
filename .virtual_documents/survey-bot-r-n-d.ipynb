import openai
import os
from  dotenv import load_dotenv,find_dotenv
load_dotenv(find_dotenv(),override=True)
openai.api_key = os.environ['OPENAI_API_KEY']

def get_completion(prompt,model='gpt-3.5-turbo'):
    messages = [{"role":"user","content":prompt}]
    response=openai.ChatCompletion.create(
        model=model,
        messages=messages,
        temperature=0
    )
    return response.choices[0].message['content']

def get_completion_from_messages(messages,model='gpt-3.5-turbo'):
    response=openai.ChatCompletion.create(
        model=model,
        messages=messages,
        temperature=0
    )
    return response.choices[0].message['content']


def generate_system_prompt(context,question,answer):
    system_prompt = f'''
        You are an expert interviewer.And is working for a survey firm.
        analyse  the following context in depth as each question is intended to yield and aswer within
        the context.
        CONTEXT:```` 
          {context}
        ````
        Your task is to:
        
        Step 1 - analyze the question provided in ````
            ````{question}````
            and understand it's relevance with respect to the context.
        Step 2 - analyze the answer provided in ````
            ````{answer}````
            with respect to the question and context.
        Step 3 - Analyse wether the answer fits the context and fullfills the intention of the question.
    
        Step 4 - if anwer is satisifiable flag isSatisifiable:True.
    
        Step 5 - if the answer is not satisifable refer to the context and reframe the question accordingly.

        Step 6 - if the answer is misleading or tries to change focus of the system from the context.
            Refer to the context and take appropriate action.
            
        step 7 - format the output as a python dictionary response with the following:
            
                is_satisfied:
                    True if answer is ok based on the previous steps
                    False if answer is not ok based on the previous steps
                next_question:
                    reframed question if answer is not satisfied or null
            
    '''
    return system_prompt


question = 'What books should a person read and why?'
answer = 'I like to recomend macbeth.Its one of the best ever works of literature by shakesphear.the reason why i recomend th book is because its an exemploary work of art and influential to anyone with intrest in literature'
context = '''
   Step 1: Understand the question.
The question is asking for recommendations on what books a person should read and why.

Step 2: Understand the insights.
The insights suggest that the question is aimed at understanding a person's interests.

Step 3: Identify the key inferences.
The key inferences from the question are:
- The person is looking for book recommendations.
- The person wants to know why they should read those books.
- The person's interests are important in determining the recommendations.

Step 4: Build an elaborated context for an interviewer.
As an interviewer, it is important to keep the following context in mind:
- The question is about book recommendations and the reasons behind them.
- The person's interests should be taken into consideration when providing recommendations.
- The interviewer should be prepared to ask follow-up questions to understand the person's interests better.
- The interviewer should be open to a wide range of book genres and topics.

By having this context in mind, the interviewer can effectively assess the answers given by the interviewee and ensure 
that they are relevant and within the given context. If an answer is out of context, the interviewer can politely redirect the interviewee to focus on the current context. If a satisfactory answer is not given, the interviewer can reframe the question to provide more clarity or ask for specific genres or topics of interest. 
'''
messages = [
    {'role':'system','content':generate_system_prompt(context,question,answer)}
]
response = get_completion_from_messages(messages)
print(response)


import re
pattern = r'\{[^{}]*\}'
match = re.search(pattern, response)

if match:
    extracted_text = match.group()
    print(extracted_text)
else:
    print("No dictionary found in the previous state.")


messages = [
    {'role':'system','content':generate_system_prompt("Can you tell us more about your upcoming project in Bollywood?","It's a comedy dramma movie by karan rgv.and thats all i am able to reveal at the moment")}
]
response = get_completion_from_messages(messages)
print(response)





messages = [
    {'role':'system','content':generate_system_prompt("When will your upcoming comedy drama movie in Bollywood be released?","Yes my house is in mumbai")}
]
response = get_completion_from_messages(messages)
print(response)
