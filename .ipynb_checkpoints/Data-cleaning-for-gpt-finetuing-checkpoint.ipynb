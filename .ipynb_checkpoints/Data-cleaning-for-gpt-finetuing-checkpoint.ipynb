{
 "cells": [
  {
   "cell_type": "code",
   "execution_count": 1,
   "id": "d51219b4-dee2-4a40-a9cd-04b6b4c5c509",
   "metadata": {},
   "outputs": [],
   "source": [
    "import pandas as pd"
   ]
  },
  {
   "cell_type": "code",
   "execution_count": 5,
   "id": "f3e3245c-7cce-4643-abdc-b5d9e8513c41",
   "metadata": {},
   "outputs": [],
   "source": [
    "df = pd.read_csv('files/hardwareStore.csv')"
   ]
  },
  {
   "cell_type": "code",
   "execution_count": 7,
   "id": "ace33889-3ad9-4e64-8854-c9cf103e6e52",
   "metadata": {},
   "outputs": [],
   "source": [
    "#remove missing values in the current dataraem\n",
    "df.dropna(inplace=True)"
   ]
  }
 ],
 "metadata": {
  "kernelspec": {
   "display_name": "Python 3 (ipykernel)",
   "language": "python",
   "name": "python3"
  },
  "language_info": {
   "codemirror_mode": {
    "name": "ipython",
    "version": 3
   },
   "file_extension": ".py",
   "mimetype": "text/x-python",
   "name": "python",
   "nbconvert_exporter": "python",
   "pygments_lexer": "ipython3",
   "version": "3.11.4"
  }
 },
 "nbformat": 4,
 "nbformat_minor": 5
}
