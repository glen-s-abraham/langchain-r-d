{
 "cells": [
  {
   "cell_type": "code",
   "execution_count": 1,
   "id": "b5bf2578-adc4-423b-adbc-7deceb92b29d",
   "metadata": {},
   "outputs": [],
   "source": [
    "import os\n",
    "import openai\n",
    "import sys\n",
    "from langchain.chat_models import ChatOpenAI\n",
    "sys.path.append('../..')\n",
    "\n",
    "from dotenv import load_dotenv, find_dotenv\n",
    "_ = load_dotenv(find_dotenv()) # read local .env file\n",
    "\n",
    "openai.api_key  = os.environ['OPENAI_API_KEY']"
   ]
  },
  {
   "cell_type": "code",
   "execution_count": 4,
   "id": "bdfb7f66-0be1-4adb-8151-d4623f18993b",
   "metadata": {},
   "outputs": [],
   "source": [
    "from langchain.document_loaders import PyPDFLoader\n",
    "\n",
    "loaders = [\n",
    "    PyPDFLoader(\"files/cs229/CS229_Note_Apr_8,_2020_(Linear_Regression_&_Normal_Equation).pdf\"),\n",
    "    PyPDFLoader(\"files/cs229/CS229_Note_Apr_8,_2020_(Linear_Regression_&_Normal_Equation).pdf\"),\n",
    "    PyPDFLoader(\"files/cs229/CS229_Note_Apr_13,_2020_(Locally_Weighted_Regression_&_Logistic_Regression_&_Newton's_Method).pdf\"),\n",
    "    PyPDFLoader(\"files/cs229/CS229_Note_Apr_20,_2020_(Generative_Learning_Algorithms_&_Naive_Bayes).pdf\"),\n",
    "    PyPDFLoader(\"files/cs229/CS229_Note_Apr_22,_2020_(Laplace_Smoothing_&_Kernel_Methods).pdf\"),\n",
    "    PyPDFLoader(\"files/cs229/CS229_Note_Apr_27,_2020_(Kernel_Methods_&_SVM).pdf\"),\n",
    "    PyPDFLoader(\"files/cs229/CS229_Note_Apr_29,_2020_(Neural_Networks).pdf\"),\n",
    "]\n",
    "\n",
    "docs = []\n",
    "for loader in loaders:\n",
    "    docs.extend(loader.load())"
   ]
  },
  {
   "cell_type": "code",
   "execution_count": 5,
   "id": "bd74e537-98fe-4d52-ab73-6c663b307c12",
   "metadata": {},
   "outputs": [],
   "source": [
    "from langchain.text_splitter import RecursiveCharacterTextSplitter\n",
    "text_splitter = RecursiveCharacterTextSplitter(chunk_size=1500,chunk_overlap=150)"
   ]
  },
  {
   "cell_type": "code",
   "execution_count": 6,
   "id": "46512055-cd95-4134-8949-c0906f7bea25",
   "metadata": {},
   "outputs": [],
   "source": [
    "splits = text_splitter.split_documents(docs)"
   ]
  },
  {
   "cell_type": "code",
   "execution_count": 13,
   "id": "119de940-7697-4d79-a57b-dc0a963e2d6f",
   "metadata": {},
   "outputs": [],
   "source": [
    "from langchain.vectorstores import Chroma\n",
    "from langchain.embeddings.openai import OpenAIEmbeddings\n",
    "persist_directory = 'docs/chroma/'\n",
    "embedding = OpenAIEmbeddings()\n",
    "vectordb = Chroma(persist_directory=persist_directory, embedding_function=embedding)"
   ]
  },
  {
   "cell_type": "code",
   "execution_count": 15,
   "id": "34a2e01a-253e-46b8-bc54-f703be94876b",
   "metadata": {},
   "outputs": [
    {
     "data": {
      "text/plain": [
       "0"
      ]
     },
     "execution_count": 15,
     "metadata": {},
     "output_type": "execute_result"
    }
   ],
   "source": [
    "vectordb._collection.count()"
   ]
  },
  {
   "cell_type": "code",
   "execution_count": 19,
   "id": "f43bb33a-ea0c-4f35-b02c-17fb254b9dc6",
   "metadata": {},
   "outputs": [
    {
     "data": {
      "text/plain": [
       "['d47dd5a4-52c3-11ee-b36f-e073e70bf171',\n",
       " 'd47dd5a5-52c3-11ee-a9cf-e073e70bf171',\n",
       " 'd47dd5a6-52c3-11ee-b92c-e073e70bf171',\n",
       " 'd47dd5a7-52c3-11ee-964b-e073e70bf171',\n",
       " 'd47dd5a8-52c3-11ee-b8aa-e073e70bf171',\n",
       " 'd47dd5a9-52c3-11ee-aebc-e073e70bf171',\n",
       " 'd47dd5aa-52c3-11ee-93bd-e073e70bf171',\n",
       " 'd47dd5ab-52c3-11ee-a540-e073e70bf171',\n",
       " 'd47dd5ac-52c3-11ee-bd18-e073e70bf171',\n",
       " 'd47dd5ad-52c3-11ee-a4b0-e073e70bf171',\n",
       " 'd47dd5ae-52c3-11ee-9540-e073e70bf171',\n",
       " 'd47dd5af-52c3-11ee-9399-e073e70bf171',\n",
       " 'd47dd5b0-52c3-11ee-ac1e-e073e70bf171',\n",
       " 'd47dd5b1-52c3-11ee-a7e6-e073e70bf171',\n",
       " 'd47dd5b2-52c3-11ee-bfb2-e073e70bf171',\n",
       " 'd47dd5b3-52c3-11ee-a340-e073e70bf171',\n",
       " 'd47dd5b4-52c3-11ee-8cc8-e073e70bf171',\n",
       " 'd47dd5b5-52c3-11ee-a18c-e073e70bf171',\n",
       " 'd47dd5b6-52c3-11ee-90b3-e073e70bf171',\n",
       " 'd47dd5b7-52c3-11ee-b827-e073e70bf171',\n",
       " 'd47dd5b8-52c3-11ee-bae4-e073e70bf171',\n",
       " 'd47dd5b9-52c3-11ee-ac07-e073e70bf171',\n",
       " 'd47dd5ba-52c3-11ee-a43c-e073e70bf171',\n",
       " 'd47dd5bb-52c3-11ee-81e3-e073e70bf171',\n",
       " 'd47dd5bc-52c3-11ee-ae24-e073e70bf171',\n",
       " 'd47dd5bd-52c3-11ee-9e47-e073e70bf171',\n",
       " 'd47dd5be-52c3-11ee-a6e2-e073e70bf171',\n",
       " 'd47dd5bf-52c3-11ee-bd91-e073e70bf171',\n",
       " 'd47dd5c0-52c3-11ee-a28f-e073e70bf171',\n",
       " 'd47dd5c1-52c3-11ee-b5b0-e073e70bf171']"
      ]
     },
     "execution_count": 19,
     "metadata": {},
     "output_type": "execute_result"
    }
   ],
   "source": [
    "vectordb.add_documents(splits)"
   ]
  },
  {
   "cell_type": "code",
   "execution_count": 20,
   "id": "922b469d-8a30-4594-9108-247668e7572a",
   "metadata": {},
   "outputs": [
    {
     "data": {
      "text/plain": [
       "30"
      ]
     },
     "execution_count": 20,
     "metadata": {},
     "output_type": "execute_result"
    }
   ],
   "source": [
    "vectordb._collection.count()"
   ]
  },
  {
   "cell_type": "code",
   "execution_count": 21,
   "id": "1a62a634-f602-44e7-83b8-d931d90a7269",
   "metadata": {},
   "outputs": [
    {
     "data": {
      "text/plain": [
       "3"
      ]
     },
     "execution_count": 21,
     "metadata": {},
     "output_type": "execute_result"
    }
   ],
   "source": [
    "question = \"What are major topics for this class?\"\n",
    "docs = vectordb.similarity_search(question,k=3)\n",
    "len(docs)"
   ]
  },
  {
   "cell_type": "code",
   "execution_count": 24,
   "id": "ec0d48f6-72ce-41d9-9f8b-042f2721e870",
   "metadata": {},
   "outputs": [
    {
     "ename": "NameError",
     "evalue": "name 'ChatOpenAI' is not defined",
     "output_type": "error",
     "traceback": [
      "\u001b[1;31m---------------------------------------------------------------------------\u001b[0m",
      "\u001b[1;31mNameError\u001b[0m                                 Traceback (most recent call last)",
      "Cell \u001b[1;32mIn[24], line 2\u001b[0m\n\u001b[0;32m      1\u001b[0m \u001b[38;5;28;01mfrom\u001b[39;00m \u001b[38;5;21;01mlangchain\u001b[39;00m\u001b[38;5;21;01m.\u001b[39;00m\u001b[38;5;21;01mchains\u001b[39;00m \u001b[38;5;28;01mimport\u001b[39;00m RetrievalQA\n\u001b[1;32m----> 2\u001b[0m llm \u001b[38;5;241m=\u001b[39m \u001b[43mChatOpenAI\u001b[49m(model_name\u001b[38;5;241m=\u001b[39mllm_name, temperature\u001b[38;5;241m=\u001b[39m\u001b[38;5;241m0\u001b[39m)\n",
      "\u001b[1;31mNameError\u001b[0m: name 'ChatOpenAI' is not defined"
     ]
    }
   ],
   "source": [
    "from langchain.chains import RetrievalQA\n",
    "llm = ChatOpenAI(model_name=llm_name, temperature=0)"
   ]
  },
  {
   "cell_type": "code",
   "execution_count": 23,
   "id": "309df016-7159-4899-af50-6c72c9c41daa",
   "metadata": {},
   "outputs": [
    {
     "ename": "NameError",
     "evalue": "name 'llm' is not defined",
     "output_type": "error",
     "traceback": [
      "\u001b[1;31m---------------------------------------------------------------------------\u001b[0m",
      "\u001b[1;31mNameError\u001b[0m                                 Traceback (most recent call last)",
      "Cell \u001b[1;32mIn[23], line 2\u001b[0m\n\u001b[0;32m      1\u001b[0m qa_chain \u001b[38;5;241m=\u001b[39m RetrievalQA\u001b[38;5;241m.\u001b[39mfrom_chain_type(\n\u001b[1;32m----> 2\u001b[0m     \u001b[43mllm\u001b[49m,\n\u001b[0;32m      3\u001b[0m     retriever\u001b[38;5;241m=\u001b[39mvectordb\u001b[38;5;241m.\u001b[39mas_retriever()\n\u001b[0;32m      4\u001b[0m )\n",
      "\u001b[1;31mNameError\u001b[0m: name 'llm' is not defined"
     ]
    }
   ],
   "source": [
    "qa_chain = RetrievalQA.from_chain_type(\n",
    "    llm,\n",
    "    retriever=vectordb.as_retriever()\n",
    ")"
   ]
  }
 ],
 "metadata": {
  "kernelspec": {
   "display_name": "Python 3 (ipykernel)",
   "language": "python",
   "name": "python3"
  },
  "language_info": {
   "codemirror_mode": {
    "name": "ipython",
    "version": 3
   },
   "file_extension": ".py",
   "mimetype": "text/x-python",
   "name": "python",
   "nbconvert_exporter": "python",
   "pygments_lexer": "ipython3",
   "version": "3.11.4"
  }
 },
 "nbformat": 4,
 "nbformat_minor": 5
}
