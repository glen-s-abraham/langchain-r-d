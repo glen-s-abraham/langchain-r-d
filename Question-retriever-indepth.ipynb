{
 "cells": [
  {
   "cell_type": "code",
   "execution_count": 25,
   "id": "b5bf2578-adc4-423b-adbc-7deceb92b29d",
   "metadata": {},
   "outputs": [],
   "source": [
    "import os\n",
    "import openai\n",
    "import sys\n",
    "from langchain.chat_models import ChatOpenAI\n",
    "sys.path.append('../..')\n",
    "\n",
    "from dotenv import load_dotenv, find_dotenv\n",
    "_ = load_dotenv(find_dotenv()) # read local .env file\n",
    "\n",
    "openai.api_key  = os.environ['OPENAI_API_KEY']"
   ]
  },
  {
   "cell_type": "code",
   "execution_count": 4,
   "id": "bdfb7f66-0be1-4adb-8151-d4623f18993b",
   "metadata": {},
   "outputs": [],
   "source": [
    "from langchain.document_loaders import PyPDFLoader\n",
    "\n",
    "loaders = [\n",
    "    PyPDFLoader(\"files/cs229/CS229_Note_Apr_8,_2020_(Linear_Regression_&_Normal_Equation).pdf\"),\n",
    "    PyPDFLoader(\"files/cs229/CS229_Note_Apr_8,_2020_(Linear_Regression_&_Normal_Equation).pdf\"),\n",
    "    PyPDFLoader(\"files/cs229/CS229_Note_Apr_13,_2020_(Locally_Weighted_Regression_&_Logistic_Regression_&_Newton's_Method).pdf\"),\n",
    "    PyPDFLoader(\"files/cs229/CS229_Note_Apr_20,_2020_(Generative_Learning_Algorithms_&_Naive_Bayes).pdf\"),\n",
    "    PyPDFLoader(\"files/cs229/CS229_Note_Apr_22,_2020_(Laplace_Smoothing_&_Kernel_Methods).pdf\"),\n",
    "    PyPDFLoader(\"files/cs229/CS229_Note_Apr_27,_2020_(Kernel_Methods_&_SVM).pdf\"),\n",
    "    PyPDFLoader(\"files/cs229/CS229_Note_Apr_29,_2020_(Neural_Networks).pdf\"),\n",
    "]\n",
    "\n",
    "docs = []\n",
    "for loader in loaders:\n",
    "    docs.extend(loader.load())"
   ]
  },
  {
   "cell_type": "code",
   "execution_count": 5,
   "id": "bd74e537-98fe-4d52-ab73-6c663b307c12",
   "metadata": {},
   "outputs": [],
   "source": [
    "from langchain.text_splitter import RecursiveCharacterTextSplitter\n",
    "text_splitter = RecursiveCharacterTextSplitter(chunk_size=1500,chunk_overlap=150)"
   ]
  },
  {
   "cell_type": "code",
   "execution_count": 6,
   "id": "46512055-cd95-4134-8949-c0906f7bea25",
   "metadata": {},
   "outputs": [],
   "source": [
    "splits = text_splitter.split_documents(docs)"
   ]
  },
  {
   "cell_type": "code",
   "execution_count": 13,
   "id": "119de940-7697-4d79-a57b-dc0a963e2d6f",
   "metadata": {},
   "outputs": [],
   "source": [
    "from langchain.vectorstores import Chroma\n",
    "from langchain.embeddings.openai import OpenAIEmbeddings\n",
    "persist_directory = 'docs/chroma/'\n",
    "embedding = OpenAIEmbeddings()\n",
    "vectordb = Chroma(persist_directory=persist_directory, embedding_function=embedding)"
   ]
  },
  {
   "cell_type": "code",
   "execution_count": 15,
   "id": "34a2e01a-253e-46b8-bc54-f703be94876b",
   "metadata": {},
   "outputs": [
    {
     "data": {
      "text/plain": [
       "0"
      ]
     },
     "execution_count": 15,
     "metadata": {},
     "output_type": "execute_result"
    }
   ],
   "source": [
    "vectordb._collection.count()"
   ]
  },
  {
   "cell_type": "code",
   "execution_count": 19,
   "id": "f43bb33a-ea0c-4f35-b02c-17fb254b9dc6",
   "metadata": {},
   "outputs": [
    {
     "data": {
      "text/plain": [
       "['d47dd5a4-52c3-11ee-b36f-e073e70bf171',\n",
       " 'd47dd5a5-52c3-11ee-a9cf-e073e70bf171',\n",
       " 'd47dd5a6-52c3-11ee-b92c-e073e70bf171',\n",
       " 'd47dd5a7-52c3-11ee-964b-e073e70bf171',\n",
       " 'd47dd5a8-52c3-11ee-b8aa-e073e70bf171',\n",
       " 'd47dd5a9-52c3-11ee-aebc-e073e70bf171',\n",
       " 'd47dd5aa-52c3-11ee-93bd-e073e70bf171',\n",
       " 'd47dd5ab-52c3-11ee-a540-e073e70bf171',\n",
       " 'd47dd5ac-52c3-11ee-bd18-e073e70bf171',\n",
       " 'd47dd5ad-52c3-11ee-a4b0-e073e70bf171',\n",
       " 'd47dd5ae-52c3-11ee-9540-e073e70bf171',\n",
       " 'd47dd5af-52c3-11ee-9399-e073e70bf171',\n",
       " 'd47dd5b0-52c3-11ee-ac1e-e073e70bf171',\n",
       " 'd47dd5b1-52c3-11ee-a7e6-e073e70bf171',\n",
       " 'd47dd5b2-52c3-11ee-bfb2-e073e70bf171',\n",
       " 'd47dd5b3-52c3-11ee-a340-e073e70bf171',\n",
       " 'd47dd5b4-52c3-11ee-8cc8-e073e70bf171',\n",
       " 'd47dd5b5-52c3-11ee-a18c-e073e70bf171',\n",
       " 'd47dd5b6-52c3-11ee-90b3-e073e70bf171',\n",
       " 'd47dd5b7-52c3-11ee-b827-e073e70bf171',\n",
       " 'd47dd5b8-52c3-11ee-bae4-e073e70bf171',\n",
       " 'd47dd5b9-52c3-11ee-ac07-e073e70bf171',\n",
       " 'd47dd5ba-52c3-11ee-a43c-e073e70bf171',\n",
       " 'd47dd5bb-52c3-11ee-81e3-e073e70bf171',\n",
       " 'd47dd5bc-52c3-11ee-ae24-e073e70bf171',\n",
       " 'd47dd5bd-52c3-11ee-9e47-e073e70bf171',\n",
       " 'd47dd5be-52c3-11ee-a6e2-e073e70bf171',\n",
       " 'd47dd5bf-52c3-11ee-bd91-e073e70bf171',\n",
       " 'd47dd5c0-52c3-11ee-a28f-e073e70bf171',\n",
       " 'd47dd5c1-52c3-11ee-b5b0-e073e70bf171']"
      ]
     },
     "execution_count": 19,
     "metadata": {},
     "output_type": "execute_result"
    }
   ],
   "source": [
    "vectordb.add_documents(splits)"
   ]
  },
  {
   "cell_type": "code",
   "execution_count": 20,
   "id": "922b469d-8a30-4594-9108-247668e7572a",
   "metadata": {},
   "outputs": [
    {
     "data": {
      "text/plain": [
       "30"
      ]
     },
     "execution_count": 20,
     "metadata": {},
     "output_type": "execute_result"
    }
   ],
   "source": [
    "vectordb._collection.count()"
   ]
  },
  {
   "cell_type": "code",
   "execution_count": 21,
   "id": "1a62a634-f602-44e7-83b8-d931d90a7269",
   "metadata": {},
   "outputs": [
    {
     "data": {
      "text/plain": [
       "3"
      ]
     },
     "execution_count": 21,
     "metadata": {},
     "output_type": "execute_result"
    }
   ],
   "source": [
    "question = \"What are major topics for this class?\"\n",
    "docs = vectordb.similarity_search(question,k=3)\n",
    "len(docs)"
   ]
  },
  {
   "cell_type": "code",
   "execution_count": 28,
   "id": "ec0d48f6-72ce-41d9-9f8b-042f2721e870",
   "metadata": {},
   "outputs": [],
   "source": [
    "from langchain.chains import RetrievalQA\n",
    "llm = ChatOpenAI(model_name='gpt-3.5-turbo', temperature=0)"
   ]
  },
  {
   "cell_type": "code",
   "execution_count": 29,
   "id": "309df016-7159-4899-af50-6c72c9c41daa",
   "metadata": {},
   "outputs": [],
   "source": [
    "qa_chain = RetrievalQA.from_chain_type(\n",
    "    llm,\n",
    "    retriever=vectordb.as_retriever()\n",
    ")"
   ]
  },
  {
   "cell_type": "code",
   "execution_count": 30,
   "id": "f405b3ee-8052-4961-adee-0ea427e509ff",
   "metadata": {},
   "outputs": [],
   "source": [
    "result = qa_chain({'query':question})"
   ]
  },
  {
   "cell_type": "code",
   "execution_count": 31,
   "id": "c0dcfe33-f245-46c2-ab6f-a9db7c440dff",
   "metadata": {},
   "outputs": [
    {
     "data": {
      "text/plain": [
       "{'query': 'What are major topics for this class?',\n",
       " 'result': 'The major topics for this class include:\\n1. Histograms and classification\\n2. Linear Support Vector Machines (LSVM)\\n3. Generative Learning Algorithms\\n4. Gaussian Discriminant Analysis (GDA)\\n5. Logistic Regression\\n6. Locally Weighted Regression\\n7. Parametric and Nonparametric learning algorithms\\n8. Linear Regression\\n9. Batch and Stochastic Gradient Descent\\n10. Normal equation\\n11. Supervised Learning\\n12. Classification and Regression output\\n13. Objective Functions\\n14. Gradient Descent algorithms'}"
      ]
     },
     "execution_count": 31,
     "metadata": {},
     "output_type": "execute_result"
    }
   ],
   "source": [
    "result"
   ]
  },
  {
   "cell_type": "code",
   "execution_count": 32,
   "id": "b8f19b27-4771-476b-bfde-7513c0d8f7d5",
   "metadata": {},
   "outputs": [],
   "source": [
    "from langchain.prompts import PromptTemplate\n",
    "\n",
    "# Build prompt\n",
    "template = \"\"\"Use the following pieces of context to answer the question at the end. If you don't know the answer, just say that you don't know, don't try to make up an answer. Use three sentences maximum. Keep the answer as concise as possible. Always say \"thanks for asking!\" at the end of the answer. \n",
    "{context}\n",
    "Question: {question}\n",
    "Helpful Answer:\"\"\"\n",
    "QA_CHAIN_PROMPT = PromptTemplate.from_template(template)\n"
   ]
  },
  {
   "cell_type": "code",
   "execution_count": 33,
   "id": "a7ebe48b-9767-48f9-85f0-2252b6852a35",
   "metadata": {},
   "outputs": [],
   "source": [
    "# Run chain\n",
    "qa_chain = RetrievalQA.from_chain_type(\n",
    "    llm,\n",
    "    retriever=vectordb.as_retriever(),\n",
    "    return_source_documents=True,\n",
    "    chain_type_kwargs={\"prompt\": QA_CHAIN_PROMPT}\n",
    ")"
   ]
  },
  {
   "cell_type": "code",
   "execution_count": 34,
   "id": "0e504441-f2b1-4c9d-b4b2-08bb6445c701",
   "metadata": {},
   "outputs": [],
   "source": [
    "question = \"Is probability a class topic?\""
   ]
  },
  {
   "cell_type": "code",
   "execution_count": 35,
   "id": "3002fbca-1b32-4b91-b435-fc1462c46c42",
   "metadata": {},
   "outputs": [],
   "source": [
    "result = qa_chain({\"query\": question})"
   ]
  },
  {
   "cell_type": "code",
   "execution_count": 36,
   "id": "ec8bd46c-a395-4704-9b16-ae4cd0cbd318",
   "metadata": {},
   "outputs": [
    {
     "data": {
      "text/plain": [
       "{'query': 'Is probability a class topic?',\n",
       " 'result': \"I don't know. Thanks for asking!\",\n",
       " 'source_documents': [Document(page_content='GenerativeLearningAlgorithmsGaussianDiscriminantAnalysisGBAGenerativeDiscriminantcomparisonNaiveBayesExampletumordetectionlogisticregressionwigDiscriminativeLearningAlgorithmlearnspcylzorlearnshowgodirectlyxyGenerativeLearningAlgorithmbeamsPCxlypays5tclasspriorPCxlyPtygenerativefeaturesclassmumPlylydiscriminativeBagesRuleWurmply111PCxlyDpcyDpoxpadpartyDplyDpcxlyoplyDGaussianDiscriminantAnalysisGDASupposeXERDdropXLconventionAssumepalyisGaussianNLFEEERdNHpixE.EEeeeaoµ', metadata={'page': 0, 'source': 'files/cs229/CS229_Note_Apr_20,_2020_(Generative_Learning_Algorithms_&_Naive_Bayes).pdf'}),\n",
       "  Document(page_content=\"worksforallgeneralizedlinearmethodsNaiveBayesFeaturevectorxEnglishdietitconehotvealXEfoydXiIwordiappearsinemailwanttomodelplxlyply2possiblevalueofxKeyassumptionXi'sareconditionallyindependentgiverypXiXdPCX.lypCX2lxiypCXdlXiX2yJµpcx.lypixelyplxd.lydITPhilginParametersjiyyPCxj.gryljlyoPxj2lyologPly_YJointLikelihoodLcdgdilyIIPhiylogjiy9ye.FIfgciigrynj1y1194gukEhSydI\", metadata={'page': 4, 'source': 'files/cs229/CS229_Note_Apr_20,_2020_(Generative_Learning_Algorithms_&_Naive_Bayes).pdf'}),\n",
       "  Document(page_content=\"Parameters0gplyD0k1goPCxjekly_oChanceofwordjbeingkifyoAssumethatdoesnotdependonjindependentofj9k1g4PCxjeklyINILE5011gcihogj.ficijgyeotfxikwhenyofEi15ggdIoLaplacesmoothingcofwordswhenyeoXjindexofthejthwordintheemailOriginalPartyIIpcxjlyjPCxiilyjpcy.royPCx3llyoJENewmodelPlxly1pixlyskernelMethodsSVMxxilinearFnKatia.it1hXOotfixOsxt0330143featuremappingholyOoOosOsO'load\", metadata={'page': 2, 'source': 'files/cs229/CS229_Note_Apr_22,_2020_(Laplace_Smoothing_&_Kernel_Methods).pdf'}),\n",
       "  Document(page_content=\"PLY55001151EyTO015500182PLY55001150oyo45500151PartyDpixlyD0yply119To toPcxlyoTlpcxjlyDOLaplaceSmoothingI's11XESiIo's11EstimatePCjIfkjIntkPCXEDspacesizeBacktoNaiveBayesjlyoIfetgeoIIlyKo2XiEflKsizeg400feet4002800too300IfDiscretevariableKxlyepcxj.lyMultinomialCuesbernoulliµfIgiftba'offdicesizeGRdidielengthofemailXjcficoifooSofarNlultivariteBernoullieventmodelNewMultinomialeventmodelGenerativemodelPlaycPCxlyMyPLxlyIIIPCxjlyPCxlyPtygenerativePlylydiscriminativewww.wrrrrnr\", metadata={'page': 1, 'source': 'files/cs229/CS229_Note_Apr_22,_2020_(Laplace_Smoothing_&_Kernel_Methods).pdf'})]}"
      ]
     },
     "execution_count": 36,
     "metadata": {},
     "output_type": "execute_result"
    }
   ],
   "source": [
    "result"
   ]
  }
 ],
 "metadata": {
  "kernelspec": {
   "display_name": "Python 3 (ipykernel)",
   "language": "python",
   "name": "python3"
  },
  "language_info": {
   "codemirror_mode": {
    "name": "ipython",
    "version": 3
   },
   "file_extension": ".py",
   "mimetype": "text/x-python",
   "name": "python",
   "nbconvert_exporter": "python",
   "pygments_lexer": "ipython3",
   "version": "3.11.4"
  }
 },
 "nbformat": 4,
 "nbformat_minor": 5
}
