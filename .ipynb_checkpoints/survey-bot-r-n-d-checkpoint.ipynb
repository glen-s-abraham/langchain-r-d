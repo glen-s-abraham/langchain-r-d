{
 "cells": [
  {
   "cell_type": "code",
   "execution_count": 1,
   "id": "91f4bde1-a02d-4432-bba8-a31022f63202",
   "metadata": {},
   "outputs": [],
   "source": [
    "import openai\n",
    "import os\n",
    "from  dotenv import load_dotenv,find_dotenv\n",
    "load_dotenv(find_dotenv(),override=True)\n",
    "openai.api_key = os.environ['OPENAI_API_KEY']\n",
    "\n",
    "def get_completion(prompt,model='gpt-3.5-turbo'):\n",
    "    messages = [{\"role\":\"user\",\"content\":prompt}]\n",
    "    response=openai.ChatCompletion.create(\n",
    "        model=model,\n",
    "        messages=messages,\n",
    "        temperature=0\n",
    "    )\n",
    "    return response.choices[0].message['content']\n",
    "\n",
    "def get_completion_from_messages(messages,model='gpt-3.5-turbo'):\n",
    "    response=openai.ChatCompletion.create(\n",
    "        model=model,\n",
    "        messages=messages,\n",
    "        temperature=0\n",
    "    )\n",
    "    return response.choices[0].message['content']"
   ]
  },
  {
   "cell_type": "code",
   "execution_count": null,
   "id": "1848997f-eaaf-48be-a412-ce63345ddfdf",
   "metadata": {},
   "outputs": [],
   "source": [
    "def generate_system_prompt(question,answer):\n",
    "    system_prompt = f'''\n",
    "        You are an expert interviewer.\n",
    "        consider the following context provided in ````.\n",
    "        CONTEXT:```` \n",
    "            You are interviewing an expert actor.all you wish to know about is information\n",
    "            regarding his career.avoid any personal matters at all costs.Identify and redirect\n",
    "            the interviewee back to the relevant context in case he tries to move away from the topics.\n",
    "        ````\n",
    "        your task is to generate follow up questions based on the user input.\n",
    "        Step 1 - analyze the previous question provided in ````\n",
    "            ````{question}````\n",
    "        Step 2 - analyze the previous answer provided in ````\n",
    "            ````{anser}````\n",
    "        Step 3 - analyze wether the answer is satisifiable for the question\n",
    "    \n",
    "        Step 4 - if anwer is satisifiable generate and return another question based on the context.\n",
    "    \n",
    "        Step 5 - if the answer is not satisifable reframe the question in a more simpler manner.\n",
    "    \n",
    "        output the new question as response along woth ansers to the steps\n",
    "    '''\n",
    "    return system_prompt"
   ]
  }
 ],
 "metadata": {
  "kernelspec": {
   "display_name": "Python 3 (ipykernel)",
   "language": "python",
   "name": "python3"
  },
  "language_info": {
   "codemirror_mode": {
    "name": "ipython",
    "version": 3
   },
   "file_extension": ".py",
   "mimetype": "text/x-python",
   "name": "python",
   "nbconvert_exporter": "python",
   "pygments_lexer": "ipython3",
   "version": "3.10.12"
  }
 },
 "nbformat": 4,
 "nbformat_minor": 5
}
