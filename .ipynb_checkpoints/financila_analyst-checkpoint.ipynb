{
 "cells": [
  {
   "cell_type": "code",
   "execution_count": 18,
   "id": "dee8962d-0f65-4bd3-a842-1ce7d0939c89",
   "metadata": {},
   "outputs": [
    {
     "data": {
      "text/plain": [
       "True"
      ]
     },
     "execution_count": 18,
     "metadata": {},
     "output_type": "execute_result"
    }
   ],
   "source": [
    "import os\n",
    "import yfinance as yf\n",
    "import openai\n",
    "from  dotenv import load_dotenv,find_dotenv\n",
    "load_dotenv(find_dotenv(),override=True)"
   ]
  },
  {
   "cell_type": "code",
   "execution_count": 23,
   "id": "333e4a3f-2cd8-48fd-86ad-a18d0c381564",
   "metadata": {},
   "outputs": [],
   "source": [
    "def get_response(prompt,model = 'gpt-3.5-turbo'):\n",
    "   messages = [{\"role\":\"user\",\"content\":prompt}]\n",
    "   res = openai.ChatCompletion.create(\n",
    "      model=model,\n",
    "      messages=messages,\n",
    "      temperature=0  \n",
    "   )\n",
    "   print(res)"
   ]
  },
  {
   "cell_type": "code",
   "execution_count": 25,
   "id": "da986377-b49b-4c57-abdc-30815123d734",
   "metadata": {},
   "outputs": [],
   "source": [
    "openai.api_key= os.getenv('OPENAI_API_KEY')"
   ]
  },
  {
   "cell_type": "code",
   "execution_count": 20,
   "id": "ad97bd8e-6463-41e0-883a-9e3bd7d3cbb4",
   "metadata": {},
   "outputs": [],
   "source": [
    "def fetch_financial_data(ticker):\n",
    "    ticker_info= data = yf.Ticker(ticker)\n",
    "    return ticker_info"
   ]
  },
  {
   "cell_type": "code",
   "execution_count": 21,
   "id": "efe8aa37-84af-4ebd-bc78-79e33f51edaa",
   "metadata": {},
   "outputs": [],
   "source": [
    "ticker_data = fetch_financial_data('ITC.NS')"
   ]
  },
  {
   "cell_type": "code",
   "execution_count": 22,
   "id": "958b1be3-9ad3-46cd-891a-844db7b1df55",
   "metadata": {},
   "outputs": [],
   "source": [
    "prompt = f'''\n",
    "    Consider yourself as a financial analyst.go through the following balance sheet provided in backticks. and analyze the following\n",
    "    - Periodic changes and trends\n",
    "    - key rations\n",
    "    - risks if any\n",
    "    - overal outlook\n",
    "    BALANCE SHEET:```{ticker_data.balance_sheet}```\n",
    "'''"
   ]
  },
  {
   "cell_type": "code",
   "execution_count": 26,
   "id": "3b38c115-51d1-42e3-a09c-105e4139748d",
   "metadata": {},
   "outputs": [
    {
     "name": "stdout",
     "output_type": "stream",
     "text": [
      "{\n",
      "  \"id\": \"chatcmpl-7tZRewfGsHq3SKSTdLDcaAbCW6xte\",\n",
      "  \"object\": \"chat.completion\",\n",
      "  \"created\": 1693478646,\n",
      "  \"model\": \"gpt-3.5-turbo-0613\",\n",
      "  \"choices\": [\n",
      "    {\n",
      "      \"index\": 0,\n",
      "      \"message\": {\n",
      "        \"role\": \"assistant\",\n",
      "        \"content\": \"Periodic changes and trends:\\n- The number of ordinary shares and share issued has remained relatively stable over the years.\\n- Total debt has increased from 2,497,400,000 in 2020 to 3,060,400,000 in 2023.\\n- Tangible book value has increased from 575,497,100,000 in 2021 to 656,296,200,000 in 2023.\\n- Invested capital has increased from 603,574,500,000 in 2021 to 691,940,700,000 in 2023.\\n- Cash and cash equivalents have increased from 2,904,200,000 in 2021 to 4,633,500,000 in 2023.\\n\\nKey ratios:\\n- Debt-to-equity ratio: Total debt divided by tangible book value. This ratio can be calculated for each year to assess the company's leverage and financial risk.\\n- Return on invested capital: Net income divided by invested capital. This ratio can be calculated for each year to evaluate the company's profitability and efficiency in generating returns from its investments.\\n\\nRisks:\\n- The increasing total debt may indicate higher financial risk for the company, as it may have to allocate more resources towards debt servicing.\\n- The company's reliance on short-term investments for cash may expose it to market volatility and liquidity risks.\\n\\nOverall outlook:\\n- The increasing tangible book value and invested capital suggest growth and expansion for the company.\\n- The increasing cash and cash equivalents indicate improved liquidity and financial stability.\\n- However, the increasing total debt raises concerns about the company's financial risk and ability to manage its debt obligations. This should be closely monitored.\\n\\nNote: The analysis provided is based on the limited information provided in the balance sheet. A more comprehensive analysis would require additional financial statements and information.\"\n",
      "      },\n",
      "      \"finish_reason\": \"stop\"\n",
      "    }\n",
      "  ],\n",
      "  \"usage\": {\n",
      "    \"prompt_tokens\": 649,\n",
      "    \"completion_tokens\": 370,\n",
      "    \"total_tokens\": 1019\n",
      "  }\n",
      "}\n"
     ]
    }
   ],
   "source": [
    "res = get_response(prompt)"
   ]
  }
 ],
 "metadata": {
  "kernelspec": {
   "display_name": "Python 3 (ipykernel)",
   "language": "python",
   "name": "python3"
  },
  "language_info": {
   "codemirror_mode": {
    "name": "ipython",
    "version": 3
   },
   "file_extension": ".py",
   "mimetype": "text/x-python",
   "name": "python",
   "nbconvert_exporter": "python",
   "pygments_lexer": "ipython3",
   "version": "3.11.4"
  }
 },
 "nbformat": 4,
 "nbformat_minor": 5
}
