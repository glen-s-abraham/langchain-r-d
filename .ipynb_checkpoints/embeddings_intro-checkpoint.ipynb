{
 "cells": [
  {
   "cell_type": "code",
   "execution_count": 12,
   "id": "c120c52b-a64b-4e3f-93e9-b6cd205861af",
   "metadata": {},
   "outputs": [
    {
     "data": {
      "text/plain": [
       "True"
      ]
     },
     "execution_count": 12,
     "metadata": {},
     "output_type": "execute_result"
    }
   ],
   "source": [
    "import openai\n",
    "import os\n",
    "import numpy as np\n",
    "from  dotenv import load_dotenv,find_dotenv\n",
    "from langchain.embeddings import OpenAIEmbeddings\n",
    "load_dotenv(find_dotenv(),override=True)\n"
   ]
  },
  {
   "cell_type": "code",
   "execution_count": 7,
   "id": "af63a17b-787e-4c12-aa4a-2296bd062216",
   "metadata": {},
   "outputs": [],
   "source": [
    "ln1=\"Missing flamingo found by the swimming pool\"\n",
    "ln2=\"Sea otter spotted on surfboard by beach\"\n",
    "ln3=\"Baby panda enjoys boat ride\"\n",
    "\n",
    "ln4=\"Breakfast themed food truck beloved by all\"\n",
    "ln5=\"New curry restaurant aims to pleas!\"\n",
    "\n",
    "total_texts = [ln1,ln2,ln3,ln4,ln5]"
   ]
  },
  {
   "cell_type": "code",
   "execution_count": 13,
   "id": "fdad9eeb-5e28-4a24-932e-d235794c0049",
   "metadata": {},
   "outputs": [],
   "source": [
    "embeddings = []\n",
    "embedding_model = OpenAIEmbeddings()\n",
    "for text in total_texts:\n",
    "    embeddings.append(embedding_model.embed_query(text))\n",
    "\n",
    "embeddings_arr = np.array(embeddings)\n"
   ]
  },
  {
   "cell_type": "code",
   "execution_count": 14,
   "id": "3cc0fc99-f3d8-4f88-af67-56819cf4f42a",
   "metadata": {},
   "outputs": [
    {
     "name": "stdout",
     "output_type": "stream",
     "text": [
      "Shape:(5, 1536)\n"
     ]
    }
   ],
   "source": [
    "print(f'Shape:{embeddings_arr.shape}')"
   ]
  },
  {
   "cell_type": "code",
   "execution_count": 15,
   "id": "24034de4-e015-4150-a4a9-6f50b7966580",
   "metadata": {},
   "outputs": [],
   "source": [
    "from sklearn.decomposition import PCA\n",
    "\n",
    "PCA_model = PCA(n_components=2)\n",
    "PCA_model.fit(embeddings_arr)\n",
    "new_values = PCA_model.transform(embeddings_arr)"
   ]
  },
  {
   "cell_type": "code",
   "execution_count": 16,
   "id": "72ac743a-7fbe-42c6-9d17-387a454dd92c",
   "metadata": {},
   "outputs": [
    {
     "name": "stdout",
     "output_type": "stream",
     "text": [
      "[[-0.20553934  0.3528725 ]\n",
      " [-0.2239241  -0.11736279]\n",
      " [-0.19793128 -0.21801391]\n",
      " [ 0.27118869 -0.10973238]\n",
      " [ 0.35620603  0.09223658]]\n"
     ]
    }
   ],
   "source": [
    "print(new_values)"
   ]
  },
  {
   "cell_type": "code",
   "execution_count": 26,
   "id": "5a1c7225-8e21-4731-ac9d-e90b99b25e8a",
   "metadata": {},
   "outputs": [
    {
     "name": "stdout",
     "output_type": "stream",
     "text": [
      "[-0.20553934  0.3528725 ]\n",
      "[-0.2239241  -0.11736279]\n",
      "[-0.19793128 -0.21801391]\n",
      "[ 0.27118869 -0.10973238]\n",
      "[0.35620603 0.09223658]\n"
     ]
    },
    {
     "data": {
      "image/png": "[encoded data removed]",
      "text/plain": [
       "<Figure size 640x480 with 1 Axes>"
      ]
     },
     "metadata": {},
     "output_type": "display_data"
    }
   ],
   "source": [
    "import matplotlib.pyplot as plt\n",
    "import mplcursors\n",
    "\n",
    "for i,value in enumerate(new_values):\n",
    "    print(value)\n",
    "    plt.scatter(value[0],value[1],data=f\"ln{i}\",c='blue)"
   ]
  }
 ],
 "metadata": {
  "kernelspec": {
   "display_name": "Python 3 (ipykernel)",
   "language": "python",
   "name": "python3"
  },
  "language_info": {
   "codemirror_mode": {
    "name": "ipython",
    "version": 3
   },
   "file_extension": ".py",
   "mimetype": "text/x-python",
   "name": "python",
   "nbconvert_exporter": "python",
   "pygments_lexer": "ipython3",
   "version": "3.11.4"
  }
 },
 "nbformat": 4,
 "nbformat_minor": 5
}
