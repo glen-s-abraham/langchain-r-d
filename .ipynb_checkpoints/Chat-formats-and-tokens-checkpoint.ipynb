{
 "cells": [
  {
   "cell_type": "code",
   "execution_count": 2,
   "id": "49f057a7-826e-44d7-b82a-466a4e1bf0ff",
   "metadata": {},
   "outputs": [],
   "source": [
    "import openai\n",
    "import os\n",
    "from  dotenv import load_dotenv,find_dotenv\n",
    "load_dotenv(find_dotenv(),override=True)\n",
    "openai.api_key = os.environ['OPENAI_API_KEY']"
   ]
  },
  {
   "cell_type": "code",
   "execution_count": null,
   "id": "1abfb060-2701-4347-9b33-1febd0e18490",
   "metadata": {},
   "outputs": [],
   "source": [
    "def get_completion(prompt,model='gpt-3.5-turbo'):\n",
    "    messages = [{\"role\":\"user\",\"content\":prompt}]\n",
    "    response=openai.ChatCompletion.create(\n",
    "        model=model\n",
    "        messages=messages,\n",
    "        temperature=0\n",
    "    )"
   ]
  }
 ],
 "metadata": {
  "kernelspec": {
   "display_name": "Python 3 (ipykernel)",
   "language": "python",
   "name": "python3"
  },
  "language_info": {
   "codemirror_mode": {
    "name": "ipython",
    "version": 3
   },
   "file_extension": ".py",
   "mimetype": "text/x-python",
   "name": "python",
   "nbconvert_exporter": "python",
   "pygments_lexer": "ipython3",
   "version": "3.10.12"
  }
 },
 "nbformat": 4,
 "nbformat_minor": 5
}
