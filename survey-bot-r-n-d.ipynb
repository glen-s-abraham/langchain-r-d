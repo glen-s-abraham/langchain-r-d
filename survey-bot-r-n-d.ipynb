{
 "cells": [
  {
   "cell_type": "code",
   "execution_count": 1,
   "id": "91f4bde1-a02d-4432-bba8-a31022f63202",
   "metadata": {},
   "outputs": [],
   "source": [
    "import openai\n",
    "import os\n",
    "from  dotenv import load_dotenv,find_dotenv\n",
    "load_dotenv(find_dotenv(),override=True)\n",
    "openai.api_key = os.environ['OPENAI_API_KEY']\n",
    "\n",
    "def get_completion(prompt,model='gpt-3.5-turbo'):\n",
    "    messages = [{\"role\":\"user\",\"content\":prompt}]\n",
    "    response=openai.ChatCompletion.create(\n",
    "        model=model,\n",
    "        messages=messages,\n",
    "        temperature=0\n",
    "    )\n",
    "    return response.choices[0].message['content']\n",
    "\n",
    "def get_completion_from_messages(messages,model='gpt-3.5-turbo'):\n",
    "    response=openai.ChatCompletion.create(\n",
    "        model=model,\n",
    "        messages=messages,\n",
    "        temperature=0\n",
    "    )\n",
    "    return response.choices[0].message['content']"
   ]
  },
  {
   "cell_type": "code",
   "execution_count": 4,
   "id": "1848997f-eaaf-48be-a412-ce63345ddfdf",
   "metadata": {},
   "outputs": [],
   "source": [
    "def generate_system_prompt(question,answer):\n",
    "    system_prompt = f'''\n",
    "        You are an expert interviewer.\n",
    "        consider the following context provided in ````.\n",
    "        CONTEXT:```` \n",
    "            You are interviewing an expert actor.all you wish to know about is information\n",
    "            regarding his career.avoid any personal matters at all costs.Identify and redirect\n",
    "            the interviewee back to the relevant context in case he tries to move away from the topics.\n",
    "        ````\n",
    "        your task is to generate follow up questions based on the user input.\n",
    "        Step 1 - analyze the previous question provided in ````\n",
    "            ````{question}````\n",
    "        Step 2 - analyze the previous answer provided in ````\n",
    "            ````{answer}````\n",
    "        Step 3 - analyze wether the answer is satisifiable for the question\n",
    "    \n",
    "        Step 4 - if anwer is satisifiable generate and return another question based on the context.\n",
    "    \n",
    "        Step 5 - if the answer is not satisifable reframe the question in a more simpler manner.\n",
    "    \n",
    "        output the new question as response along woth ansers to the steps\n",
    "    '''\n",
    "    return system_prompt"
   ]
  },
  {
   "cell_type": "code",
   "execution_count": 6,
   "id": "7162aec2-9fda-45f9-8545-c4a0298c0e7d",
   "metadata": {},
   "outputs": [
    {
     "name": "stdout",
     "output_type": "stream",
     "text": [
      "Step 1 - Analyzing the previous question:\n",
      "The previous question is \"What is your next project?\"\n",
      "\n",
      "Step 2 - Analyzing the previous answer:\n",
      "The previous answer is \"In Bollywood.\"\n",
      "\n",
      "Step 3 - Analyzing the satisfiability:\n",
      "The answer is satisfiable for the question as it provides the information about the actor's next project.\n",
      "\n",
      "Step 4 - Generating another question:\n",
      "Based on the previous answer, a follow-up question could be:\n",
      "\"Can you tell us more about your upcoming project in Bollywood?\"\n",
      "\n",
      "Step 5 - Reframing the question:\n",
      "Since the answer is satisfiable, there is no need to reframe the question.\n",
      "\n",
      "Output:\n",
      "Question: \"Can you tell us more about your upcoming project in Bollywood?\"\n",
      "Answer to Step 1: \"What is your next project?\"\n",
      "Answer to Step 2: \"In Bollywood.\"\n",
      "Answer to Step 3: The answer is satisfiable.\n",
      "Answer to Step 4: \"Can you tell us more about your upcoming project in Bollywood?\"\n"
     ]
    }
   ],
   "source": [
    "messages = [\n",
    "    {'role':'system','content':generate_system_prompt('What is your next project?','In bollywood')}\n",
    "]\n",
    "response = get_completion_from_messages(messages)\n",
    "print(response)"
   ]
  },
  {
   "cell_type": "code",
   "execution_count": 7,
   "id": "57fa50c4-ca84-4b29-96f3-45f3e7b3b80e",
   "metadata": {},
   "outputs": [
    {
     "name": "stdout",
     "output_type": "stream",
     "text": [
      "Step 1 - Analyzing the previous question:\n",
      "The previous question is asking for more information about the interviewee's upcoming project in Bollywood.\n",
      "\n",
      "Step 2 - Analyzing the previous answer:\n",
      "The previous answer states that the upcoming project is a comedy drama movie by Karan RGV, but the interviewee is not able to reveal any more details at the moment.\n",
      "\n",
      "Step 3 - Is the answer satisfying for the question?\n",
      "No, the answer is not satisfying as it does not provide any additional information about the upcoming project.\n",
      "\n",
      "Step 4 - Generating another question based on the context:\n",
      "Can you tell us when the audience can expect to see the release of your upcoming comedy drama movie in Bollywood?\n",
      "\n",
      "Step 5 - Reframing the question in a simpler manner:\n",
      "When will your upcoming comedy drama movie in Bollywood be released?\n"
     ]
    }
   ],
   "source": [
    "messages = [\n",
    "    {'role':'system','content':generate_system_prompt(\"Can you tell us more about your upcoming project in Bollywood?\",\"It's a comedy dramma movie by karan rgv.and thats all i am able to reveal at the moment\")}\n",
    "]\n",
    "response = get_completion_from_messages(messages)\n",
    "print(response)"
   ]
  },
  {
   "cell_type": "code",
   "execution_count": 8,
   "id": "88273403-b1d6-4c60-9ea1-6bd28aa60181",
   "metadata": {},
   "outputs": [
    {
     "name": "stdout",
     "output_type": "stream",
     "text": [
      "Step 1 - Analyzing the previous question:\n",
      "The previous question is asking about the release date of the interviewee's upcoming comedy drama movie in Bollywood.\n",
      "\n",
      "Step 2 - Analyzing the previous answer:\n",
      "The previous answer is \"Yes my house is in Mumbai\". This answer does not provide any information about the release date of the movie.\n",
      "\n",
      "Step 3 - Answer satisfaction:\n",
      "The answer is not satisfactory as it does not provide the information requested in the question.\n",
      "\n",
      "Step 4 - Generating a new question:\n",
      "Based on the context of the interview being about the interviewee's career, a follow-up question could be:\n",
      "\n",
      "\"Can you tell us more about your upcoming comedy drama movie in Bollywood? What is the storyline or concept behind it?\"\n",
      "\n",
      "Step 5 - Reframing the question:\n",
      "To make the question simpler and more direct, it can be reframed as:\n",
      "\n",
      "\"When is your upcoming comedy drama movie in Bollywood going to be released?\"\n",
      "\n",
      "Output:\n",
      "Previous question: \"When will your upcoming comedy drama movie in Bollywood be released?\"\n",
      "Previous answer: \"Yes my house is in Mumbai\"\n",
      "Answer satisfaction: Not satisfied\n",
      "New question: \"When is your upcoming comedy drama movie in Bollywood going to be released?\"\n"
     ]
    }
   ],
   "source": [
    "messages = [\n",
    "    {'role':'system','content':generate_system_prompt(\"When will your upcoming comedy drama movie in Bollywood be released?\",\"Yes my house is in mumbai\")}\n",
    "]\n",
    "response = get_completion_from_messages(messages)\n",
    "print(response)"
   ]
  }
 ],
 "metadata": {
  "kernelspec": {
   "display_name": "Python 3 (ipykernel)",
   "language": "python",
   "name": "python3"
  },
  "language_info": {
   "codemirror_mode": {
    "name": "ipython",
    "version": 3
   },
   "file_extension": ".py",
   "mimetype": "text/x-python",
   "name": "python",
   "nbconvert_exporter": "python",
   "pygments_lexer": "ipython3",
   "version": "3.10.12"
  }
 },
 "nbformat": 4,
 "nbformat_minor": 5
}
