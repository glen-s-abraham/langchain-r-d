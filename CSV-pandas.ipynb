{
 "cells": [
  {
   "cell_type": "code",
   "execution_count": 13,
   "id": "6d53c425-a58a-4847-a89d-5ada194cab01",
   "metadata": {},
   "outputs": [],
   "source": [
    "import pandas as pd\n",
    "import sys\n",
    "sys.path.append('../..')\n",
    "\n",
    "data = pd.read_csv('C:/Users/iss211/llm/langchain-r-d/files/myntra_products_catalog.csv')\n",
    "top50 = data.head(50)"
   ]
  },
  {
   "cell_type": "code",
   "execution_count": 15,
   "id": "3d34b4af-e0f7-41c2-8f01-3209bdebb742",
   "metadata": {},
   "outputs": [],
   "source": [
    "top50.to_csv('C:/Users/iss211/llm/langchain-r-d/files/products_min.csv')"
   ]
  }
 ],
 "metadata": {
  "kernelspec": {
   "display_name": "Python 3 (ipykernel)",
   "language": "python",
   "name": "python3"
  },
  "language_info": {
   "codemirror_mode": {
    "name": "ipython",
    "version": 3
   },
   "file_extension": ".py",
   "mimetype": "text/x-python",
   "name": "python",
   "nbconvert_exporter": "python",
   "pygments_lexer": "ipython3",
   "version": "3.11.4"
  }
 },
 "nbformat": 4,
 "nbformat_minor": 5
}
