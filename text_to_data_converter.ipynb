{
 "cells": [
  {
   "cell_type": "code",
   "execution_count": null,
   "id": "a0839f8a-35c9-44ba-86d3-b65ccdcdba3f",
   "metadata": {},
   "outputs": [],
   "source": [
    "import pandas as pd\n",
    "import openai\n",
    "\n",
    "openai.api_key = \"YOUR_API_KEY\"\n",
    "#path = \"copy the path of the file from your drive after mounting with the drive\"\n",
    "\n",
    "# Load data from CSV file\n",
    "df = pd.read_csv(\"your_data_file.csv\")\n",
    "#or df = pd.read_csv(path)\n",
    "\n",
    "# Initialize an empty list to store the generated text\n",
    "generated_prompt = []\n",
    "generated_completion = []\n",
    "# Loop through each row in the dataset\n",
    "\n",
    "\n",
    "for index, row in df.iterrows():\n",
    "    # Create a prompt with the movie name\n",
    "    prompt = f\"Please write a short summary for the movie {row['movie_name']}.\"\n",
    "    \n",
    "    # Create a completion with the movie details\n",
    "    completion = f\"{row['movie_details']}. This movie was released on {row['release_date']} and directed by {row['movie_director']}. Its stars are {row['actors']} and belongs to the {row['movie_genre']} genre.\"\n",
    "    \n",
    "    # Append the prompt and completion to the generated text list\n",
    "    generated_prompt.append(prompt )\n",
    "    generated_completion.append(completion)\n",
    "\n",
    "\n",
    "# Add the generated text to a new column in the dataframe\n",
    "df['generated_prompt'] = generated_prompt\n",
    "df['generated_completion'] = generated_completion\n",
    "\n",
    "\n",
    "# Save the modified dataframe to a new CSV file\n",
    "df.to_csv(\"prepareddata.csv\", index=False)\n",
    "\n"
   ]
  }
 ],
 "metadata": {
  "kernelspec": {
   "display_name": "Python 3 (ipykernel)",
   "language": "python",
   "name": "python3"
  },
  "language_info": {
   "codemirror_mode": {
    "name": "ipython",
    "version": 3
   },
   "file_extension": ".py",
   "mimetype": "text/x-python",
   "name": "python",
   "nbconvert_exporter": "python",
   "pygments_lexer": "ipython3",
   "version": "3.11.4"
  }
 },
 "nbformat": 4,
 "nbformat_minor": 5
}
