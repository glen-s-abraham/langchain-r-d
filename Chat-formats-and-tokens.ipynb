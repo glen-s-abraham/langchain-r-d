{
 "cells": [
  {
   "cell_type": "code",
   "execution_count": 2,
   "id": "49f057a7-826e-44d7-b82a-466a4e1bf0ff",
   "metadata": {},
   "outputs": [],
   "source": [
    "import openai\n",
    "import os\n",
    "from  dotenv import load_dotenv,find_dotenv\n",
    "load_dotenv(find_dotenv(),override=True)\n",
    "openai.api_key = os.environ['OPENAI_API_KEY']"
   ]
  },
  {
   "cell_type": "code",
   "execution_count": 4,
   "id": "1abfb060-2701-4347-9b33-1febd0e18490",
   "metadata": {},
   "outputs": [],
   "source": [
    "def get_completion(prompt,model='gpt-3.5-turbo'):\n",
    "    messages = [{\"role\":\"user\",\"content\":prompt}]\n",
    "    response=openai.ChatCompletion.create(\n",
    "        model=model,\n",
    "        messages=messages,\n",
    "        temperature=0\n",
    "    )\n",
    "    return response.choices[0].message['content']"
   ]
  },
  {
   "cell_type": "code",
   "execution_count": 5,
   "id": "d5bf6809-7090-45af-942a-dd2391e2e0a4",
   "metadata": {},
   "outputs": [],
   "source": [
    "response = get_completion(\"What is the capital of france?\")"
   ]
  },
  {
   "cell_type": "code",
   "execution_count": 6,
   "id": "c23028aa-11a9-49ff-ae62-f24518d1c92a",
   "metadata": {},
   "outputs": [
    {
     "data": {
      "text/plain": [
       "'The capital of France is Paris.'"
      ]
     },
     "execution_count": 6,
     "metadata": {},
     "output_type": "execute_result"
    }
   ],
   "source": [
    "response"
   ]
  },
  {
   "cell_type": "code",
   "execution_count": 7,
   "id": "9e53117e-7121-4c2b-aebd-41749733ec98",
   "metadata": {},
   "outputs": [],
   "source": [
    "response = get_completion(\"reverse the word lollipop\")"
   ]
  },
  {
   "cell_type": "code",
   "execution_count": 8,
   "id": "ce6ea54d-61ca-4ca9-a314-f6f550c9d65f",
   "metadata": {},
   "outputs": [
    {
     "data": {
      "text/plain": [
       "'poppilol'"
      ]
     },
     "execution_count": 8,
     "metadata": {},
     "output_type": "execute_result"
    }
   ],
   "source": [
    "response"
   ]
  },
  {
   "cell_type": "code",
   "execution_count": 9,
   "id": "a3c532fb-d371-4202-9d24-1e3722e421f4",
   "metadata": {},
   "outputs": [],
   "source": [
    "response = get_completion(\"reverse the word l-o-l-l-i-p-o-p\")"
   ]
  },
  {
   "cell_type": "code",
   "execution_count": 10,
   "id": "93f76382-ac2b-49e2-8fa8-575d80332d83",
   "metadata": {},
   "outputs": [
    {
     "data": {
      "text/plain": [
       "'p-o-p-i-l-l-o-l'"
      ]
     },
     "execution_count": 10,
     "metadata": {},
     "output_type": "execute_result"
    }
   ],
   "source": [
    "response"
   ]
  }
 ],
 "metadata": {
  "kernelspec": {
   "display_name": "Python 3 (ipykernel)",
   "language": "python",
   "name": "python3"
  },
  "language_info": {
   "codemirror_mode": {
    "name": "ipython",
    "version": 3
   },
   "file_extension": ".py",
   "mimetype": "text/x-python",
   "name": "python",
   "nbconvert_exporter": "python",
   "pygments_lexer": "ipython3",
   "version": "3.10.12"
  }
 },
 "nbformat": 4,
 "nbformat_minor": 5
}
