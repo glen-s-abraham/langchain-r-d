{
 "cells": [
  {
   "cell_type": "code",
   "execution_count": 1,
   "id": "2f1aabd0-d1f5-488b-81c6-c091f8870968",
   "metadata": {},
   "outputs": [
    {
     "data": {
      "text/plain": [
       "True"
      ]
     },
     "execution_count": 1,
     "metadata": {},
     "output_type": "execute_result"
    }
   ],
   "source": [
    "import openai\n",
    "import os\n",
    "from  dotenv import load_dotenv,find_dotenv\n",
    "load_dotenv(find_dotenv(),override=True)"
   ]
  },
  {
   "cell_type": "code",
   "execution_count": 5,
   "id": "33260f65-132e-4cfd-9910-150b56f6750f",
   "metadata": {},
   "outputs": [],
   "source": [
    "from langchain.chat_models import ChatOpenAI\n",
    "from langchain.schema import(\n",
    "    AIMessage,\n",
    "    HumanMessage,\n",
    "    SystemMessage\n",
    ")\n",
    "gpt_client = ChatOpenAI(model='gpt-3.5-turbo',temperature=0.5,max_tokens=1024)"
   ]
  },
  {
   "cell_type": "code",
   "execution_count": 8,
   "id": "67bcc969-3b51-4f8d-b051-b431f31a8523",
   "metadata": {},
   "outputs": [
    {
     "name": "stdin",
     "output_type": "stream",
     "text": [
      "Queation 1: What books do yo read?\n",
      "What is the key points to look for in the question? to get an information regarding the persons't field of intrest like technology,fanatasy etc.\n"
     ]
    },
    {
     "name": "stdout",
     "output_type": "stream",
     "text": [
      "context: The question \"What books do you read?\" is asking the interviewee about their reading habits and preferences. The key points suggest that the interviewer is interested in gathering information about the person's field of interest, such as technology or fantasy. The question aims to understand the interviewee's reading preferences and potentially gain insights into their knowledge and interests related to specific topics.\n"
     ]
    },
    {
     "name": "stdin",
     "output_type": "stream",
     "text": [
      "Are you satisfied with the context? yes/no yes\n",
      "Queation 2: What is your occupation?\n",
      "What is the key points to look for in the question? to identify weather there are any correlation with the interviewee's reading habbits and occupation\n"
     ]
    },
    {
     "name": "stdout",
     "output_type": "stream",
     "text": [
      "context: The question \"What is your occupation?\" is asking the interviewee to provide information about their job or profession. The key points provided in the back ticks suggest that the interviewer is interested in understanding if there is any correlation between the interviewee's reading habits and their occupation. \n",
      "\n",
      "In this context, the interviewer may be trying to determine if there is a relationship between the type of work someone does and their reading habits. They may be looking for insights into whether certain occupations attract individuals who are more inclined to read or if reading habits can influence career choices. The interviewer may also be interested in understanding if reading is valued or necessary in the interviewee's field of work.\n"
     ]
    },
    {
     "name": "stdin",
     "output_type": "stream",
     "text": [
      "Are you satisfied with the context? yes/no yes\n",
      "Queation 3: What are your hobbies?\n",
      "What is the key points to look for in the question? Identify the relevance of hobbies with respect to occupation\n"
     ]
    },
    {
     "name": "stdout",
     "output_type": "stream",
     "text": [
      "context: As an interviewer, the question \"What are your hobbies?\" is a way to get to know the candidate on a personal level and understand their interests outside of work. The key point of identifying the relevance of hobbies with respect to occupation suggests that the interviewer wants to understand if the candidate's hobbies align with or complement their professional skills or industry. This question can provide insights into the candidate's personality, creativity, dedication, and potential transferable skills that could be valuable in the workplace. The interviewer may be looking for hobbies that demonstrate qualities like teamwork, leadership, problem-solving, or a strong work ethic. Overall, the question aims to assess the candidate's well-roundedness and how their hobbies may contribute to their professional success.\n"
     ]
    },
    {
     "name": "stdin",
     "output_type": "stream",
     "text": [
      "Are you satisfied with the context? yes/no yes\n",
      "Queation 4: exit\n",
      "What is the key points to look for in the question? exit\n"
     ]
    },
    {
     "name": "stdout",
     "output_type": "stream",
     "text": [
      "context: In this scenario, the question is simply \"exit\" and the key point also states \"exit.\" Based on this limited information, it appears that the individual is requesting to exit or terminate something. However, without further context, it is unclear what specifically they want to exit from. As an interviewer, you would need to ask follow-up questions to clarify the situation and understand the context in which the person wants to exit.\n"
     ]
    },
    {
     "name": "stdin",
     "output_type": "stream",
     "text": [
      "Are you satisfied with the context? yes/no yes\n"
     ]
    },
    {
     "name": "stdout",
     "output_type": "stream",
     "text": [
      "Exitng\n"
     ]
    },
    {
     "ename": "NameError",
     "evalue": "name 'time' is not defined",
     "output_type": "error",
     "traceback": [
      "\u001b[1;31m---------------------------------------------------------------------------\u001b[0m",
      "\u001b[1;31mNameError\u001b[0m                                 Traceback (most recent call last)",
      "Cell \u001b[1;32mIn[8], line 29\u001b[0m\n\u001b[0;32m     27\u001b[0m \u001b[38;5;28;01mif\u001b[39;00m question\u001b[38;5;241m.\u001b[39mlower() \u001b[38;5;129;01min\u001b[39;00m [\u001b[38;5;124m'\u001b[39m\u001b[38;5;124mquit\u001b[39m\u001b[38;5;124m'\u001b[39m,\u001b[38;5;124m'\u001b[39m\u001b[38;5;124mexit\u001b[39m\u001b[38;5;124m'\u001b[39m]:\n\u001b[0;32m     28\u001b[0m     \u001b[38;5;28mprint\u001b[39m(\u001b[38;5;124m'\u001b[39m\u001b[38;5;124mExitng\u001b[39m\u001b[38;5;124m'\u001b[39m)\n\u001b[1;32m---> 29\u001b[0m     \u001b[43mtime\u001b[49m\u001b[38;5;241m.\u001b[39msleep(\u001b[38;5;241m2\u001b[39m)\n\u001b[0;32m     30\u001b[0m     \u001b[38;5;28;01mbreak\u001b[39;00m\n\u001b[0;32m     31\u001b[0m questions\u001b[38;5;241m.\u001b[39mappend((i,question,key_points,inference))\n",
      "\u001b[1;31mNameError\u001b[0m: name 'time' is not defined"
     ]
    }
   ],
   "source": [
    "questions=[]\n",
    "i=1\n",
    "while True:\n",
    "    #collect the question\n",
    "    question=input(f'Question {i}:')\n",
    "    #Collect the key points\n",
    "    key_points = input('What is the key points to look for in the question?')\n",
    "    inference=''\n",
    "    while True:\n",
    "        prompt = f'''\n",
    "            Interpret and summarize the following question and key points provided in back ticks.\n",
    "            Interpret them and build a context of relevance for the question and expectations from it.\n",
    "            Question:```{question}```\n",
    "            Key points:```{key_points}```\n",
    "        '''\n",
    "        messages=[\n",
    "            SystemMessage(content=\" Consider yourself as an interviewer.\"),\n",
    "            HumanMessage(content=prompt)\n",
    "        ]\n",
    "        inference = gpt_client(messages).content\n",
    "        print(f'context: {inference}')\n",
    "        user_res = input('Are you satisfied with the context? yes/no')\n",
    "        if user_res.lower()=='yes':\n",
    "            break\n",
    "        key_points = input('Please re-ennter more relevant key points?')\n",
    "    i=i+1\n",
    "    if question.lower() in ['quit','exit']:\n",
    "        print('Exitng')\n",
    "        time.sleep(2)\n",
    "        break\n",
    "    questions.append((i,question,key_points,inference))"
   ]
  },
  {
   "cell_type": "code",
   "execution_count": 9,
   "id": "a932fea2-9462-43c4-96d5-ab100d5a595e",
   "metadata": {},
   "outputs": [
    {
     "data": {
      "text/plain": [
       "[(2,\n",
       "  'What books do yo read?',\n",
       "  \"to get an information regarding the persons't field of intrest like technology,fanatasy etc.\",\n",
       "  'The question \"What books do you read?\" is asking the interviewee about their reading habits and preferences. The key points suggest that the interviewer is interested in gathering information about the person\\'s field of interest, such as technology or fantasy. The question aims to understand the interviewee\\'s reading preferences and potentially gain insights into their knowledge and interests related to specific topics.'),\n",
       " (3,\n",
       "  'What is your occupation?',\n",
       "  \"to identify weather there are any correlation with the interviewee's reading habbits and occupation\",\n",
       "  'The question \"What is your occupation?\" is asking the interviewee to provide information about their job or profession. The key points provided in the back ticks suggest that the interviewer is interested in understanding if there is any correlation between the interviewee\\'s reading habits and their occupation. \\n\\nIn this context, the interviewer may be trying to determine if there is a relationship between the type of work someone does and their reading habits. They may be looking for insights into whether certain occupations attract individuals who are more inclined to read or if reading habits can influence career choices. The interviewer may also be interested in understanding if reading is valued or necessary in the interviewee\\'s field of work.'),\n",
       " (4,\n",
       "  'What are your hobbies?',\n",
       "  'Identify the relevance of hobbies with respect to occupation',\n",
       "  'As an interviewer, the question \"What are your hobbies?\" is a way to get to know the candidate on a personal level and understand their interests outside of work. The key point of identifying the relevance of hobbies with respect to occupation suggests that the interviewer wants to understand if the candidate\\'s hobbies align with or complement their professional skills or industry. This question can provide insights into the candidate\\'s personality, creativity, dedication, and potential transferable skills that could be valuable in the workplace. The interviewer may be looking for hobbies that demonstrate qualities like teamwork, leadership, problem-solving, or a strong work ethic. Overall, the question aims to assess the candidate\\'s well-roundedness and how their hobbies may contribute to their professional success.')]"
      ]
     },
     "execution_count": 9,
     "metadata": {},
     "output_type": "execute_result"
    }
   ],
   "source": [
    "questions"
   ]
  }
 ],
 "metadata": {
  "kernelspec": {
   "display_name": "Python 3 (ipykernel)",
   "language": "python",
   "name": "python3"
  },
  "language_info": {
   "codemirror_mode": {
    "name": "ipython",
    "version": 3
   },
   "file_extension": ".py",
   "mimetype": "text/x-python",
   "name": "python",
   "nbconvert_exporter": "python",
   "pygments_lexer": "ipython3",
   "version": "3.11.4"
  }
 },
 "nbformat": 4,
 "nbformat_minor": 5
}
