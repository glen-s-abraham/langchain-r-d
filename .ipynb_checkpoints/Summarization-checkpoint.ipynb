{
 "cells": [
  {
   "cell_type": "code",
   "execution_count": 10,
   "id": "c1341aee-e17f-497f-b8a0-1d80eba2d785",
   "metadata": {},
   "outputs": [
    {
     "data": {
      "text/plain": [
       "True"
      ]
     },
     "execution_count": 10,
     "metadata": {},
     "output_type": "execute_result"
    }
   ],
   "source": [
    "import openai\n",
    "import os\n",
    "from  dotenv import load_dotenv,find_dotenv\n",
    "load_dotenv(find_dotenv(),override=True)"
   ]
  },
  {
   "cell_type": "code",
   "execution_count": 11,
   "id": "b6a94d5f-e224-4671-aa90-5a92ea2d0b80",
   "metadata": {},
   "outputs": [],
   "source": [
    "openai.key= os.getenv('OPENAI_API_KEY')"
   ]
  },
  {
   "cell_type": "markdown",
   "id": "d07d06c0-c373-41eb-a5ee-4245a4f50cbb",
   "metadata": {},
   "source": [
    "#### Basic Promt\n"
   ]
  },
  {
   "cell_type": "code",
   "execution_count": 8,
   "id": "e12dacc5-fe88-4987-966e-fbf40fe44c76",
   "metadata": {},
   "outputs": [],
   "source": [
    "from langchain.chat_models import ChatOpenAI\n",
    "from langchain.schema import AIMessage,HumanMessage,SystemMessage"
   ]
  },
  {
   "cell_type": "code",
   "execution_count": 4,
   "id": "4ed2185f-cfda-4afa-b06b-9bbeb3f345ac",
   "metadata": {},
   "outputs": [],
   "source": [
    "text=\"\"\"Mojo is a new programming language that bridges the gap between research and production by combining the best of Python syntax with systems programming and metaprogramming.\n",
    "With Mojo, you can write portable code that’s faster than C and seamlessly inter-op with the Python ecosystem.\n",
    "When we started Modular, we had no intention of building a new programming language. But as we were building our platform with the intent to unify the world’s ML/AI infrastructure, we realized that programming across the entire stack was too complicated. Plus, we were writing a lot of MLIR by hand and not having a good time.\\\n",
    "What we wanted was an innovative and scalable programming model that could target accelerators and other heterogeneous systems that are pervasive in the AI field. This meant a programming language with powerful compile-time metaprogramming, integration of adaptive compilation techniques, caching throughout the compilation flow, and other features that are not supported by existing languages.\n",
    "And although accelerators are important, one of the most prevalent and sometimes overlooked “accelerators” is the host CPU. Nowadays, CPUs have lots of tensor-core-like accelerator blocks and other AI acceleration units, but they also serve as the “fallback” for operations that specialized accelerators don’t handle, such as data loading, pre- and post-processing, and integrations with foreign systems. So it was clear that we couldn’t lift AI with just an “accelerator language” that worked with only specific processors.\n",
    "Applied AI systems need to address all these issues, and we decided there was no reason it couldn’t be done with just one language. Thus, Mojo was born.\n",
    "\"\"\"\n",
    "\n",
    "message=[\n",
    "    SystemMessage(content='You are an exper copywriter with expertise in summarizing documents'),\n",
    "    HumanMessage(content=f'Please provide a short and concise summary of the following text.\\n TEXT:{text}'),\n",
    "]\n",
    "\n"
   ]
  },
  {
   "cell_type": "code",
   "execution_count": 9,
   "id": "01c67b87-303e-4e08-8ced-bd787329d98b",
   "metadata": {},
   "outputs": [],
   "source": [
    "gpt_llm = ChatOpenAI(temperature=0,model='gpt-3.5-turbo')"
   ]
  },
  {
   "cell_type": "code",
   "execution_count": 5,
   "id": "63fc7a1d-32d8-44c9-b555-41dc83d96369",
   "metadata": {},
   "outputs": [
    {
     "data": {
      "text/plain": [
       "320"
      ]
     },
     "execution_count": 5,
     "metadata": {},
     "output_type": "execute_result"
    }
   ],
   "source": [
    "gpt_llm.get_num_tokens(text)"
   ]
  },
  {
   "cell_type": "code",
   "execution_count": 6,
   "id": "4dc25362-caac-4ab6-ac6d-40b4a3cf4a24",
   "metadata": {},
   "outputs": [],
   "source": [
    "summary = gpt_llm(message)"
   ]
  },
  {
   "cell_type": "code",
   "execution_count": 7,
   "id": "f51ea134-be75-424f-bce4-b90b0370d73e",
   "metadata": {},
   "outputs": [
    {
     "data": {
      "text/plain": [
       "\"Mojo is a new programming language that combines Python syntax with systems programming and metaprogramming. It aims to bridge the gap between research and production by allowing developers to write portable code that is faster than C and seamlessly integrates with the Python ecosystem. Mojo was created to address the complexities of programming across the entire stack in the ML/AI field, with a focus on targeting accelerators and heterogeneous systems. It also recognizes the importance of the host CPU and aims to handle operations that specialized accelerators don't handle. Mojo aims to be a comprehensive language for applied AI systems.\""
      ]
     },
     "execution_count": 7,
     "metadata": {},
     "output_type": "execute_result"
    }
   ],
   "source": [
    "summary.content"
   ]
  },
  {
   "cell_type": "markdown",
   "id": "58d4bf75-638b-4fe5-8c63-d6e8f6b05f52",
   "metadata": {},
   "source": [
    "#### Prompt Templates"
   ]
  },
  {
   "cell_type": "code",
   "execution_count": 8,
   "id": "d5c9e550-47de-4f99-8b2b-248a3d00f44c",
   "metadata": {},
   "outputs": [],
   "source": [
    "from langchain import PromptTemplate\n",
    "from langchain.chains import LLMChain"
   ]
  },
  {
   "cell_type": "code",
   "execution_count": 9,
   "id": "382909a8-27cb-403a-8072-02fd879ed57e",
   "metadata": {},
   "outputs": [],
   "source": [
    "template=\"\"\"\n",
    "Write a concise and short summary of the following text:\n",
    "TEXT:{text}\n",
    "Translate the summary to {language}\n",
    "\"\"\"\n",
    "prompt = PromptTemplate(input_variables=['text','language'],template=template)"
   ]
  },
  {
   "cell_type": "code",
   "execution_count": 10,
   "id": "dc834e62-6f26-4217-a7f7-6a23bc9da923",
   "metadata": {},
   "outputs": [
    {
     "data": {
      "text/plain": [
       "340"
      ]
     },
     "execution_count": 10,
     "metadata": {},
     "output_type": "execute_result"
    }
   ],
   "source": [
    "gpt_llm.get_num_tokens(prompt.format(text=text,language='English'))"
   ]
  },
  {
   "cell_type": "code",
   "execution_count": 11,
   "id": "7afdd472-d090-4e83-91e9-ab9727b6f241",
   "metadata": {},
   "outputs": [],
   "source": [
    "chain = LLMChain(llm=gpt_llm,prompt=prompt)"
   ]
  },
  {
   "cell_type": "code",
   "execution_count": 12,
   "id": "699e5451-2a11-4fb1-b675-21eabc998d34",
   "metadata": {},
   "outputs": [],
   "source": [
    "summary = chain.run({'text':text,'language':'Spanish'})"
   ]
  },
  {
   "cell_type": "code",
   "execution_count": 14,
   "id": "d0b002b7-857b-409b-875c-782f2a175b57",
   "metadata": {},
   "outputs": [
    {
     "data": {
      "text/plain": [
       "'Mojo es un nuevo lenguaje de programación que combina lo mejor de la sintaxis de Python con la programación de sistemas y la metaprogramación, con el objetivo de unificar la infraestructura de inteligencia artificial y aprendizaje automático. Con Mojo, se puede escribir código portátil más rápido que en C y trabajar de manera integrada con el ecosistema de Python. Este lenguaje fue creado para abordar la complejidad de programar en todo el stack y para ofrecer un modelo de programación innovador y escalable que pueda dirigirse a aceleradores y otros sistemas heterogéneos en el campo de la inteligencia artificial. Además, Mojo reconoce la importancia de la CPU como un \"acelerador\" prevalente y a menudo pasado por alto, y busca abordar todas las necesidades de los sistemas de IA aplicada en un solo lenguaje.'"
      ]
     },
     "execution_count": 14,
     "metadata": {},
     "output_type": "execute_result"
    }
   ],
   "source": [
    "summary"
   ]
  },
  {
   "cell_type": "markdown",
   "id": "05aa63bf-b455-4e27-acdf-5bcfa1eb92f4",
   "metadata": {},
   "source": [
    "#### Summarizing using StuffDocumentChain"
   ]
  },
  {
   "cell_type": "code",
   "execution_count": 3,
   "id": "59484384-c019-4fab-b53f-0e4ad06322a5",
   "metadata": {},
   "outputs": [],
   "source": [
    "from langchain import PromptTemplate\n",
    "from langchain.chat_models import ChatOpenAI\n",
    "from langchain.chains.summarize import load_summarize_chain\n",
    "from langchain.docstore.document import Document"
   ]
  },
  {
   "cell_type": "code",
   "execution_count": 4,
   "id": "4efc64a4-90ad-41db-ab9c-fda387b2b606",
   "metadata": {},
   "outputs": [],
   "source": [
    "with open('files/speech.txt',encoding='utf-8') as f:\n",
    "    text = f.read()\n",
    "doc = [Document(page_content=text)]"
   ]
  },
  {
   "cell_type": "code",
   "execution_count": 5,
   "id": "13bc500f-6488-45b3-81a0-04a805394a0d",
   "metadata": {},
   "outputs": [],
   "source": [
    "prompt_template = '''Write a concise ans short summary of the text.TEXT:`{text}`'''\n",
    "prompt=PromptTemplate(\n",
    "    input_variables=['text'],\n",
    "    template=prompt_template\n",
    ")"
   ]
  },
  {
   "cell_type": "code",
   "execution_count": 11,
   "id": "6554c11c-b635-459e-888d-a355a5bda6bb",
   "metadata": {},
   "outputs": [],
   "source": [
    "chain = load_summarize_chain(\n",
    "    llm=gpt_llm,\n",
    "    prompt=prompt,\n",
    "    chain_type='stuff',\n",
    "    verbose=False\n",
    ")\n",
    "summary = chain.run(doc)"
   ]
  },
  {
   "cell_type": "code",
   "execution_count": 12,
   "id": "1c38fdf6-5447-48f5-b621-2fa2376a5ed4",
   "metadata": {},
   "outputs": [
    {
     "data": {
      "text/plain": [
       "\"The text is a commencement speech given by Steve Jobs at a university graduation. He shares three stories from his life, emphasizing the importance of connecting the dots, following one's passion, and embracing the inevitability of death. He encourages the graduates to trust in themselves, stay curious, and not be afraid to take risks. The speech ends with the message to stay hungry and stay foolish, urging the graduates to continue seeking knowledge and embracing new experiences.\""
      ]
     },
     "execution_count": 12,
     "metadata": {},
     "output_type": "execute_result"
    }
   ],
   "source": [
    "summary"
   ]
  },
  {
   "cell_type": "markdown",
   "id": "17cdc9de-4730-457a-97c6-7e984e7551ea",
   "metadata": {},
   "source": [
    "#### Summarizing Large Documents Using map_reduce"
   ]
  },
  {
   "cell_type": "code",
   "execution_count": 13,
   "id": "664dad7c-ab8b-4fa4-a5f4-553dfc93e42a",
   "metadata": {},
   "outputs": [],
   "source": [
    "from langchain import PromptTemplate\n",
    "from langchain.chat_models import ChatOpenAI\n",
    "from langchain.chains.summarize import load_summarize_chain\n",
    "from langchain.text_splitter import RecursiveCharacterTextSplitter"
   ]
  },
  {
   "cell_type": "code",
   "execution_count": 19,
   "id": "d4abe54f-9215-4d3b-9e73-2ae51b353514",
   "metadata": {},
   "outputs": [],
   "source": [
    "with open('files/speech.txt',encoding='utf-8') as f:\n",
    "    text = f.read()\n",
    "docs = [Document(page_content=text)]"
   ]
  },
  {
   "cell_type": "code",
   "execution_count": 15,
   "id": "db9c9733-4f83-4883-84c1-b9f8f59afcff",
   "metadata": {},
   "outputs": [
    {
     "data": {
      "text/plain": [
       "2668"
      ]
     },
     "execution_count": 15,
     "metadata": {},
     "output_type": "execute_result"
    }
   ],
   "source": [
    "gpt_llm = ChatOpenAI(temperature=0,model='gpt-3.5-turbo')\n",
    "gpt_llm.get_num_tokens(text)"
   ]
  },
  {
   "cell_type": "code",
   "execution_count": 25,
   "id": "23be4b70-06e1-4069-bfb0-824392e632d2",
   "metadata": {},
   "outputs": [
    {
     "data": {
      "text/plain": [
       "2"
      ]
     },
     "execution_count": 25,
     "metadata": {},
     "output_type": "execute_result"
    }
   ],
   "source": [
    "text_splitter = RecursiveCharacterTextSplitter(chunk_size=10000,chunk_overlap=50)\n",
    "chunks = text_splitter.create_documents([text])\n",
    "len(chunks)"
   ]
  },
  {
   "cell_type": "code",
   "execution_count": 26,
   "id": "966253aa-7117-4b1e-ad0e-fe14ac1b23a7",
   "metadata": {},
   "outputs": [],
   "source": [
    "chain=load_summarize_chain(gpt_llm,chain_type='map_reduce',verbose=False)"
   ]
  },
  {
   "cell_type": "code",
   "execution_count": 28,
   "id": "1e9cbece-1afc-488a-8325-23acbb447569",
   "metadata": {},
   "outputs": [],
   "source": [
    "summary = chain.run(chunks)"
   ]
  },
  {
   "cell_type": "code",
   "execution_count": 31,
   "id": "4b2dd791-4aff-4597-91a1-f7cf5fe23f47",
   "metadata": {},
   "outputs": [
    {
     "data": {
      "text/plain": [
       "'Steve Jobs shares three stories from his life, including dropping out of college and how it influenced the design of the Macintosh computer, getting fired from Apple and finding success in new ventures, and the importance of living each day as if it were your last. He encourages the audience to trust their own paths and pursue their passions. Jobs also reflects on the inevitability of death and the value of time, urging the audience to live authentically and not be influenced by others. He mentions the influence of The Whole Earth Catalog and concludes with gratitude.'"
      ]
     },
     "execution_count": 31,
     "metadata": {},
     "output_type": "execute_result"
    }
   ],
   "source": [
    "summary"
   ]
  },
  {
   "cell_type": "code",
   "execution_count": 30,
   "id": "b6265ccf-c8e9-47af-8baa-a5518888b7a6",
   "metadata": {},
   "outputs": [
    {
     "data": {
      "text/plain": [
       "'Write a concise summary of the following:\\n\\n\\n\"{text}\"\\n\\n\\nCONCISE SUMMARY:'"
      ]
     },
     "execution_count": 30,
     "metadata": {},
     "output_type": "execute_result"
    }
   ],
   "source": [
    "chain.llm_chain.prompt.template"
   ]
  },
  {
   "cell_type": "code",
   "execution_count": 33,
   "id": "27a45bca-0085-498b-b04c-cfc0674d5569",
   "metadata": {},
   "outputs": [
    {
     "data": {
      "text/plain": [
       "'Write a concise summary of the following:\\n\\n\\n\"{text}\"\\n\\n\\nCONCISE SUMMARY:'"
      ]
     },
     "execution_count": 33,
     "metadata": {},
     "output_type": "execute_result"
    }
   ],
   "source": [
    "chain.combine_document_chain.llm_chain.prompt.template"
   ]
  },
  {
   "cell_type": "markdown",
   "id": "656a31f1-ddbc-4e5a-9039-b42880ec7938",
   "metadata": {},
   "source": [
    "#### Map reduce with custom prompts "
   ]
  },
  {
   "cell_type": "code",
   "execution_count": 35,
   "id": "debf335a-34da-4219-8304-cd612cf93795",
   "metadata": {},
   "outputs": [],
   "source": [
    "map_prompt = '''\n",
    "Write a short and concise summary of the following:\n",
    "Text:`{text}`\n",
    "CONCISE SUMMARY:\n",
    "'''\n",
    "\n",
    "map_prompt_template = PromptTemplate(\n",
    "    input_variables=['text'],\n",
    "    template=map_prompt\n",
    ")"
   ]
  },
  {
   "cell_type": "code",
   "execution_count": 34,
   "id": "153dd3fa-41e3-4aa2-ad7d-19311829be44",
   "metadata": {},
   "outputs": [],
   "source": [
    "combine_prompt = '''\n",
    "Write a concise summary of the following text that covers the key points.\n",
    "Add a title to the summary.\n",
    "Start your summary with an Introduction Paragramp that gives an voerview of the topic FOLLOWED by\n",
    "BULLET POINTS if possible AND end the summary with a CONCLUSION PHRASE.\n",
    "Text:`{text}`\n",
    "'''\n",
    "\n",
    "combine_prompt_template = PromptTemplate(\n",
    "    input_variables=['text'],\n",
    "    template=combine_prompt\n",
    ")"
   ]
  },
  {
   "cell_type": "code",
   "execution_count": 36,
   "id": "0894bd65-7768-4e87-9b4c-7a13641b962f",
   "metadata": {},
   "outputs": [],
   "source": [
    "summary_chain = load_summarize_chain(\n",
    "    llm=gpt_llm,\n",
    "    chain_type='map_reduce',\n",
    "    map_prompt=map_prompt_template,\n",
    "    combine_prompt=combine_prompt_template,\n",
    "    verbose=False\n",
    ")"
   ]
  },
  {
   "cell_type": "code",
   "execution_count": 38,
   "id": "e80ec9a1-8007-4c9d-9bc8-074ad69c1941",
   "metadata": {},
   "outputs": [],
   "source": [
    "output = summary_chain.run(chunks)"
   ]
  },
  {
   "cell_type": "code",
   "execution_count": 40,
   "id": "59d08a44-5a71-41d3-a7b1-94c71e3760dc",
   "metadata": {},
   "outputs": [
    {
     "name": "stdout",
     "output_type": "stream",
     "text": [
      "Title: Embracing Life's Challenges and Pursuing Passion\n",
      "\n",
      "Introduction:\n",
      "The speaker, who never graduated from college, shares three stories from his life that highlight the importance of embracing challenges and pursuing one's passion. These stories include dropping out of college and taking a calligraphy class, getting fired from Apple, and the significance of living each day to the fullest.\n",
      "\n",
      "Key Points:\n",
      "- Dropping out of college led the speaker to take a calligraphy class, which later influenced the design of the Macintosh computer.\n",
      "- Getting fired from Apple ultimately led the speaker to start new ventures and find success.\n",
      "- The importance of living each day as if it were your last and doing what you love.\n",
      "- The speaker's personal experience of being diagnosed with cancer and the fear of impending death.\n",
      "- The speaker emphasizes the inevitability of death and encourages the audience to live their own lives and follow their hearts.\n",
      "- The impact of The Whole Earth Catalog on the speaker's generation.\n",
      "- The speaker concludes by encouraging the audience to stay hungry and stay foolish as they embark on their new journey.\n",
      "\n",
      "Conclusion:\n",
      "The speaker's stories highlight the importance of embracing challenges, pursuing passion, and living life to the fullest. They encourage the audience to have the courage to follow their hearts and intuition, reminding them that death is inevitable and should serve as a reminder to make important life choices.\n"
     ]
    }
   ],
   "source": [
    "print(output)"
   ]
  },
  {
   "cell_type": "markdown",
   "id": "6158dd5c-d818-4f56-ac99-6b76ba28a928",
   "metadata": {},
   "source": [
    "#### Refine chain"
   ]
  },
  {
   "cell_type": "code",
   "execution_count": 2,
   "id": "5a452f7f-8959-40f3-86a5-2e9ab2ca5d5e",
   "metadata": {},
   "outputs": [],
   "source": [
    "from langchain import PromptTemplate\n",
    "from langchain.chat_models import ChatOpenAI\n",
    "from langchain.chains.summarize import load_summarize_chain\n",
    "from langchain.text_splitter import RecursiveCharacterTextSplitter\n",
    "from langchain.docstore.document import Document"
   ]
  },
  {
   "cell_type": "code",
   "execution_count": 3,
   "id": "c7629d85-62e6-459b-a3f4-72ac2721d15f",
   "metadata": {},
   "outputs": [],
   "source": [
    "with open('files/speech.txt',encoding='utf-8') as f:\n",
    "    text = f.read()\n",
    "docs = [Document(page_content=text)]"
   ]
  },
  {
   "cell_type": "code",
   "execution_count": 5,
   "id": "25b28141-10fe-471c-8e79-6e4e0415ffe4",
   "metadata": {},
   "outputs": [],
   "source": [
    "text_splitter = RecursiveCharacterTextSplitter(chunk_size=1000,chunk_overlap=100)"
   ]
  },
  {
   "cell_type": "code",
   "execution_count": 6,
   "id": "a28e8962-ae88-4fd6-b507-05271a41f2ee",
   "metadata": {},
   "outputs": [
    {
     "data": {
      "text/plain": [
       "15"
      ]
     },
     "execution_count": 6,
     "metadata": {},
     "output_type": "execute_result"
    }
   ],
   "source": [
    "chunks = text_splitter.split_documents(docs)\n",
    "len(chunks)"
   ]
  },
  {
   "cell_type": "code",
   "execution_count": 12,
   "id": "82d392e5-cc30-429b-9001-64f0a3244d95",
   "metadata": {},
   "outputs": [],
   "source": [
    "gpt_llm = ChatOpenAI(temperature=0,model='gpt-3.5-turbo')"
   ]
  },
  {
   "cell_type": "code",
   "execution_count": 15,
   "id": "6b1cd514-dd57-421d-92e7-b7016121d187",
   "metadata": {},
   "outputs": [],
   "source": [
    "chain = load_summarize_chain(\n",
    "    llm=gpt_llm,\n",
    "    chain_type='refine',\n",
    "    verbose=True\n",
    ")"
   ]
  },
  {
   "cell_type": "code",
   "execution_count": 14,
   "id": "ca5af7b9-fd6f-4bc6-8b61-1469d512a0b0",
   "metadata": {},
   "outputs": [],
   "source": [
    "data = chain.run(chunks)"
   ]
  },
  {
   "cell_type": "code",
   "execution_count": 16,
   "id": "0fcaf282-ac24-46d1-9254-ca289655a752",
   "metadata": {},
   "outputs": [
    {
     "name": "stdout",
     "output_type": "stream",
     "text": [
      "The speaker concludes their address at a university commencement by sharing their second story about love and loss. They reflect on their experience of being fired from Apple, which initially devastated them but ultimately led to their success and happiness. They emphasize the importance of finding what you love in your work and not settling until you do. The speaker reveals that they were diagnosed with cancer but later found out it was curable, reinforcing the importance of living each day to the fullest. They urge the audience to have the courage to follow their own hearts and intuition. They also mention an influential publication called The Whole Earth Catalog and its creator, Stewart Brand, who inspired them with his idealistic and innovative approach to life. The speaker concludes by wishing the audience to \"Stay Hungry. Stay Foolish\" as they begin their new journey.\n"
     ]
    }
   ],
   "source": [
    "print(data)"
   ]
  },
  {
   "cell_type": "markdown",
   "id": "e90ec038-97f7-4057-b43e-3c180ffa306b",
   "metadata": {},
   "source": [
    "#### Summarizing using langchain agents"
   ]
  },
  {
   "cell_type": "code",
   "execution_count": 17,
   "id": "7c26c790-7ccf-477d-8c45-560b6efd1fba",
   "metadata": {},
   "outputs": [],
   "source": [
    "from langchain.chat_models import ChatOpenAI\n",
    "from langchain.agents import initialize_agent,Tool\n",
    "from langchain.utilities import WikipediaAPIWrapper"
   ]
  },
  {
   "cell_type": "code",
   "execution_count": 18,
   "id": "fe20bcf1-ed2d-4160-905d-00db608c75c7",
   "metadata": {},
   "outputs": [],
   "source": [
    "gpt_llm = ChatOpenAI(temperature=0,model='gpt-3.5-turbo')"
   ]
  },
  {
   "cell_type": "code",
   "execution_count": 19,
   "id": "aef0aa17-51b7-4f0f-bcdc-a97ed1acc39c",
   "metadata": {},
   "outputs": [],
   "source": [
    "wikipedia = WikipediaAPIWrapper()"
   ]
  },
  {
   "cell_type": "code",
   "execution_count": 21,
   "id": "344e7948-819c-4ad4-8515-70b0c37929b6",
   "metadata": {},
   "outputs": [],
   "source": [
    "tools = [\n",
    "    Tool(\n",
    "        name='Wikipedia',\n",
    "        func=wikipedia.run,\n",
    "        description='Useful for wikipedia searches'\n",
    "    )\n",
    "]"
   ]
  }
 ],
 "metadata": {
  "kernelspec": {
   "display_name": "Python 3 (ipykernel)",
   "language": "python",
   "name": "python3"
  },
  "language_info": {
   "codemirror_mode": {
    "name": "ipython",
    "version": 3
   },
   "file_extension": ".py",
   "mimetype": "text/x-python",
   "name": "python",
   "nbconvert_exporter": "python",
   "pygments_lexer": "ipython3",
   "version": "3.10.12"
  }
 },
 "nbformat": 4,
 "nbformat_minor": 5
}
