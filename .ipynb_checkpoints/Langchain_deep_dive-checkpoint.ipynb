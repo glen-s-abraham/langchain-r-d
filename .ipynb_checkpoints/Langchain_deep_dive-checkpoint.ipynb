{
 "cells": [
  {
   "cell_type": "code",
   "execution_count": 17,
   "id": "5c7647b5-d052-45af-a636-f44016c51d4b",
   "metadata": {},
   "outputs": [],
   "source": [
    "import os\n",
    "from  dotenv import load_dotenv,find_dotenv\n",
    "load_dotenv(find_dotenv(),override=True)\n",
    "openai.api_key = os.getenv('OPENAI_API_KEY')"
   ]
  },
  {
   "cell_type": "markdown",
   "id": "9023d8f5-6b47-45bb-a50e-3d99f39e6db9",
   "metadata": {},
   "source": [
    "### PDF Loader"
   ]
  },
  {
   "cell_type": "code",
   "execution_count": 3,
   "id": "13437adc-c321-4a4a-a307-dae3b4b8e5ed",
   "metadata": {},
   "outputs": [],
   "source": [
    "from langchain.document_loaders import PyPDFLoader"
   ]
  },
  {
   "cell_type": "code",
   "execution_count": 4,
   "id": "b3a07d0b-087c-4f5b-a945-79ab03fc45f1",
   "metadata": {},
   "outputs": [],
   "source": [
    "loader = PyPDFLoader('files/us_constitution.pdf')"
   ]
  },
  {
   "cell_type": "code",
   "execution_count": 6,
   "id": "e13739e6-fd82-4881-9e0b-ded4c9b3d9b1",
   "metadata": {},
   "outputs": [
    {
     "data": {
      "text/plain": [
       "41"
      ]
     },
     "execution_count": 6,
     "metadata": {},
     "output_type": "execute_result"
    }
   ],
   "source": [
    "pages = loader.load()\n",
    "len(pages)"
   ]
  },
  {
   "cell_type": "code",
   "execution_count": 8,
   "id": "07453097-5fdc-4347-9a37-4c408ca808e0",
   "metadata": {},
   "outputs": [
    {
     "name": "stdout",
     "output_type": "stream",
     "text": [
      "The\n",
      "United\n",
      "States\n",
      "Constitution\n",
      "W e\n",
      "the\n",
      "People\n",
      "of\n",
      "the\n",
      "United\n",
      "States,\n",
      "in\n",
      "Order\n",
      "to\n",
      "form\n",
      "a\n",
      "more\n",
      "perfect\n",
      "Union,\n",
      "establish\n",
      "Justice,\n",
      "insure\n",
      "domestic\n",
      "T ranquility ,\n",
      "provide\n",
      "for\n",
      "the\n",
      "common\n",
      "defence,\n",
      "promote\n",
      "the\n",
      "general\n",
      "W elfare,\n",
      "and\n",
      "secure\n",
      "the\n",
      "Blessings\n",
      "of\n",
      "Liberty\n",
      "to\n",
      "ourselves\n",
      "and\n",
      "our\n",
      "Posterity ,\n",
      "do\n",
      "ordain\n",
      "and\n",
      "establish\n",
      "this\n",
      "Constitution\n",
      "for\n",
      "the\n",
      "United\n",
      "States\n",
      "of\n",
      "America.\n",
      "The\n",
      "Constitutional\n",
      "Con v ention\n",
      "Article\n",
      "I\n",
      "Section\n",
      "1:\n",
      "Congress\n",
      "All\n",
      "legislative\n",
      "Powers\n",
      "herein\n",
      "granted\n",
      "shall\n",
      "be\n",
      "vested\n",
      "in\n",
      "a\n",
      "Congress\n",
      "of\n",
      "the\n"
     ]
    }
   ],
   "source": [
    "page = pages[0]\n",
    "print(page.page_content[:500])"
   ]
  },
  {
   "cell_type": "code",
   "execution_count": 9,
   "id": "dffb7a3e-cf1b-4a45-8a9d-53a1c29313f3",
   "metadata": {},
   "outputs": [
    {
     "data": {
      "text/plain": [
       "{'source': 'files/us_constitution.pdf', 'page': 0}"
      ]
     },
     "execution_count": 9,
     "metadata": {},
     "output_type": "execute_result"
    }
   ],
   "source": [
    "page.metadata"
   ]
  },
  {
   "cell_type": "markdown",
   "id": "ca354d6d-2572-4ec4-bc62-57a5abc7b564",
   "metadata": {},
   "source": [
    "### Youtube loader"
   ]
  },
  {
   "cell_type": "code",
   "execution_count": 11,
   "id": "70b7fd35-528e-4a38-bdbc-1689bd4213c4",
   "metadata": {},
   "outputs": [],
   "source": [
    "from langchain.document_loaders.generic import GenericLoader\n",
    "from langchain.document_loaders.parsers import OpenAIWhisperParser\n",
    "from langchain.document_loaders.blob_loaders.youtube_audio import YoutubeAudioLoader"
   ]
  },
  {
   "cell_type": "code",
   "execution_count": 18,
   "id": "de3af2fa-46b2-4e66-b245-04e208229290",
   "metadata": {},
   "outputs": [
    {
     "name": "stdout",
     "output_type": "stream",
     "text": [
      "[youtube] Extracting URL: https://www.youtube.com/shorts/ISdFkyJrfOc\n",
      "[youtube] ISdFkyJrfOc: Downloading webpage\n",
      "[youtube] ISdFkyJrfOc: Downloading ios player API JSON\n",
      "[youtube] ISdFkyJrfOc: Downloading android player API JSON\n",
      "[youtube] ISdFkyJrfOc: Downloading m3u8 information\n",
      "[info] ISdFkyJrfOc: Downloading 1 format(s): 140\n",
      "[download] files\\youtube\\Start a speech like Simon Sinek.m4a has already been downloaded\n",
      "[download] 100% of  894.53KiB\n",
      "[ExtractAudio] Not converting audio files\\youtube\\Start a speech like Simon Sinek.m4a; file is already in target format m4a\n",
      "Transcribing part 1!\n"
     ]
    }
   ],
   "source": [
    "url = 'https://www.youtube.com/shorts/ISdFkyJrfOc'\n",
    "save_dir = 'files/youtube'\n",
    "loader = GenericLoader(YoutubeAudioLoader([url],save_dir),OpenAIWhisperParser())\n",
    "docs=loader.load()"
   ]
  },
  {
   "cell_type": "code",
   "execution_count": 19,
   "id": "b4f06c6b-ace9-45df-8627-51996cbf61bf",
   "metadata": {},
   "outputs": [
    {
     "data": {
      "text/plain": [
       "[Document(page_content=\"Here's a lesson from Simon Sinek about how to start a speech, watch. The moment he says, I'm embarrassed, you're immediately hooked because you want to know, why is he embarrassed? Why is he sharing something vulnerable right off the bat? I talk about things like trust and cooperation, and there should be no demand for my work. So far it all sounds normal, so you're wondering, why is he embarrassed? But the fact of the matter is, is there is demand for my work, which means that there's an opportunity. It means that trust and cooperation are not yet standard in our organizations, and yet they should be. And we know that. He does something so brilliantly, he not only gets your attention, but he also states what the problem is and why he's there to talk about it.\", metadata={'source': 'files\\\\youtube\\\\Start a speech like Simon Sinek.m4a', 'chunk': 0})]"
      ]
     },
     "execution_count": 19,
     "metadata": {},
     "output_type": "execute_result"
    }
   ],
   "source": [
    "docs"
   ]
  },
  {
   "cell_type": "markdown",
   "id": "d0ebbf58-9148-4118-9676-b05ceb551daf",
   "metadata": {},
   "source": [
    "### Web loader"
   ]
  },
  {
   "cell_type": "code",
   "execution_count": 23,
   "id": "7842a570-5c0e-4f38-a400-8721c6b3f506",
   "metadata": {},
   "outputs": [
    {
     "name": "stdout",
     "output_type": "stream",
     "text": [
      "\n",
      "\n",
      "\n",
      "\n",
      "Forbidden - Stack Exchange\n",
      "\n",
      "\n",
      "\n",
      "\n",
      "\n",
      "\n",
      "\n",
      "\n",
      "Access Denied\n",
      "This IP address (182.73.206.150) has been blocked from access to our services. If you believe this to be in error, please contact us at team@stackexchange.com.\n",
      "When contacting us, please include the following information in the email:\n",
      "Method: block\n",
      "XID: 3741392365-MAA\n",
      "IP: 182.73.206.150\n",
      "X-Forwarded-For: 182.73.206.150\n",
      "User-Agent: \n",
      "Time: Wed, 13 Sep 2023 05:46:12 GMT\n",
      "URL: stackoverflow.com/questions/76600384/unable-to-read-text-data-file-using-\n"
     ]
    }
   ],
   "source": [
    "from langchain.document_loaders import WebBaseLoader\n",
    "loader = WebBaseLoader('https://github.com/basecamp/handbook/blob/master/37signals-is-you.md\"')\n",
    "docs = loader.load()\n",
    "print(docs[0].page_content[:500])"
   ]
  }
 ],
 "metadata": {
  "kernelspec": {
   "display_name": "Python 3 (ipykernel)",
   "language": "python",
   "name": "python3"
  },
  "language_info": {
   "codemirror_mode": {
    "name": "ipython",
    "version": 3
   },
   "file_extension": ".py",
   "mimetype": "text/x-python",
   "name": "python",
   "nbconvert_exporter": "python",
   "pygments_lexer": "ipython3",
   "version": "3.11.4"
  }
 },
 "nbformat": 4,
 "nbformat_minor": 5
}
