{
 "cells": [
  {
   "cell_type": "code",
   "execution_count": 1,
   "id": "1a6e2193-92a4-45db-a556-6710c8c0dc66",
   "metadata": {},
   "outputs": [
    {
     "data": {
      "text/plain": [
       "True"
      ]
     },
     "execution_count": 1,
     "metadata": {},
     "output_type": "execute_result"
    }
   ],
   "source": [
    "import os\n",
    "from  dotenv import load_dotenv,find_dotenv\n",
    "load_dotenv(find_dotenv(),override=True)\n"
   ]
  },
  {
   "cell_type": "code",
   "execution_count": 10,
   "id": "f2b03586-2d34-4d93-982e-3d796f62b291",
   "metadata": {},
   "outputs": [],
   "source": [
    "from langchain.chains import RetrievalQA\n",
    "from langchain.chat_models import ChatOpenAI\n",
    "from langchain.document_loaders import CSVLoader\n",
    "from langchain.vectorstores import Chroma\n",
    "from langchain.indexes import VectorstoreIndexCreator"
   ]
  },
  {
   "cell_type": "code",
   "execution_count": 6,
   "id": "a703212c-5373-43c8-80c8-cae6c1917c9f",
   "metadata": {},
   "outputs": [],
   "source": [
    "from langchain.document_loaders import CSVLoader\n",
    "file = 'files/products_min.csv'\n",
    "loader = CSVLoader(file_path=file)\n",
    "docs = loader.load()"
   ]
  },
  {
   "cell_type": "code",
   "execution_count": 11,
   "id": "2565e4a3-a562-4c67-b073-d76a308c664e",
   "metadata": {},
   "outputs": [],
   "source": [
    "index = VectorstoreIndexCreator(\n",
    "    vectorstore_cls=Chroma\n",
    ").from_loaders([loader])"
   ]
  },
  {
   "cell_type": "code",
   "execution_count": 13,
   "id": "f623ec14-97ba-4abe-92b0-facd980edd56",
   "metadata": {},
   "outputs": [],
   "source": [
    "llm = ChatOpenAI(temperature = 0.0, model='gpt-3.5-turbo')\n",
    "qa = RetrievalQA.from_chain_type(\n",
    "    llm=llm, \n",
    "    chain_type=\"stuff\", \n",
    "    retriever=index.vectorstore.as_retriever(), \n",
    "    verbose=True,\n",
    "    chain_type_kwargs = {\n",
    "        \"document_separator\": \"<<<<>>>>>\"\n",
    "    }\n",
    ")"
   ]
  },
  {
   "cell_type": "code",
   "execution_count": 15,
   "id": "40a9f941-1289-4192-88ac-b2e2daaaa727",
   "metadata": {},
   "outputs": [],
   "source": [
    "data = loader.load()"
   ]
  },
  {
   "cell_type": "code",
   "execution_count": 19,
   "id": "f84e41e0-b05b-421f-8ba9-e32f1b3410d8",
   "metadata": {},
   "outputs": [
    {
     "name": "stdout",
     "output_type": "stream",
     "text": [
      ": 10\n",
      "ProductID: 10000911\n",
      "ProductName: Kenneth Cole Women Navy Blue Solid Backpack\n",
      "ProductBrand: Kenneth Cole\n",
      "Gender: Women\n",
      "Price (INR): 2463\n",
      "NumImages: 5\n",
      "Description: Navy Blue backpackNon-Padded haul loop1 main compartment with zip closurePadded backZip PocketPadded shoulder strap: PaddedWater-resistance: No\n",
      "PrimaryColor: Blue\n"
     ]
    }
   ],
   "source": [
    "print(data[10].page_content)"
   ]
  },
  {
   "cell_type": "code",
   "execution_count": 21,
   "id": "e6edcaa2-f611-4630-b0df-340b954ffd79",
   "metadata": {},
   "outputs": [
    {
     "name": "stdout",
     "output_type": "stream",
     "text": [
      ": 11\n",
      "ProductID: 10000245\n",
      "ProductName: Parx Men Green Printed Polo Collar T-shirt\n",
      "ProductBrand: Parx\n",
      "Gender: Men\n",
      "Price (INR): 629\n",
      "NumImages: 5\n",
      "Description: Green printed T-shirt, has a polo collar, and short sleeves\n",
      "PrimaryColor: Green\n"
     ]
    }
   ],
   "source": [
    "print(data[11].page_content)"
   ]
  },
  {
   "cell_type": "code",
   "execution_count": 33,
   "id": "07c3fb5c-c4e9-4a6b-9229-489da1acc656",
   "metadata": {},
   "outputs": [],
   "source": [
    "examples = [\n",
    "    {\n",
    "        \"query\":\"IS Kenneth Cole Women Navy Blue Solid Backpack PaddedWater-resistance?\",\n",
    "        \"answer\":\"no\"\n",
    "    },\n",
    "    {\n",
    "        \"query\":\"Which product in the Parx brand has a polo collar\",\n",
    "        \"answer\":\"Parx Men Green Printed Polo Collar T-shirt\"\n",
    "    }\n",
    "]"
   ]
  },
  {
   "cell_type": "code",
   "execution_count": 23,
   "id": "cc83759f-398d-47fb-b4b7-302f170be9c7",
   "metadata": {},
   "outputs": [],
   "source": [
    "from langchain.evaluation.qa import QAGenerateChain"
   ]
  },
  {
   "cell_type": "code",
   "execution_count": 24,
   "id": "16415690-8952-4ba2-9c9e-a67b22912588",
   "metadata": {},
   "outputs": [],
   "source": [
    "example_gen_chain = QAGenerateChain.from_llm(ChatOpenAI(model='gpt-3.5-turbo'))"
   ]
  },
  {
   "cell_type": "code",
   "execution_count": 25,
   "id": "90251c26-46c6-488d-b989-4305508b3eae",
   "metadata": {},
   "outputs": [
    {
     "name": "stderr",
     "output_type": "stream",
     "text": [
      "C:\\Users\\iss211\\llm\\llm-env\\Lib\\site-packages\\langchain\\chains\\llm.py:306: UserWarning: The apply_and_parse method is deprecated, instead pass an output parser directly to LLMChain.\n",
      "  warnings.warn(\n"
     ]
    }
   ],
   "source": [
    "new_examples = example_gen_chain.apply_and_parse(\n",
    "    [{\"doc\": t} for t in data[:5]]\n",
    ")"
   ]
  },
  {
   "cell_type": "code",
   "execution_count": 29,
   "id": "d5827204-c7bc-477e-be8e-dd9a8eb028e9",
   "metadata": {},
   "outputs": [
    {
     "data": {
      "text/plain": [
       "{'qa_pairs': {'query': 'What is the product name and brand mentioned in the document?',\n",
       "  'answer': 'The product mentioned in the document is the \"DKNY Unisex Black & Grey Printed Medium Trolley Bag\" and the brand is \"DKNY\".'}}"
      ]
     },
     "execution_count": 29,
     "metadata": {},
     "output_type": "execute_result"
    }
   ],
   "source": [
    "new_examples[0]"
   ]
  },
  {
   "cell_type": "code",
   "execution_count": 34,
   "id": "92a4ca5f-fa43-4ae5-afdc-cd46b98c0a0b",
   "metadata": {},
   "outputs": [],
   "source": [
    "for example in new_examples:\n",
    "    examples.append(example['qa_pairs'])"
   ]
  },
  {
   "cell_type": "code",
   "execution_count": 35,
   "id": "f6efabb8-502e-4a0e-9a1c-ec61032da426",
   "metadata": {},
   "outputs": [
    {
     "data": {
      "text/plain": [
       "[{'query': 'IS Kenneth Cole Women Navy Blue Solid Backpack PaddedWater-resistance?',\n",
       "  'answer': 'no'},\n",
       " {'query': 'Which product in the Parx brand has a polo collar',\n",
       "  'answer': 'Parx Men Green Printed Polo Collar T-shirt'},\n",
       " {'query': 'What is the product name and brand mentioned in the document?',\n",
       "  'answer': 'The product mentioned in the document is the \"DKNY Unisex Black & Grey Printed Medium Trolley Bag\" and the brand is \"DKNY\".'},\n",
       " {'query': 'What is the primary color of the EthnoVogue Women Beige & Grey Made to Measure Custom Made Kurta Set with Jacket?',\n",
       "  'answer': 'The primary color of the kurta set is beige.'},\n",
       " {'query': 'What is the product brand of the jeans described in the document?',\n",
       "  'answer': 'The product brand of the jeans described in the document is SPYKAR.'},\n",
       " {'query': 'What is the product name of the suit mentioned in the document?',\n",
       "  'answer': 'The product name of the suit mentioned in the document is \"Raymond Men Blue Self-Design Single-Breasted Bandhgala Suit\".'},\n",
       " {'query': 'What is the price (in INR) of the Parx Men Brown & Off-White Slim Fit Printed Casual Shirt?',\n",
       "  'answer': 'The price of the Parx Men Brown & Off-White Slim Fit Printed Casual Shirt is 759 INR.'}]"
      ]
     },
     "execution_count": 35,
     "metadata": {},
     "output_type": "execute_result"
    }
   ],
   "source": [
    "examples"
   ]
  },
  {
   "cell_type": "code",
   "execution_count": 36,
   "id": "2b497ee7-a090-468b-aa37-b5848cab79f7",
   "metadata": {},
   "outputs": [
    {
     "name": "stdout",
     "output_type": "stream",
     "text": [
      "\n",
      "\n",
      "\u001b[1m> Entering new RetrievalQA chain...\u001b[0m\n",
      "\n",
      "\u001b[1m> Finished chain.\u001b[0m\n"
     ]
    },
    {
     "data": {
      "text/plain": [
       "'No, the Kenneth Cole Women Navy Blue Solid Backpack is not water-resistant.'"
      ]
     },
     "execution_count": 36,
     "metadata": {},
     "output_type": "execute_result"
    }
   ],
   "source": [
    "qa.run(examples[0][\"query\"])"
   ]
  },
  {
   "cell_type": "code",
   "execution_count": 40,
   "id": "e0c1ef78-e7f9-43ed-845d-256a26ee5b65",
   "metadata": {},
   "outputs": [],
   "source": [
    "import langchain\n",
    "langchain.debug = False"
   ]
  },
  {
   "cell_type": "code",
   "execution_count": 38,
   "id": "4ff49051-a90f-4a08-bf9a-c0f0233ebb12",
   "metadata": {},
   "outputs": [
    {
     "name": "stdout",
     "output_type": "stream",
     "text": [
      "\u001b[32;1m\u001b[1;3m[chain/start]\u001b[0m \u001b[1m[1:chain:RetrievalQA] Entering Chain run with input:\n",
      "\u001b[0m{\n",
      "  \"query\": \"IS Kenneth Cole Women Navy Blue Solid Backpack PaddedWater-resistance?\"\n",
      "}\n",
      "\u001b[32;1m\u001b[1;3m[chain/start]\u001b[0m \u001b[1m[1:chain:RetrievalQA > 3:chain:StuffDocumentsChain] Entering Chain run with input:\n",
      "\u001b[0m[inputs]\n",
      "\u001b[32;1m\u001b[1;3m[chain/start]\u001b[0m \u001b[1m[1:chain:RetrievalQA > 3:chain:StuffDocumentsChain > 4:chain:LLMChain] Entering Chain run with input:\n",
      "\u001b[0m{\n",
      "  \"question\": \"IS Kenneth Cole Women Navy Blue Solid Backpack PaddedWater-resistance?\",\n",
      "  \"context\": \": 10\\nProductID: 10000911\\nProductName: Kenneth Cole Women Navy Blue Solid Backpack\\nProductBrand: Kenneth Cole\\nGender: Women\\nPrice (INR): 2463\\nNumImages: 5\\nDescription: Navy Blue backpackNon-Padded haul loop1 main compartment with zip closurePadded backZip PocketPadded shoulder strap: PaddedWater-resistance: No\\nPrimaryColor: Blue<<<<>>>>>: 9\\nProductID: 10017421\\nProductName: DKNY Unisex Black Large Trolley Bag\\nProductBrand: DKNY\\nGender: Unisex\\nPrice (INR): 17360\\nNumImages: 5\\nDescription: Black solid large trolley bag, secured with a TSA lockOne handle on the top and one on the side, has a trolley with a retractable handle on the top and four corner mounted inline skate wheelsOne main zip compartment, zip lining, two compression straps with click clasps and one zip pocketOne exterior zip pocketWarranty: 5 yearsWarranty provided by Brand Owner / Manufacturer\\nPrimaryColor: Black<<<<>>>>>: 0\\nProductID: 10017413\\nProductName: DKNY Unisex Black & Grey Printed Medium Trolley Bag\\nProductBrand: DKNY\\nGender: Unisex\\nPrice (INR): 11745\\nNumImages: 7\\nDescription: Black and grey printed medium trolley bag, secured with a TSA lockOne handle on the top and one on the side, has a trolley with a retractable handle on the top and four corner mounted inline skate wheelsOne main zip compartment, zip lining, two compression straps with click clasps, one zip compartment on the flap with three zip pocketsWarranty: 5 yearsWarranty provided by Brand Owner / Manufacturer\\nPrimaryColor: Black<<<<>>>>>: 41\\nProductID: 10007705\\nProductName: her by invictus Women Brown Solid Cushioned Mules\\nProductBrand: her by invictus\\nGender: Women\\nPrice (INR): 1044\\nNumImages: 6\\nDescription: A pair of pointed closed toe brown mules with comfort lining and foam cushioned footbed for your work-from-home needs. It has regular styling, and closed backSynthetic upperFoam Cushioned footbedTextured and patterned outsole\\nPrimaryColor: Brown\"\n",
      "}\n",
      "\u001b[32;1m\u001b[1;3m[llm/start]\u001b[0m \u001b[1m[1:chain:RetrievalQA > 3:chain:StuffDocumentsChain > 4:chain:LLMChain > 5:llm:ChatOpenAI] Entering LLM run with input:\n",
      "\u001b[0m{\n",
      "  \"prompts\": [\n",
      "    \"System: Use the following pieces of context to answer the users question. \\nIf you don't know the answer, just say that you don't know, don't try to make up an answer.\\n----------------\\n: 10\\nProductID: 10000911\\nProductName: Kenneth Cole Women Navy Blue Solid Backpack\\nProductBrand: Kenneth Cole\\nGender: Women\\nPrice (INR): 2463\\nNumImages: 5\\nDescription: Navy Blue backpackNon-Padded haul loop1 main compartment with zip closurePadded backZip PocketPadded shoulder strap: PaddedWater-resistance: No\\nPrimaryColor: Blue<<<<>>>>>: 9\\nProductID: 10017421\\nProductName: DKNY Unisex Black Large Trolley Bag\\nProductBrand: DKNY\\nGender: Unisex\\nPrice (INR): 17360\\nNumImages: 5\\nDescription: Black solid large trolley bag, secured with a TSA lockOne handle on the top and one on the side, has a trolley with a retractable handle on the top and four corner mounted inline skate wheelsOne main zip compartment, zip lining, two compression straps with click clasps and one zip pocketOne exterior zip pocketWarranty: 5 yearsWarranty provided by Brand Owner / Manufacturer\\nPrimaryColor: Black<<<<>>>>>: 0\\nProductID: 10017413\\nProductName: DKNY Unisex Black & Grey Printed Medium Trolley Bag\\nProductBrand: DKNY\\nGender: Unisex\\nPrice (INR): 11745\\nNumImages: 7\\nDescription: Black and grey printed medium trolley bag, secured with a TSA lockOne handle on the top and one on the side, has a trolley with a retractable handle on the top and four corner mounted inline skate wheelsOne main zip compartment, zip lining, two compression straps with click clasps, one zip compartment on the flap with three zip pocketsWarranty: 5 yearsWarranty provided by Brand Owner / Manufacturer\\nPrimaryColor: Black<<<<>>>>>: 41\\nProductID: 10007705\\nProductName: her by invictus Women Brown Solid Cushioned Mules\\nProductBrand: her by invictus\\nGender: Women\\nPrice (INR): 1044\\nNumImages: 6\\nDescription: A pair of pointed closed toe brown mules with comfort lining and foam cushioned footbed for your work-from-home needs. It has regular styling, and closed backSynthetic upperFoam Cushioned footbedTextured and patterned outsole\\nPrimaryColor: Brown\\nHuman: IS Kenneth Cole Women Navy Blue Solid Backpack PaddedWater-resistance?\"\n",
      "  ]\n",
      "}\n",
      "\u001b[36;1m\u001b[1;3m[llm/end]\u001b[0m \u001b[1m[1:chain:RetrievalQA > 3:chain:StuffDocumentsChain > 4:chain:LLMChain > 5:llm:ChatOpenAI] [1.14s] Exiting LLM run with output:\n",
      "\u001b[0m{\n",
      "  \"generations\": [\n",
      "    [\n",
      "      {\n",
      "        \"text\": \"No, the Kenneth Cole Women Navy Blue Solid Backpack is not water-resistant.\",\n",
      "        \"generation_info\": {\n",
      "          \"finish_reason\": \"stop\"\n",
      "        },\n",
      "        \"message\": {\n",
      "          \"lc\": 1,\n",
      "          \"type\": \"constructor\",\n",
      "          \"id\": [\n",
      "            \"langchain\",\n",
      "            \"schema\",\n",
      "            \"messages\",\n",
      "            \"AIMessage\"\n",
      "          ],\n",
      "          \"kwargs\": {\n",
      "            \"content\": \"No, the Kenneth Cole Women Navy Blue Solid Backpack is not water-resistant.\",\n",
      "            \"additional_kwargs\": {}\n",
      "          }\n",
      "        }\n",
      "      }\n",
      "    ]\n",
      "  ],\n",
      "  \"llm_output\": {\n",
      "    \"token_usage\": {\n",
      "      \"prompt_tokens\": 551,\n",
      "      \"completion_tokens\": 15,\n",
      "      \"total_tokens\": 566\n",
      "    },\n",
      "    \"model_name\": \"gpt-3.5-turbo\"\n",
      "  },\n",
      "  \"run\": null\n",
      "}\n",
      "\u001b[36;1m\u001b[1;3m[chain/end]\u001b[0m \u001b[1m[1:chain:RetrievalQA > 3:chain:StuffDocumentsChain > 4:chain:LLMChain] [1.14s] Exiting Chain run with output:\n",
      "\u001b[0m{\n",
      "  \"text\": \"No, the Kenneth Cole Women Navy Blue Solid Backpack is not water-resistant.\"\n",
      "}\n",
      "\u001b[36;1m\u001b[1;3m[chain/end]\u001b[0m \u001b[1m[1:chain:RetrievalQA > 3:chain:StuffDocumentsChain] [1.14s] Exiting Chain run with output:\n",
      "\u001b[0m{\n",
      "  \"output_text\": \"No, the Kenneth Cole Women Navy Blue Solid Backpack is not water-resistant.\"\n",
      "}\n",
      "\u001b[36;1m\u001b[1;3m[chain/end]\u001b[0m \u001b[1m[1:chain:RetrievalQA] [2.08s] Exiting Chain run with output:\n",
      "\u001b[0m{\n",
      "  \"result\": \"No, the Kenneth Cole Women Navy Blue Solid Backpack is not water-resistant.\"\n",
      "}\n"
     ]
    },
    {
     "data": {
      "text/plain": [
       "'No, the Kenneth Cole Women Navy Blue Solid Backpack is not water-resistant.'"
      ]
     },
     "execution_count": 38,
     "metadata": {},
     "output_type": "execute_result"
    }
   ],
   "source": [
    "qa.run(examples[0][\"query\"])"
   ]
  },
  {
   "cell_type": "code",
   "execution_count": 41,
   "id": "e8a43bf1-ac29-459d-971e-d37e98587def",
   "metadata": {},
   "outputs": [
    {
     "name": "stdout",
     "output_type": "stream",
     "text": [
      "\n",
      "\n",
      "\u001b[1m> Entering new RetrievalQA chain...\u001b[0m\n",
      "\n",
      "\u001b[1m> Finished chain.\u001b[0m\n",
      "\n",
      "\n",
      "\u001b[1m> Entering new RetrievalQA chain...\u001b[0m\n",
      "\n",
      "\u001b[1m> Finished chain.\u001b[0m\n",
      "\n",
      "\n",
      "\u001b[1m> Entering new RetrievalQA chain...\u001b[0m\n",
      "\n",
      "\u001b[1m> Finished chain.\u001b[0m\n",
      "\n",
      "\n",
      "\u001b[1m> Entering new RetrievalQA chain...\u001b[0m\n",
      "\n",
      "\u001b[1m> Finished chain.\u001b[0m\n",
      "\n",
      "\n",
      "\u001b[1m> Entering new RetrievalQA chain...\u001b[0m\n",
      "\n",
      "\u001b[1m> Finished chain.\u001b[0m\n",
      "\n",
      "\n",
      "\u001b[1m> Entering new RetrievalQA chain...\u001b[0m\n",
      "\n",
      "\u001b[1m> Finished chain.\u001b[0m\n",
      "\n",
      "\n",
      "\u001b[1m> Entering new RetrievalQA chain...\u001b[0m\n",
      "\n",
      "\u001b[1m> Finished chain.\u001b[0m\n"
     ]
    }
   ],
   "source": [
    "predictions = qa.apply(examples)"
   ]
  },
  {
   "cell_type": "code",
   "execution_count": 42,
   "id": "da4fa32b-3c47-461b-98f9-adc8d26bbbf9",
   "metadata": {},
   "outputs": [],
   "source": [
    "from langchain.evaluation.qa import QAEvalChain"
   ]
  },
  {
   "cell_type": "code",
   "execution_count": 44,
   "id": "9c0188d6-e445-4323-83ef-84789a65c5d2",
   "metadata": {},
   "outputs": [],
   "source": [
    "eval_chain = QAEvalChain.from_llm(ChatOpenAI(temperature=0))"
   ]
  },
  {
   "cell_type": "code",
   "execution_count": 45,
   "id": "284c1869-e481-414b-8f82-f1a7313461b4",
   "metadata": {},
   "outputs": [],
   "source": [
    "graded_outputs = eval_chain.evaluate(examples, predictions)"
   ]
  },
  {
   "cell_type": "code",
   "execution_count": 47,
   "id": "06d8d129-c85a-463e-9889-59f64ec1fbe8",
   "metadata": {},
   "outputs": [
    {
     "data": {
      "text/plain": [
       "[{'results': 'CORRECT'},\n",
       " {'results': 'CORRECT'},\n",
       " {'results': 'INCORRECT'},\n",
       " {'results': 'CORRECT'},\n",
       " {'results': 'CORRECT'},\n",
       " {'results': 'CORRECT'},\n",
       " {'results': 'CORRECT'}]"
      ]
     },
     "execution_count": 47,
     "metadata": {},
     "output_type": "execute_result"
    }
   ],
   "source": [
    "graded_outputs"
   ]
  },
  {
   "cell_type": "code",
   "execution_count": 48,
   "id": "8453c7fb-dcc8-4d20-b2f1-e57a23d3301c",
   "metadata": {},
   "outputs": [
    {
     "name": "stdout",
     "output_type": "stream",
     "text": [
      "Example 0:\n",
      "Question: IS Kenneth Cole Women Navy Blue Solid Backpack PaddedWater-resistance?\n",
      "Real Answer: no\n",
      "Predicted Answer: No, the Kenneth Cole Women Navy Blue Solid Backpack is not water-resistant.\n",
      "Predicted Grade: CORRECT\n",
      "\n",
      "Example 1:\n",
      "Question: Which product in the Parx brand has a polo collar\n",
      "Real Answer: Parx Men Green Printed Polo Collar T-shirt\n",
      "Predicted Answer: The product with a polo collar in the Parx brand is the \"Parx Men Green Printed Polo Collar T-shirt\" with ProductID 10000245.\n",
      "Predicted Grade: CORRECT\n",
      "\n",
      "Example 2:\n",
      "Question: What is the product name and brand mentioned in the document?\n",
      "Real Answer: The product mentioned in the document is the \"DKNY Unisex Black & Grey Printed Medium Trolley Bag\" and the brand is \"DKNY\".\n",
      "Predicted Answer: Product 1:\n",
      "Product Name: Parx Men Brown & Off-White Slim Fit Printed Casual Shirt\n",
      "Product Brand: Parx\n",
      "\n",
      "Product 2:\n",
      "Product Name: Parx Men Green Printed Polo Collar T-shirt\n",
      "Product Brand: Parx\n",
      "\n",
      "Product 3:\n",
      "Product Name: ID Men Beige Leather Derbys\n",
      "Product Brand: ID\n",
      "\n",
      "Product 4:\n",
      "Product Name: ANNA SUI Women La Vie De Boheme EDT 75ml\n",
      "Product Brand: ANNA SUI\n",
      "Predicted Grade: INCORRECT\n",
      "\n",
      "Example 3:\n",
      "Question: What is the primary color of the EthnoVogue Women Beige & Grey Made to Measure Custom Made Kurta Set with Jacket?\n",
      "Real Answer: The primary color of the kurta set is beige.\n",
      "Predicted Answer: The primary color of the EthnoVogue Women Beige & Grey Made to Measure Custom Made Kurta Set with Jacket is Beige.\n",
      "Predicted Grade: CORRECT\n",
      "\n",
      "Example 4:\n",
      "Question: What is the product brand of the jeans described in the document?\n",
      "Real Answer: The product brand of the jeans described in the document is SPYKAR.\n",
      "Predicted Answer: The product brand of the jeans described in the document is SPYKAR.\n",
      "Predicted Grade: CORRECT\n",
      "\n",
      "Example 5:\n",
      "Question: What is the product name of the suit mentioned in the document?\n",
      "Real Answer: The product name of the suit mentioned in the document is \"Raymond Men Blue Self-Design Single-Breasted Bandhgala Suit\".\n",
      "Predicted Answer: The product name of the suit mentioned in the document is \"Raymond Men Blue Self-Design Single-Breasted Bandhgala Suit\".\n",
      "Predicted Grade: CORRECT\n",
      "\n",
      "Example 6:\n",
      "Question: What is the price (in INR) of the Parx Men Brown & Off-White Slim Fit Printed Casual Shirt?\n",
      "Real Answer: The price of the Parx Men Brown & Off-White Slim Fit Printed Casual Shirt is 759 INR.\n",
      "Predicted Answer: The price (in INR) of the Parx Men Brown & Off-White Slim Fit Printed Casual Shirt is 759.\n",
      "Predicted Grade: CORRECT\n",
      "\n"
     ]
    }
   ],
   "source": [
    "for i, eg in enumerate(examples):\n",
    "    print(f\"Example {i}:\")\n",
    "    print(\"Question: \" + predictions[i]['query'])\n",
    "    print(\"Real Answer: \" + predictions[i]['answer'])\n",
    "    print(\"Predicted Answer: \" + predictions[i]['result'])\n",
    "    print(\"Predicted Grade: \" + graded_outputs[i]['results'])\n",
    "    print()"
   ]
  }
 ],
 "metadata": {
  "kernelspec": {
   "display_name": "Python 3 (ipykernel)",
   "language": "python",
   "name": "python3"
  },
  "language_info": {
   "codemirror_mode": {
    "name": "ipython",
    "version": 3
   },
   "file_extension": ".py",
   "mimetype": "text/x-python",
   "name": "python",
   "nbconvert_exporter": "python",
   "pygments_lexer": "ipython3",
   "version": "3.11.4"
  }
 },
 "nbformat": 4,
 "nbformat_minor": 5
}
