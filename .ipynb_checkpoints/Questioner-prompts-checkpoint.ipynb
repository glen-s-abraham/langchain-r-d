{
 "cells": [
  {
   "cell_type": "code",
   "execution_count": 59,
   "id": "38ed838f-6526-46e5-b684-71be94f087dd",
   "metadata": {},
   "outputs": [],
   "source": [
    "import openai\n",
    "import os\n",
    "from  dotenv import load_dotenv,find_dotenv\n",
    "load_dotenv(find_dotenv(),override=True)\n",
    "openai.api_key = os.environ['OPENAI_API_KEY']\n",
    "\n",
    "def get_completion(prompt,model='gpt-4'):\n",
    "    messages = [{\"role\":\"user\",\"content\":prompt}]\n",
    "    response=openai.ChatCompletion.create(\n",
    "        model=model,\n",
    "        messages=messages,\n",
    "        temperature=0\n",
    "    )\n",
    "    return response.choices[0].message['content']\n",
    "\n",
    "def get_completion_from_messages(messages,model='gpt-4'):\n",
    "    response=openai.ChatCompletion.create(\n",
    "        model=model,\n",
    "        messages=messages,\n",
    "        temperature=0\n",
    "    )\n",
    "    return response.choices[0].message['content']"
   ]
  },
  {
   "cell_type": "code",
   "execution_count": 10,
   "id": "25fdad64-37a6-4b9a-b814-d423be6a57dc",
   "metadata": {},
   "outputs": [],
   "source": [
    "def get_summarization_message(question,insights):\n",
    "    system_prompt = f'''\n",
    "        Consider your self as a survey expert.Your task is to analyze a given question and insights\n",
    "        provided in ```` and perform the following tasks:\n",
    "        question:````{question}````\n",
    "        insights:````{insights}````\n",
    "        step 1: Understand the question.\n",
    "        step 2: Understand the insights.\n",
    "        step 3: Try to identify the key inferences that the user expects from the question.\n",
    "        step 4: Build an elaborated context for an interviewer for later reference for the following:\n",
    "            1. Check the answers suits the context\n",
    "            2. Identify a wether a given answer might be out of context. \n",
    "            4. Incase a person's answer is out of context politeley notify them to focus on the current context.\n",
    "            5. Reframe the question if a satisifiable answer is not given.\n",
    "    '''\n",
    "    messages = [{'role':'system','content':system_prompt}]\n",
    "    return messages"
   ]
  },
  {
   "cell_type": "code",
   "execution_count": 13,
   "id": "9eb4b633-52ff-438d-93a1-9dddb9b9fe94",
   "metadata": {},
   "outputs": [
    {
     "name": "stdout",
     "output_type": "stream",
     "text": [
      "Step 1: Understanding the Question\n",
      "The question \"What books should a person read and why?\" is asking for recommendations of books that a person should read. The \"why\" part of the question is asking for reasons or justifications for these recommendations. \n",
      "\n",
      "Step 2: Understanding the Insights\n",
      "The insight provided, \"To get an understanding of what a person's interests are,\" suggests that the books a person chooses to read can give insight into their interests. This could mean that the question is looking for book recommendations that could cater to a wide range of interests.\n",
      "\n",
      "Step 3: Identifying Key Inferences\n",
      "The user expects to get book recommendations from the question. They also expect reasons for these recommendations, which could be based on the book's content, its popularity, its relevance to current events, or its ability to cater to a specific interest.\n",
      "\n",
      "Step 4: Building an Elaborated Context\n",
      "1. Check the answers suits the context: The answers should provide book recommendations along with reasons for these recommendations. The reasons could be based on the book's ability to cater to a specific interest, its relevance, its popularity, or its content.\n",
      "\n",
      "2. Identify whether a given answer might be out of context: An answer might be out of context if it does not provide a book recommendation or if it provides a recommendation without a reason. \n",
      "\n",
      "3. In case a person's answer is out of context, politely notify them to focus on the current context: \"Your answer is interesting, but could you please provide a book recommendation and explain why you think it's a good read?\"\n",
      "\n",
      "4. Reframe the question if a satisfactory answer is not given: \"Could you please suggest some books that you think people should read and explain why you recommend them?\"\n"
     ]
    }
   ],
   "source": [
    "question = 'What books should a person read and why?'\n",
    "insights = 'To get an inderstanding of what a persons intrests are.'\n",
    "response = get_completion_from_messages(get_summarization_message(question,insights))\n",
    "print(response)"
   ]
  },
  {
   "cell_type": "code",
   "execution_count": 8,
   "id": "f668942b-c0ad-4b1b-b64a-86d36c112452",
   "metadata": {},
   "outputs": [],
   "source": [
    "def get_fine_tuned_summarization_message(question,insights,previous_summary,additional_inputs):\n",
    "    system_prompt = f'''\n",
    "        Consider your self as a survey expert.Your task is to analyze a given question,insights,\n",
    "        additional inputs and previous summary provided in ```` and perform the following tasks:\n",
    "        question:````{question}````\n",
    "        insights:````{insights}````\n",
    "        previous summary:````{previous_summary}````\n",
    "        additional inputs:````{additional_inputs}````\n",
    "        step 1: Understand the question.\n",
    "        step 2: Understand the insights.\n",
    "        step 3: understand additional inputs.\n",
    "        step 4: understand the previous summary\n",
    "        step 5: From the above steps indentify what all additional insights need to be added to the previous summary based on additional inputs. \n",
    "        step 4: Build an elaborated context for an interviewer for later reference by also conisdering the additional inputs along with the previous summary for the following:\n",
    "            1. Check the answers suits the context\n",
    "            2. Identify a wether a given answer might be out of context.\n",
    "            3. Incase a person's answer is out of context politeley notify them to focus on the current context.\n",
    "            3. Reframe the question if a satisifiable answer is not given.\n",
    "    '''\n",
    "    messages = [{'role':'system','content':system_prompt}]\n",
    "    return messages"
   ]
  },
  {
   "cell_type": "code",
   "execution_count": 14,
   "id": "737f7348-9108-43ef-be44-300b5146f29c",
   "metadata": {},
   "outputs": [
    {
     "name": "stdout",
     "output_type": "stream",
     "text": [
      "Step 1: Understand the question.\n",
      "The question is asking for book recommendations for a person and the reasons why they should read those books.\n",
      "\n",
      "Step 2: Understand the insights.\n",
      "The insights suggest that the question is aimed at understanding a person's interests, which will help in recommending books.\n",
      "\n",
      "Step 3: Understand additional inputs.\n",
      "The additional inputs suggest that the person's technical knowledge or interest in technical subjects should also be considered when recommending books.\n",
      "\n",
      "Step 4: Understand the previous summary.\n",
      "The previous summary provides a detailed context for the interviewer, emphasizing the importance of understanding the person's interests and being open to a wide range of book genres and topics.\n",
      "\n",
      "Step 5: Identify additional insights to be added to the previous summary based on additional inputs.\n",
      "Based on the additional inputs, it is also important for the interviewer to assess the person's technical knowledge or interest in technical subjects. This can influence the type of books recommended, as some books may require or benefit from a certain level of technical understanding.\n",
      "\n",
      "Step 6: Build an elaborated context for an interviewer.\n",
      "As an interviewer, it is important to keep the following context in mind:\n",
      "- The question is about book recommendations and the reasons behind them.\n",
      "- The person's interests and technical knowledge should be taken into consideration when providing recommendations.\n",
      "- The interviewer should be prepared to ask follow-up questions to understand the person's interests and technical knowledge better.\n",
      "- The interviewer should be open to a wide range of book genres and topics, including technical books.\n",
      "- If an answer is out of context, the interviewer can politely redirect the interviewee to focus on the current context.\n",
      "- If a satisfactory answer is not given, the interviewer can reframe the question to provide more clarity or ask for specific genres or topics of interest, including technical subjects.\n"
     ]
    }
   ],
   "source": [
    "question = 'What books should a person read and why?'\n",
    "insights = 'To get an inderstanding of what a persons intrests are.'\n",
    "prev_summary = '''\n",
    "   Step 1: Understand the question.\n",
    "The question is asking for recommendations on what books a person should read and why.\n",
    "\n",
    "Step 2: Understand the insights.\n",
    "The insights suggest that the question is aimed at understanding a person's interests.\n",
    "\n",
    "Step 3: Identify the key inferences.\n",
    "The key inferences from the question are:\n",
    "- The person is looking for book recommendations.\n",
    "- The person wants to know why they should read those books.\n",
    "- The person's interests are important in determining the recommendations.\n",
    "\n",
    "Step 4: Build an elaborated context for an interviewer.\n",
    "As an interviewer, it is important to keep the following context in mind:\n",
    "- The question is about book recommendations and the reasons behind them.\n",
    "- The person's interests should be taken into consideration when providing recommendations.\n",
    "- The interviewer should be prepared to ask follow-up questions to understand the person's interests better.\n",
    "- The interviewer should be open to a wide range of book genres and topics.\n",
    "\n",
    "By having this context in mind, the interviewer can effectively assess the answers given by the interviewee and ensure \n",
    "that they are relevant and within the given context. If an answer is out of context, the interviewer can politely redirect the interviewee to focus on the current context. If a satisfactory answer is not given, the interviewer can reframe the question to provide more clarity or ask for specific genres or topics of interest. \n",
    "'''\n",
    "additiona_inputs = 'Also need to understand how technical the person is'\n",
    "response = get_completion_from_messages(get_fine_tuned_summarization_message(question,insights,prev_summary,additiona_inputs))\n",
    "print(response)"
   ]
  },
  {
   "cell_type": "code",
   "execution_count": 57,
   "id": "6502123a-fcbd-4e29-88c9-dd7fb9acb370",
   "metadata": {},
   "outputs": [],
   "source": [
    "system_prompt = \"\"\"\n",
    "        You're an expert interviewer with 20 years of experience doing\n",
    "        deeper dives on people to understand their perspectives from\n",
    "        the perspectives of anthropology, business, psychology, and more.\n",
    "        Depending on the question the user chooses to ask, you clarify the\n",
    "        intent behind the question prior to conducting interviews with people\n",
    "        to dive deeper and extract answers to the question.\n",
    "\n",
    "        For example, if the User's question is, \"What book should everyone read\n",
    "        and why?\", possible intents could include: seeking profound insights about\n",
    "        life, understanding cultural backgrounds, societal progress, historical ideas,\n",
    "        decision making processes, and personal impacts. Perhaps they might want specific\n",
    "        data points in the answer, like reading level and genre. Perhaps they want to\n",
    "        understand how it relates to specific aspects of a person's life. The Assistant\n",
    "        should ask the User what exactly they're interested in exploring deeper in the\n",
    "        interviewee's answers.\n",
    "\n",
    "        Your objective is to ensure you understand the interviewer (user's) goal with high\n",
    "        clarity and specificity prior to proceeding. Repeat it back to them and ensure they\n",
    "        agree you understand their question, intention, motivation, and desired direction\n",
    "        for the deeper user interview. Also ensure you are 100 percent clear on which specific\n",
    "        data points to collect from every interview, if any are required. Then you can summarize\n",
    "        the objective for the interview that you'd use to prepare for the actual interview with\n",
    "        people to answer the user's questions.\n",
    "    \"\"\"\n",
    "\n",
    "assistant_prompot = \"\"\"\n",
    "    Ask the user what survey question would you like to ask the interviewee? and why?\n",
    "    \"\"\"\n",
    "question='What books do you like to read and why?'\n",
    "context = 'To get an insight into a persons intrests.'\n",
    "user_input=''\n",
    "\n",
    "assistant_prompot2=f\"\"\"\n",
    "        Based on the  previous conversations and  question, context,Additional prompt given is inputs below:\n",
    "        Qustion:{question}\n",
    "        Context:{context}\n",
    "        Additional prompt:{user_input}\n",
    "        Perform the following steps:\n",
    "        Step 1: If Additional prompt is not empty.\n",
    "        Step 2: Understand the question and relevance of it with the context.\n",
    "        Step 3: Generate a summary of what the user might be expecting from the question.\n",
    "        Step 4: generate new questions for the user in order to gain more insight into the question and it's relevance.\n",
    "        Step 4: Ask wether the user is satisfied with the context generated\n",
    "    \"\"\""
   ]
  },
  {
   "cell_type": "code",
   "execution_count": 58,
   "id": "aaa6c67e-71ed-4507-897f-6c5c15496bbd",
   "metadata": {},
   "outputs": [
    {
     "name": "stdout",
     "output_type": "stream",
     "text": [
      "I understand that you're interested in exploring the types of books people prefer to read and the reasons behind their preferences. This is to gain insights into their interests and possibly their personality traits, values, and perspectives. \n",
      "\n",
      "To ensure I capture the information you're interested in, I would approach the interview with the following objectives:\n",
      "\n",
      "1. Identify the genre or type of books the interviewee prefers.\n",
      "2. Understand why they prefer these types of books. This could be related to the themes, writing style, the emotions they evoke, or the knowledge they provide.\n",
      "3. Explore how these book preferences reflect their interests. This could be in terms of hobbies, career, values, or worldview.\n",
      "\n",
      "In addition to these, are there any specific data points or aspects you would like me to focus on during the interview? For example, would you like me to ask about their favorite authors, how often they read, or if there are any specific books that have significantly influenced them?\n"
     ]
    }
   ],
   "source": [
    "\n",
    "messages = [\n",
    "    {'role':'system','content':system_prompt},\n",
    "    {'role':'assistant','content':assistant_prompot},\n",
    "    {'role':'user','content':f'''{question},{context}'''},\n",
    "    {'role':'assistant','content':assistant_prompot2}\n",
    "]\n",
    "response = get_completion_from_messages(messages)\n",
    "print(response)\n",
    "\n"
   ]
  },
  {
   "cell_type": "code",
   "execution_count": 62,
   "id": "4f3ff523-e59b-4d27-bc1e-39583af02c10",
   "metadata": {},
   "outputs": [
    {
     "name": "stdout",
     "output_type": "stream",
     "text": [
      "Yes, it is possible to add a button element to the Streamlit-chat extension. Streamlit allows you to add interactive widgets like buttons, checkboxes, sliders, etc. You can use the `streamlit.button` function to add a button. Here is a simple example:\n",
      "\n",
      "```python\n",
      "if st.button('Send Message'):\n",
      "    # Code to send message\n",
      "```\n",
      "\n",
      "However, please note that the Streamlit-chat extension is not officially supported by Streamlit. It's a third-party package developed by a community member. Therefore, the way to add a button or any other widget might be different and you might need to check the documentation or source code of the extension for exact details.\n"
     ]
    }
   ],
   "source": [
    "prompt = '''\n",
    "    You are an expert python developer with experience in streamlit framework.\n",
    "    Is it possible to add a button element to an extension streamlit-chat that i use to send messages\n",
    "'''\n",
    "\n",
    "print(get_completion(prompt))"
   ]
  }
 ],
 "metadata": {
  "kernelspec": {
   "display_name": "Python 3 (ipykernel)",
   "language": "python",
   "name": "python3"
  },
  "language_info": {
   "codemirror_mode": {
    "name": "ipython",
    "version": 3
   },
   "file_extension": ".py",
   "mimetype": "text/x-python",
   "name": "python",
   "nbconvert_exporter": "python",
   "pygments_lexer": "ipython3",
   "version": "3.11.4"
  }
 },
 "nbformat": 4,
 "nbformat_minor": 5
}
