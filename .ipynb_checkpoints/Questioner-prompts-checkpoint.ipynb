{
 "cells": [
  {
   "cell_type": "code",
   "execution_count": 1,
   "id": "38ed838f-6526-46e5-b684-71be94f087dd",
   "metadata": {},
   "outputs": [],
   "source": [
    "import openai\n",
    "import os\n",
    "from  dotenv import load_dotenv,find_dotenv\n",
    "load_dotenv(find_dotenv(),override=True)\n",
    "openai.api_key = os.environ['OPENAI_API_KEY']\n",
    "\n",
    "def get_completion(prompt,model='gpt-3.5-turbo'):\n",
    "    messages = [{\"role\":\"user\",\"content\":prompt}]\n",
    "    response=openai.ChatCompletion.create(\n",
    "        model=model,\n",
    "        messages=messages,\n",
    "        temperature=0\n",
    "    )\n",
    "    return response.choices[0].message['content']\n",
    "\n",
    "def get_completion_from_messages(messages,model='gpt-4'):\n",
    "    response=openai.ChatCompletion.create(\n",
    "        model=model,\n",
    "        messages=messages,\n",
    "        temperature=0\n",
    "    )\n",
    "    return response.choices[0].message['content']"
   ]
  },
  {
   "cell_type": "code",
   "execution_count": 10,
   "id": "25fdad64-37a6-4b9a-b814-d423be6a57dc",
   "metadata": {},
   "outputs": [],
   "source": [
    "def get_summarization_message(question,insights):\n",
    "    system_prompt = f'''\n",
    "        Consider your self as a survey expert.Your task is to analyze a given question and insights\n",
    "        provided in ```` and perform the following tasks:\n",
    "        question:````{question}````\n",
    "        insights:````{insights}````\n",
    "        step 1: Understand the question.\n",
    "        step 2: Understand the insights.\n",
    "        step 3: Try to identify the key inferences that the user expects from the question.\n",
    "        step 4: Build an elaborated context for an interviewer for later reference for the following:\n",
    "            1. Check the answers suits the context\n",
    "            2. Identify a wether a given answer might be out of context. \n",
    "            4. Incase a person's answer is out of context politeley notify them to focus on the current context.\n",
    "            5. Reframe the question if a satisifiable answer is not given.\n",
    "    '''\n",
    "    messages = [{'role':'system','content':system_prompt}]\n",
    "    return messages"
   ]
  },
  {
   "cell_type": "code",
   "execution_count": 11,
   "id": "9eb4b633-52ff-438d-93a1-9dddb9b9fe94",
   "metadata": {},
   "outputs": [
    {
     "name": "stdout",
     "output_type": "stream",
     "text": [
      "Step 1: Understand the question.\n",
      "The question is asking for recommendations on what books a person should read and why.\n",
      "\n",
      "Step 2: Understand the insights.\n",
      "The insights suggest that the question is aimed at understanding a person's interests.\n",
      "\n",
      "Step 3: Identify the key inferences.\n",
      "The key inferences from the question are:\n",
      "- The person is looking for book recommendations.\n",
      "- The person wants to know why they should read those books.\n",
      "- The person's interests are important in determining the recommendations.\n",
      "\n",
      "Step 4: Build an elaborated context for an interviewer.\n",
      "As an interviewer, it is important to keep the following context in mind:\n",
      "- The question is asking for book recommendations and the reasons behind them.\n",
      "- The person's interests are important in determining the recommendations.\n",
      "- The interviewer should focus on providing recommendations that align with the person's interests and provide compelling reasons for why they should read those books.\n",
      "\n",
      "By keeping this context in mind, the interviewer can ensure that the answers provided are relevant and meet the expectations of the question. If a person's answer is out of context or does not align with the person's interests, the interviewer can politely notify them and ask them to focus on the current context. If a satisfactory answer is not given, the interviewer can reframe the question to provide more clarity.\n"
     ]
    }
   ],
   "source": [
    "question = 'What books should a person read and why?'\n",
    "insights = 'To get an inderstanding of what a persons intrests are.'\n",
    "response = get_completion_from_messages(get_summarization_message(question,insights))\n",
    "print(response)"
   ]
  },
  {
   "cell_type": "code",
   "execution_count": 8,
   "id": "f668942b-c0ad-4b1b-b64a-86d36c112452",
   "metadata": {},
   "outputs": [],
   "source": [
    "def get_fine_tuned_summarization_message(question,insights,previous_summary,additional_inputs):\n",
    "    system_prompt = f'''\n",
    "        Consider your self as a survey expert.Your task is to analyze a given question,insights,\n",
    "        additional inputs and previous summary provided in ```` and perform the following tasks:\n",
    "        question:````{question}````\n",
    "        insights:````{insights}````\n",
    "        previous summary:````{previous_summary}````\n",
    "        additional inputs:````{additional_inputs}````\n",
    "        step 1: Understand the question.\n",
    "        step 2: Understand the insights.\n",
    "        step 3: understand additional inputs.\n",
    "        step 4: understand the previous summary\n",
    "        step 5: From the above steps indentify what all additional insights need to be added to the previous summary based on additional inputs. \n",
    "        step 4: Build an elaborated context for an interviewer for later reference by also conisdering the additional inputs along with the previous summary for the following:\n",
    "            1. Check the answers suits the context\n",
    "            2. Identify a wether a given answer might be out of context.\n",
    "            3. Incase a person's answer is out of context politeley notify them to focus on the current context.\n",
    "            3. Reframe the question if a satisifiable answer is not given.\n",
    "    '''\n",
    "    messages = [{'role':'system','content':system_prompt}]\n",
    "    return messages"
   ]
  },
  {
   "cell_type": "code",
   "execution_count": 9,
   "id": "737f7348-9108-43ef-be44-300b5146f29c",
   "metadata": {},
   "outputs": [
    {
     "name": "stdout",
     "output_type": "stream",
     "text": [
      "Step 1: Understand the question.\n",
      "The question is asking for recommendations on what books a person should read and why.\n",
      "\n",
      "Step 2: Understand the insights.\n",
      "The insights suggest that the question is aimed at understanding a person's interests.\n",
      "\n",
      "Step 3: Understand the additional inputs.\n",
      "The additional inputs suggest that the person's technical knowledge or interests should also be taken into consideration when providing book recommendations.\n",
      "\n",
      "Step 4: Understand the previous summary.\n",
      "The previous summary provides a general context for the interviewer to keep in mind when assessing the answers given by the interviewee.\n",
      "\n",
      "Step 5: Identify additional insights to be added to the previous summary based on the additional inputs.\n",
      "- The person's technical knowledge or interests should be considered when providing book recommendations.\n",
      "- The interviewer should be prepared to ask follow-up questions to understand the person's technical interests better.\n",
      "- The interviewer should be open to a wide range of book genres and topics, including technical books.\n",
      "\n",
      "Step 6: Build an elaborated context for an interviewer for later reference, considering the additional inputs and the previous summary:\n",
      "- The question is about book recommendations and the reasons behind them.\n",
      "- The person's interests, including their technical knowledge or interests, should be taken into consideration when providing recommendations.\n",
      "- The interviewer should be prepared to ask follow-up questions to understand the person's interests better, including their technical interests.\n",
      "- The interviewer should be open to a wide range of book genres and topics, including technical books.\n",
      "- The interviewer should assess the answers given by the interviewee to ensure they are relevant and within the given context.\n",
      "- If an answer is out of context, the interviewer can politely redirect the interviewee to focus on the current context.\n",
      "- If a satisfactory answer is not given, the interviewer can reframe the question to provide more clarity or ask for specific genres or topics of interest, including technical ones.\n"
     ]
    }
   ],
   "source": [
    "question = 'What books should a person read and why?'\n",
    "insights = 'To get an inderstanding of what a persons intrests are.'\n",
    "prev_summary = '''\n",
    "   Step 1: Understand the question.\n",
    "The question is asking for recommendations on what books a person should read and why.\n",
    "\n",
    "Step 2: Understand the insights.\n",
    "The insights suggest that the question is aimed at understanding a person's interests.\n",
    "\n",
    "Step 3: Identify the key inferences.\n",
    "The key inferences from the question are:\n",
    "- The person is looking for book recommendations.\n",
    "- The person wants to know why they should read those books.\n",
    "- The person's interests are important in determining the recommendations.\n",
    "\n",
    "Step 4: Build an elaborated context for an interviewer.\n",
    "As an interviewer, it is important to keep the following context in mind:\n",
    "- The question is about book recommendations and the reasons behind them.\n",
    "- The person's interests should be taken into consideration when providing recommendations.\n",
    "- The interviewer should be prepared to ask follow-up questions to understand the person's interests better.\n",
    "- The interviewer should be open to a wide range of book genres and topics.\n",
    "\n",
    "By having this context in mind, the interviewer can effectively assess the answers given by the interviewee and ensure \n",
    "that they are relevant and within the given context. If an answer is out of context, the interviewer can politely redirect the interviewee to focus on the current context. If a satisfactory answer is not given, the interviewer can reframe the question to provide more clarity or ask for specific genres or topics of interest. \n",
    "'''\n",
    "additiona_inputs = 'Also need to understand how technical the person is'\n",
    "response = get_completion_from_messages(get_fine_tuned_summarization_message(question,insights,prev_summary,additiona_inputs))\n",
    "print(response)"
   ]
  }
 ],
 "metadata": {
  "kernelspec": {
   "display_name": "Python 3 (ipykernel)",
   "language": "python",
   "name": "python3"
  },
  "language_info": {
   "codemirror_mode": {
    "name": "ipython",
    "version": 3
   },
   "file_extension": ".py",
   "mimetype": "text/x-python",
   "name": "python",
   "nbconvert_exporter": "python",
   "pygments_lexer": "ipython3",
   "version": "3.10.12"
  }
 },
 "nbformat": 4,
 "nbformat_minor": 5
}
