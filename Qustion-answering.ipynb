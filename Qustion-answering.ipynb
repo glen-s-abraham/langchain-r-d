{
 "cells": [
  {
   "cell_type": "code",
   "execution_count": 1,
   "id": "11da38ce-146a-49ac-8510-f2fa9f17c64b",
   "metadata": {},
   "outputs": [
    {
     "data": {
      "text/plain": [
       "True"
      ]
     },
     "execution_count": 1,
     "metadata": {},
     "output_type": "execute_result"
    }
   ],
   "source": [
    "import os\n",
    "from  dotenv import load_dotenv,find_dotenv\n",
    "load_dotenv(find_dotenv(),override=True)\n"
   ]
  },
  {
   "cell_type": "code",
   "execution_count": 16,
   "id": "4bc4183f-7eef-4fc1-aec2-07991f5fe086",
   "metadata": {},
   "outputs": [],
   "source": [
    "from langchain.chains import RetrievalQA\n",
    "from langchain.chat_models import ChatOpenAI\n",
    "from langchain.document_loaders import CSVLoader\n",
    "from langchain.vectorstores import Chroma"
   ]
  },
  {
   "cell_type": "code",
   "execution_count": 19,
   "id": "6a06306b-acb7-44fd-99a1-34e0d0207546",
   "metadata": {},
   "outputs": [],
   "source": [
    "file = 'files/products_min.csv'\n",
    "loader = CSVLoader(file_path=file)"
   ]
  },
  {
   "cell_type": "code",
   "execution_count": 5,
   "id": "39b2d47d-d1cc-4a76-ba6c-d9ededa20083",
   "metadata": {},
   "outputs": [],
   "source": [
    "from langchain.indexes import VectorstoreIndexCreator"
   ]
  },
  {
   "cell_type": "code",
   "execution_count": 23,
   "id": "66b61e38-8b6c-4f3e-895f-ed8a472b6e6a",
   "metadata": {},
   "outputs": [],
   "source": [
    "query =\"List some products from the document\"\n",
    "response = index.query(query)"
   ]
  },
  {
   "cell_type": "code",
   "execution_count": 24,
   "id": "5c569aff-b29b-440e-a7ca-860009414ef6",
   "metadata": {},
   "outputs": [
    {
     "data": {
      "text/plain": [
       "' Homesake Gold-Toned & White Solid Handcrafted Table Lamp with Shade, Being Human Clothing Navy Printed Casual Slim Shirt, ID Men Beige Leather Derbys, ID Men Brown Leather Formal Slip-Ons'"
      ]
     },
     "execution_count": 24,
     "metadata": {},
     "output_type": "execute_result"
    }
   ],
   "source": [
    "response"
   ]
  },
  {
   "cell_type": "code",
   "execution_count": 20,
   "id": "b99e514b-218c-44bd-859c-74768c506989",
   "metadata": {
    "scrolled": true
   },
   "outputs": [],
   "source": [
    "index = VectorstoreIndexCreator(\n",
    "    vectorstore_cls=Chroma\n",
    ").from_loaders([loader])"
   ]
  },
  {
   "cell_type": "code",
   "execution_count": 26,
   "id": "a1f54aaa-3b91-4781-b43b-ad2b8151bd0f",
   "metadata": {},
   "outputs": [],
   "source": [
    "from langchain.document_loaders import CSVLoader\n",
    "loader = CSVLoader(file_path=file)"
   ]
  },
  {
   "cell_type": "code",
   "execution_count": 27,
   "id": "f54cb93c-e4a8-48ab-b35c-3107d1c82a73",
   "metadata": {},
   "outputs": [],
   "source": [
    "docs = loader.load()"
   ]
  },
  {
   "cell_type": "code",
   "execution_count": 28,
   "id": "f813b3e5-3126-43b1-88d1-a973b78c2438",
   "metadata": {},
   "outputs": [
    {
     "data": {
      "text/plain": [
       "Document(page_content=': 0\\nProductID: 10017413\\nProductName: DKNY Unisex Black & Grey Printed Medium Trolley Bag\\nProductBrand: DKNY\\nGender: Unisex\\nPrice (INR): 11745\\nNumImages: 7\\nDescription: Black and grey printed medium trolley bag, secured with a TSA lockOne handle on the top and one on the side, has a trolley with a retractable handle on the top and four corner mounted inline skate wheelsOne main zip compartment, zip lining, two compression straps with click clasps, one zip compartment on the flap with three zip pocketsWarranty: 5 yearsWarranty provided by Brand Owner / Manufacturer\\nPrimaryColor: Black', metadata={'source': 'files/products_min.csv', 'row': 0})"
      ]
     },
     "execution_count": 28,
     "metadata": {},
     "output_type": "execute_result"
    }
   ],
   "source": [
    "docs[0]"
   ]
  },
  {
   "cell_type": "code",
   "execution_count": 29,
   "id": "bc727cb1-5d7d-4a58-9be3-2b0b0b8f79c1",
   "metadata": {},
   "outputs": [],
   "source": [
    "from langchain.embeddings import OpenAIEmbeddings\n",
    "embeddings = OpenAIEmbeddings()"
   ]
  },
  {
   "cell_type": "code",
   "execution_count": 30,
   "id": "f63f9320-e221-4156-af2d-a6717e509963",
   "metadata": {},
   "outputs": [],
   "source": [
    "embed = embeddings.embed_query(\"Hi my name is Harrison\")"
   ]
  },
  {
   "cell_type": "code",
   "execution_count": 31,
   "id": "dbdd6950-b556-4477-a784-5890edb3680a",
   "metadata": {},
   "outputs": [
    {
     "name": "stdout",
     "output_type": "stream",
     "text": [
      "1536\n"
     ]
    }
   ],
   "source": [
    "print(len(embed))"
   ]
  },
  {
   "cell_type": "code",
   "execution_count": 32,
   "id": "fb14332e-2866-4bb0-b163-7caf505d1e17",
   "metadata": {},
   "outputs": [
    {
     "name": "stdout",
     "output_type": "stream",
     "text": [
      "[-0.021898041792938288, 0.006773174083663193, -0.018200152971572344, -0.03911712282827725, -0.014062040088796447]\n"
     ]
    }
   ],
   "source": [
    "print(embed[:5])"
   ]
  },
  {
   "cell_type": "code",
   "execution_count": 33,
   "id": "9f0e9505-5328-418e-8e74-4abd6d013073",
   "metadata": {},
   "outputs": [],
   "source": [
    "db = Chroma.from_documents(\n",
    "    docs, \n",
    "    embeddings\n",
    ")"
   ]
  },
  {
   "cell_type": "code",
   "execution_count": 34,
   "id": "24e43036-cf13-4d45-8078-5e3765a8d90e",
   "metadata": {},
   "outputs": [],
   "source": [
    "query = \"Please suggest a shirt with sunblocking\"\n",
    "docs = db.similarity_search(query)"
   ]
  },
  {
   "cell_type": "code",
   "execution_count": 35,
   "id": "9e62120a-8c7b-4658-b224-8fc8d09300f1",
   "metadata": {},
   "outputs": [
    {
     "data": {
      "text/plain": [
       "Document(page_content=': 15\\nProductID: 1000795\\nProductName: Being Human Clothing Navy Printed Casual Slim Shirt\\nProductBrand: Being Human\\nGender: Men\\nPrice (INR): 1079\\nNumImages: 6\\nDescription: Navy blue printedÂ\\xa0casual shirt, has a spread collar, a full button placket, two pockets,Â\\xa0long sleeves, a curved hem\\nPrimaryColor: Navy', metadata={'row': 15, 'source': 'files/products_min.csv'})"
      ]
     },
     "execution_count": 35,
     "metadata": {},
     "output_type": "execute_result"
    }
   ],
   "source": [
    "docs[0]"
   ]
  },
  {
   "cell_type": "code",
   "execution_count": 36,
   "id": "1443f596-4683-4212-97f2-cc92a1e1affa",
   "metadata": {},
   "outputs": [],
   "source": [
    "retriever = db.as_retriever()"
   ]
  },
  {
   "cell_type": "code",
   "execution_count": 40,
   "id": "c73ce84c-0e36-4b8a-9649-7d1d71eb2018",
   "metadata": {},
   "outputs": [],
   "source": [
    "llm = ChatOpenAI(temperature = 0.0, model='gpt-3.5-turbo')\n"
   ]
  },
  {
   "cell_type": "code",
   "execution_count": 37,
   "id": "456d3d1a-a518-4835-bb01-caa2218d3e4a",
   "metadata": {},
   "outputs": [],
   "source": [
    "qdocs = \"\".join([docs[i].page_content for i in range(len(docs))])\n"
   ]
  },
  {
   "cell_type": "code",
   "execution_count": 43,
   "id": "a1142d31-3685-4a9c-a06c-760efe5abbe2",
   "metadata": {},
   "outputs": [],
   "source": [
    "response = llm.call_as_llm(f\"{qdocs} Question: Please list all your \\\n",
    "shirts in a table in markdown and summarize each one.\") \n"
   ]
  },
  {
   "cell_type": "code",
   "execution_count": 45,
   "id": "2bd8d716-0c50-4df8-b35b-667369f135b6",
   "metadata": {},
   "outputs": [
    {
     "name": "stdout",
     "output_type": "stream",
     "text": [
      "| ProductID | ProductName | ProductBrand | Gender | Price (INR) | NumImages | Description | PrimaryColor |\n",
      "|-----------|-------------|--------------|--------|-------------|-----------|-------------|--------------|\n",
      "| 1000795   | Being Human Clothing Navy Printed Casual Slim Shirt | Being Human | Men | 1079 | 6 | Navy blue printed casual shirt, has a spread collar, a full button placket, two pockets, long sleeves, a curved hem | Navy |\n",
      "| 10015839  | Raymond Men Blue Slim Fit Printed Formal Shirt | Raymond | Men | 1079 | 5 | Blue printed formal shirt, has a spread collar, long sleeves, button placket, straight hem, one patch pocket | Blue |\n",
      "\n",
      "Summary:\n",
      "1. Being Human Clothing Navy Printed Casual Slim Shirt: This navy blue printed casual shirt for men features a spread collar, full button placket, two pockets, long sleeves, and a curved hem. It is from the brand Being Human and is priced at INR 1079. It comes with 6 images and the primary color is navy.\n",
      "2. Raymond Men Blue Slim Fit Printed Formal Shirt: This blue printed formal shirt for men features a spread collar, long sleeves, button placket, straight hem, and one patch pocket. It is from the brand Raymond and is priced at INR 1079. It comes with 5 images and the primary color is blue.\n"
     ]
    }
   ],
   "source": [
    "print(response)"
   ]
  },
  {
   "cell_type": "code",
   "execution_count": 46,
   "id": "4ded820d-a483-458a-8fdb-7255441b1cd8",
   "metadata": {},
   "outputs": [],
   "source": [
    "qa_stuff = RetrievalQA.from_chain_type(\n",
    "    llm=llm, \n",
    "    chain_type=\"stuff\", \n",
    "    retriever=retriever, \n",
    "    verbose=True\n",
    ")"
   ]
  },
  {
   "cell_type": "code",
   "execution_count": 47,
   "id": "3c8c824c-334d-4f62-8b0d-b6fe8f0c2225",
   "metadata": {},
   "outputs": [],
   "source": [
    "query =  \"Please list all your shirts in a table in markdown and summarize each one.\""
   ]
  },
  {
   "cell_type": "code",
   "execution_count": 48,
   "id": "32f88815-5068-4fbd-ac43-009a8bafced5",
   "metadata": {},
   "outputs": [
    {
     "name": "stdout",
     "output_type": "stream",
     "text": [
      "\n",
      "\n",
      "\u001b[1m> Entering new RetrievalQA chain...\u001b[0m\n",
      "\n",
      "\u001b[1m> Finished chain.\u001b[0m\n"
     ]
    }
   ],
   "source": [
    "response = qa_stuff.run(query)"
   ]
  },
  {
   "cell_type": "code",
   "execution_count": 49,
   "id": "33cd24b2-4ac9-4943-87d9-8fe85fc4796e",
   "metadata": {},
   "outputs": [
    {
     "data": {
      "text/plain": [
       "'| ProductID | ProductName | ProductBrand | Gender | Price (INR) | NumImages | Description | PrimaryColor |\\n|-----------|-------------|--------------|--------|-------------|-----------|-------------|--------------|\\n| 1000795   | Being Human Clothing Navy Printed Casual Slim Shirt | Being Human | Men | 1079 | 6 | Navy blue printed casual shirt, has a spread collar, a full button placket, two pockets, long sleeves, a curved hem | Navy |\\n| 10000245  | Parx Men Green Printed Polo Collar T-shirt | Parx | Men | 629 | 5 | Green printed T-shirt, has a polo collar, and short sleeves | Green |\\n\\nSummary:\\n1. Being Human Clothing Navy Printed Casual Slim Shirt: This navy blue printed casual shirt for men features a spread collar, full button placket, two pockets, long sleeves, and a curved hem. It is priced at INR 1079.\\n2. Parx Men Green Printed Polo Collar T-shirt: This green printed T-shirt for men has a polo collar and short sleeves. It is priced at INR 629.'"
      ]
     },
     "execution_count": 49,
     "metadata": {},
     "output_type": "execute_result"
    }
   ],
   "source": [
    "response"
   ]
  },
  {
   "cell_type": "code",
   "execution_count": null,
   "id": "f66055cd-89be-4b85-b07c-650eba1c9ee2",
   "metadata": {},
   "outputs": [],
   "source": []
  }
 ],
 "metadata": {
  "kernelspec": {
   "display_name": "Python 3 (ipykernel)",
   "language": "python",
   "name": "python3"
  },
  "language_info": {
   "codemirror_mode": {
    "name": "ipython",
    "version": 3
   },
   "file_extension": ".py",
   "mimetype": "text/x-python",
   "name": "python",
   "nbconvert_exporter": "python",
   "pygments_lexer": "ipython3",
   "version": "3.11.4"
  }
 },
 "nbformat": 4,
 "nbformat_minor": 5
}
