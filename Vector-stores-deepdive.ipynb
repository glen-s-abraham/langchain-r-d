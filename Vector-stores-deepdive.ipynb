{
 "cells": [
  {
   "cell_type": "code",
   "execution_count": 5,
   "id": "fb1e57cc-2425-4a57-8148-985ce0cfb534",
   "metadata": {},
   "outputs": [
    {
     "data": {
      "text/plain": [
       "True"
      ]
     },
     "execution_count": 5,
     "metadata": {},
     "output_type": "execute_result"
    }
   ],
   "source": [
    "import os\n",
    "from  dotenv import load_dotenv,find_dotenv\n",
    "load_dotenv(find_dotenv(),override=True)"
   ]
  },
  {
   "cell_type": "code",
   "execution_count": 6,
   "id": "1a26eefa-a50d-435c-ad31-7c8784607812",
   "metadata": {},
   "outputs": [],
   "source": [
    "from langchain.document_loaders import PyPDFLoader\n",
    "\n",
    "loaders = [\n",
    "    PyPDFLoader(\"files/cs229/CS229_Note_Apr_8,_2020_(Linear_Regression_&_Normal_Equation).pdf\"),\n",
    "    PyPDFLoader(\"files/cs229/CS229_Note_Apr_8,_2020_(Linear_Regression_&_Normal_Equation).pdf\"),\n",
    "    PyPDFLoader(\"files/cs229/CS229_Note_Apr_13,_2020_(Locally_Weighted_Regression_&_Logistic_Regression_&_Newton's_Method).pdf\"),\n",
    "    PyPDFLoader(\"files/cs229/CS229_Note_Apr_20,_2020_(Generative_Learning_Algorithms_&_Naive_Bayes).pdf\"),\n",
    "    PyPDFLoader(\"files/cs229/CS229_Note_Apr_22,_2020_(Laplace_Smoothing_&_Kernel_Methods).pdf\"),\n",
    "    PyPDFLoader(\"files/cs229/CS229_Note_Apr_27,_2020_(Kernel_Methods_&_SVM).pdf\"),\n",
    "    PyPDFLoader(\"files/cs229/CS229_Note_Apr_29,_2020_(Neural_Networks).pdf\"),\n",
    "]\n",
    "\n",
    "docs = []\n",
    "for loader in loaders:\n",
    "    docs.extend(loader.load())"
   ]
  },
  {
   "cell_type": "code",
   "execution_count": 7,
   "id": "2fbc9ac0-b3cc-4f2f-b736-7ec4f6a5fbf6",
   "metadata": {},
   "outputs": [],
   "source": [
    "from langchain.text_splitter import RecursiveCharacterTextSplitter\n",
    "text_splitter = RecursiveCharacterTextSplitter(chunk_size=1500,chunk_overlap=150)"
   ]
  },
  {
   "cell_type": "code",
   "execution_count": 26,
   "id": "a17b3b63-d471-4ca6-ac9c-e263a39f25b0",
   "metadata": {},
   "outputs": [
    {
     "data": {
      "text/plain": [
       "30"
      ]
     },
     "execution_count": 26,
     "metadata": {},
     "output_type": "execute_result"
    }
   ],
   "source": [
    "len(docs)"
   ]
  },
  {
   "cell_type": "code",
   "execution_count": 8,
   "id": "1282201d-67d1-413a-a8fa-d24f875386ef",
   "metadata": {},
   "outputs": [],
   "source": [
    "splits = text_splitter.split_documents(docs)"
   ]
  },
  {
   "cell_type": "code",
   "execution_count": 68,
   "id": "3a63f2b1-2979-490a-8621-aaa5ff70364b",
   "metadata": {},
   "outputs": [
    {
     "data": {
      "text/plain": [
       "30"
      ]
     },
     "execution_count": 68,
     "metadata": {},
     "output_type": "execute_result"
    }
   ],
   "source": [
    "len(splits)"
   ]
  },
  {
   "cell_type": "code",
   "execution_count": 9,
   "id": "3b525f79-37cc-4275-83b8-16dbcb573658",
   "metadata": {},
   "outputs": [],
   "source": [
    "from langchain.embeddings.openai import OpenAIEmbeddings\n",
    "embedding = OpenAIEmbeddings()"
   ]
  },
  {
   "cell_type": "code",
   "execution_count": 34,
   "id": "bad5a340-4d36-49f0-bb8a-f94d17dae26d",
   "metadata": {},
   "outputs": [],
   "source": [
    "sentance1 = 'i like dogs'\n",
    "sentance2 = 'i like canines'\n",
    "sentance3 = 'the weather is ugly outside'"
   ]
  },
  {
   "cell_type": "code",
   "execution_count": 35,
   "id": "cfc4b455-5070-4763-bfe9-4e519f633008",
   "metadata": {},
   "outputs": [],
   "source": [
    "embedding1 = embedding.embed_query(sentance1)\n",
    "embedding2 = embedding.embed_query(sentance2)\n",
    "embedding3 = embedding.embed_query(sentance3)"
   ]
  },
  {
   "cell_type": "code",
   "execution_count": 38,
   "id": "d09a283d-0f07-4546-b410-9c8d75e3625a",
   "metadata": {},
   "outputs": [],
   "source": [
    "import numpy as np"
   ]
  },
  {
   "cell_type": "code",
   "execution_count": 39,
   "id": "3e43ea0d-12fb-4ec7-833e-d7688bf86bf1",
   "metadata": {},
   "outputs": [
    {
     "data": {
      "text/plain": [
       "0.9631853782830291"
      ]
     },
     "execution_count": 39,
     "metadata": {},
     "output_type": "execute_result"
    }
   ],
   "source": [
    "np.dot(embedding1,embedding2)"
   ]
  },
  {
   "cell_type": "code",
   "execution_count": 40,
   "id": "a847643b-0475-4cb7-9199-0166eb4c41cf",
   "metadata": {},
   "outputs": [
    {
     "data": {
      "text/plain": [
       "0.7709998074536495"
      ]
     },
     "execution_count": 40,
     "metadata": {},
     "output_type": "execute_result"
    }
   ],
   "source": [
    "np.dot(embedding1,embedding3)"
   ]
  },
  {
   "cell_type": "code",
   "execution_count": 41,
   "id": "292fda36-8229-4027-960d-352aa38227fe",
   "metadata": {},
   "outputs": [
    {
     "data": {
      "text/plain": [
       "0.7596334095818114"
      ]
     },
     "execution_count": 41,
     "metadata": {},
     "output_type": "execute_result"
    }
   ],
   "source": [
    "np.dot(embedding2,embedding3)"
   ]
  },
  {
   "cell_type": "code",
   "execution_count": 10,
   "id": "25ab5334-17da-49da-a40f-dff947c2d4c6",
   "metadata": {},
   "outputs": [],
   "source": [
    "from langchain.vectorstores import Chroma"
   ]
  },
  {
   "cell_type": "code",
   "execution_count": 11,
   "id": "834f68ea-02bb-4c77-94ff-dcb389bdf00c",
   "metadata": {},
   "outputs": [
    {
     "name": "stdout",
     "output_type": "stream",
     "text": [
      "Unale to delete dir\n"
     ]
    }
   ],
   "source": [
    "import shutil\n",
    "chroma_dir = 'files/chroma'\n",
    "if os.path.isdir(chroma_dir):\n",
    "    try:\n",
    "        shutil.rmtree(chroma_dir)\n",
    "    except:\n",
    "        print('Unale to delete dir')"
   ]
  },
  {
   "cell_type": "code",
   "execution_count": 12,
   "id": "b1ee096f-2f23-42fb-bb95-a091da05548a",
   "metadata": {},
   "outputs": [],
   "source": [
    "vector_db = Chroma.from_documents(\n",
    "    documents=splits,\n",
    "    embedding=embedding,\n",
    "    persist_directory=chroma_dir\n",
    ")"
   ]
  },
  {
   "cell_type": "code",
   "execution_count": 76,
   "id": "a9f53e11-9430-4c77-be4c-ef414462e2d2",
   "metadata": {},
   "outputs": [
    {
     "data": {
      "text/plain": [
       "30"
      ]
     },
     "execution_count": 76,
     "metadata": {},
     "output_type": "execute_result"
    }
   ],
   "source": [
    "vector_db._collection.count()"
   ]
  },
  {
   "cell_type": "code",
   "execution_count": null,
   "id": "b3eef838-9730-42c8-a5e8-1567f320db03",
   "metadata": {},
   "outputs": [],
   "source": [
    "vector_db.add_texts"
   ]
  },
  {
   "cell_type": "code",
   "execution_count": 83,
   "id": "0673ff3b-67a0-4585-b706-d706a32b7c12",
   "metadata": {},
   "outputs": [],
   "source": [
    "question = \"What did they say about matlab\""
   ]
  },
  {
   "cell_type": "code",
   "execution_count": 86,
   "id": "21cfadb5-6ccf-473a-a25b-7981fbba076b",
   "metadata": {},
   "outputs": [],
   "source": [
    "docs = vector_db.similarity_search(question,k=5)"
   ]
  },
  {
   "cell_type": "code",
   "execution_count": 87,
   "id": "0fd84e15-c87c-4ec3-9acb-f25e88157b2c",
   "metadata": {},
   "outputs": [
    {
     "data": {
      "text/plain": [
       "'IxysCxyH10441ylolxsyIRecalllinearregression0OLoopoy2yoTx4x4LLRdscalarRdNewdataseeafterfeaturemapOOIRIRPIRPOPotofzjcycito.TOcxsfix0npCfRdpepscalerTRPTerminology10featuremap10lbchewfeaturexattributeskernelMethoddlXXiXDdfTe gPp3axggzpeltd1d1dBSupposeD1000PE109BedTimeperiterationkernelImprovetoOchaOuppd3MethodEvenOtakesOcpPsw'"
      ]
     },
     "execution_count": 87,
     "metadata": {},
     "output_type": "execute_result"
    }
   ],
   "source": [
    "docs[0].page_content"
   ]
  }
 ],
 "metadata": {
  "kernelspec": {
   "display_name": "Python 3 (ipykernel)",
   "language": "python",
   "name": "python3"
  },
  "language_info": {
   "codemirror_mode": {
    "name": "ipython",
    "version": 3
   },
   "file_extension": ".py",
   "mimetype": "text/x-python",
   "name": "python",
   "nbconvert_exporter": "python",
   "pygments_lexer": "ipython3",
   "version": "3.11.4"
  }
 },
 "nbformat": 4,
 "nbformat_minor": 5
}
