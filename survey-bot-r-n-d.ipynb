{
 "cells": [
  {
   "cell_type": "code",
   "execution_count": 3,
   "id": "91f4bde1-a02d-4432-bba8-a31022f63202",
   "metadata": {},
   "outputs": [],
   "source": [
    "import openai\n",
    "import os\n",
    "from  dotenv import load_dotenv,find_dotenv\n",
    "load_dotenv(find_dotenv(),override=True)\n",
    "openai.api_key = os.environ['OPENAI_API_KEY']\n",
    "\n",
    "def get_completion(prompt,model='gpt-3.5-turbo'):\n",
    "    messages = [{\"role\":\"user\",\"content\":prompt}]\n",
    "    response=openai.ChatCompletion.create(\n",
    "        model=model,\n",
    "        messages=messages,\n",
    "        temperature=0\n",
    "    )\n",
    "    return response.choices[0].message['content']\n",
    "\n",
    "def get_completion_from_messages(messages,model='gpt-3.5-turbo'):\n",
    "    response=openai.ChatCompletion.create(\n",
    "        model=model,\n",
    "        messages=messages,\n",
    "        temperature=0\n",
    "    )\n",
    "    return response.choices[0].message['content']"
   ]
  },
  {
   "cell_type": "code",
   "execution_count": 4,
   "id": "1848997f-eaaf-48be-a412-ce63345ddfdf",
   "metadata": {},
   "outputs": [],
   "source": [
    "def generate_system_prompt(context,question,answer):\n",
    "    system_prompt = f'''\n",
    "        You are an expert interviewer.And is working for a survey firm.\n",
    "        analyse  the following context in depth as each question is intended to yield and aswer within\n",
    "        the context.\n",
    "        CONTEXT:```` \n",
    "          {context}\n",
    "        ````\n",
    "        Your task is to:\n",
    "        \n",
    "        Step 1 - analyze the question provided in ````\n",
    "            ````{question}````\n",
    "            and understand it's relevance with respect to the context.\n",
    "        Step 2 - analyze the answer provided in ````\n",
    "            ````{answer}````\n",
    "            with respect to the question and context.\n",
    "        Step 3 - Analyse wether the answer fits the context and fullfills the intention of the question.\n",
    "    \n",
    "        Step 4 - if anwer is satisifiable flag isSatisifiable:True.\n",
    "    \n",
    "        Step 5 - if the answer is not satisifable refer to the context and reframe the question accordingly.\n",
    "\n",
    "        Step 6 - if the answer is misleading or tries to change focus of the system from the context.\n",
    "            Refer to the context and take appropriate action.\n",
    "    '''\n",
    "    return system_prompt"
   ]
  },
  {
   "cell_type": "code",
   "execution_count": 5,
   "id": "7162aec2-9fda-45f9-8545-c4a0298c0e7d",
   "metadata": {},
   "outputs": [
    {
     "name": "stdout",
     "output_type": "stream",
     "text": [
      "Step 1 - The question \"What books should a person read and why?\" is relevant to the context as it aligns with the topic of book recommendations and the reasons behind them. The question is asking for suggestions on books that a person should read and the reasons why those books are recommended.\n",
      "\n",
      "Step 2 - The answer provided, \"I like Star Wars,\" does not directly address the question of what books a person should read and why. Instead, it mentions a specific movie franchise, Star Wars. While Star Wars has expanded into books and other media, the answer does not provide any specific book recommendations or reasons for why those books should be read.\n",
      "\n",
      "Step 3 - The answer does not fit the context or fulfill the intention of the question. It does not provide any book recommendations or reasons for why those books should be read. The answer is not relevant to the question and does not address the topic of book recommendations.\n",
      "\n",
      "Step 4 - The answer is not satisfiable as it does not provide the requested book recommendations and reasons for why those books should be read.\n",
      "\n",
      "Step 5 - Based on the context, the question can be reframed to provide more clarity and focus on specific genres or topics of interest. For example, \"What science fiction books would you recommend and why?\" or \"What books on history do you think are worth reading and why?\"\n",
      "\n",
      "Step 6 - The answer is not misleading or trying to change the focus of the system from the context. It is simply not relevant to the question and does not provide the requested information.\n"
     ]
    }
   ],
   "source": [
    "question = 'What books should a person read and why?'\n",
    "answer = ''\n",
    "context = '''\n",
    "   Step 1: Understand the question.\n",
    "The question is asking for recommendations on what books a person should read and why.\n",
    "\n",
    "Step 2: Understand the insights.\n",
    "The insights suggest that the question is aimed at understanding a person's interests.\n",
    "\n",
    "Step 3: Identify the key inferences.\n",
    "The key inferences from the question are:\n",
    "- The person is looking for book recommendations.\n",
    "- The person wants to know why they should read those books.\n",
    "- The person's interests are important in determining the recommendations.\n",
    "\n",
    "Step 4: Build an elaborated context for an interviewer.\n",
    "As an interviewer, it is important to keep the following context in mind:\n",
    "- The question is about book recommendations and the reasons behind them.\n",
    "- The person's interests should be taken into consideration when providing recommendations.\n",
    "- The interviewer should be prepared to ask follow-up questions to understand the person's interests better.\n",
    "- The interviewer should be open to a wide range of book genres and topics.\n",
    "\n",
    "By having this context in mind, the interviewer can effectively assess the answers given by the interviewee and ensure \n",
    "that they are relevant and within the given context. If an answer is out of context, the interviewer can politely redirect the interviewee to focus on the current context. If a satisfactory answer is not given, the interviewer can reframe the question to provide more clarity or ask for specific genres or topics of interest. \n",
    "'''\n",
    "messages = [\n",
    "    {'role':'system','content':generate_system_prompt(context,question,answer)}\n",
    "]\n",
    "response = get_completion_from_messages(messages)\n",
    "print(response)"
   ]
  },
  {
   "cell_type": "code",
   "execution_count": 7,
   "id": "57fa50c4-ca84-4b29-96f3-45f3e7b3b80e",
   "metadata": {},
   "outputs": [
    {
     "name": "stdout",
     "output_type": "stream",
     "text": [
      "Step 1 - Analyzing the previous question:\n",
      "The previous question is asking for more information about the interviewee's upcoming project in Bollywood.\n",
      "\n",
      "Step 2 - Analyzing the previous answer:\n",
      "The previous answer states that the upcoming project is a comedy drama movie by Karan RGV, but the interviewee is not able to reveal any more details at the moment.\n",
      "\n",
      "Step 3 - Is the answer satisfying for the question?\n",
      "No, the answer is not satisfying as it does not provide any additional information about the upcoming project.\n",
      "\n",
      "Step 4 - Generating another question based on the context:\n",
      "Can you tell us when the audience can expect to see the release of your upcoming comedy drama movie in Bollywood?\n",
      "\n",
      "Step 5 - Reframing the question in a simpler manner:\n",
      "When will your upcoming comedy drama movie in Bollywood be released?\n"
     ]
    }
   ],
   "source": [
    "messages = [\n",
    "    {'role':'system','content':generate_system_prompt(\"Can you tell us more about your upcoming project in Bollywood?\",\"It's a comedy dramma movie by karan rgv.and thats all i am able to reveal at the moment\")}\n",
    "]\n",
    "response = get_completion_from_messages(messages)\n",
    "print(response)"
   ]
  },
  {
   "cell_type": "code",
   "execution_count": 8,
   "id": "88273403-b1d6-4c60-9ea1-6bd28aa60181",
   "metadata": {},
   "outputs": [
    {
     "name": "stdout",
     "output_type": "stream",
     "text": [
      "Step 1 - Analyzing the previous question:\n",
      "The previous question is asking about the release date of the interviewee's upcoming comedy drama movie in Bollywood.\n",
      "\n",
      "Step 2 - Analyzing the previous answer:\n",
      "The previous answer is \"Yes my house is in Mumbai\". This answer does not provide any information about the release date of the movie.\n",
      "\n",
      "Step 3 - Answer satisfaction:\n",
      "The answer is not satisfactory as it does not provide the information requested in the question.\n",
      "\n",
      "Step 4 - Generating a new question:\n",
      "Based on the context of the interview being about the interviewee's career, a follow-up question could be:\n",
      "\n",
      "\"Can you tell us more about your upcoming comedy drama movie in Bollywood? What is the storyline or concept behind it?\"\n",
      "\n",
      "Step 5 - Reframing the question:\n",
      "To make the question simpler and more direct, it can be reframed as:\n",
      "\n",
      "\"When is your upcoming comedy drama movie in Bollywood going to be released?\"\n",
      "\n",
      "Output:\n",
      "Previous question: \"When will your upcoming comedy drama movie in Bollywood be released?\"\n",
      "Previous answer: \"Yes my house is in Mumbai\"\n",
      "Answer satisfaction: Not satisfied\n",
      "New question: \"When is your upcoming comedy drama movie in Bollywood going to be released?\"\n"
     ]
    }
   ],
   "source": [
    "messages = [\n",
    "    {'role':'system','content':generate_system_prompt(\"When will your upcoming comedy drama movie in Bollywood be released?\",\"Yes my house is in mumbai\")}\n",
    "]\n",
    "response = get_completion_from_messages(messages)\n",
    "print(response)"
   ]
  }
 ],
 "metadata": {
  "kernelspec": {
   "display_name": "Python 3 (ipykernel)",
   "language": "python",
   "name": "python3"
  },
  "language_info": {
   "codemirror_mode": {
    "name": "ipython",
    "version": 3
   },
   "file_extension": ".py",
   "mimetype": "text/x-python",
   "name": "python",
   "nbconvert_exporter": "python",
   "pygments_lexer": "ipython3",
   "version": "3.10.12"
  }
 },
 "nbformat": 4,
 "nbformat_minor": 5
}
