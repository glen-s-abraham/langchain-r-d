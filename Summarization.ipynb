{
 "cells": [
  {
   "cell_type": "code",
   "execution_count": 6,
   "id": "c1341aee-e17f-497f-b8a0-1d80eba2d785",
   "metadata": {},
   "outputs": [
    {
     "data": {
      "text/plain": [
       "True"
      ]
     },
     "execution_count": 6,
     "metadata": {},
     "output_type": "execute_result"
    }
   ],
   "source": [
    "import openai\n",
    "import os\n",
    "from  dotenv import load_dotenv,find_dotenv\n",
    "load_dotenv(find_dotenv(),override=True)"
   ]
  },
  {
   "cell_type": "code",
   "execution_count": 7,
   "id": "b6a94d5f-e224-4671-aa90-5a92ea2d0b80",
   "metadata": {},
   "outputs": [],
   "source": [
    "openai.key= os.getenv('OPENAI_API_KEY')"
   ]
  },
  {
   "cell_type": "markdown",
   "id": "d07d06c0-c373-41eb-a5ee-4245a4f50cbb",
   "metadata": {},
   "source": [
    "#### Basic Promt\n"
   ]
  },
  {
   "cell_type": "code",
   "execution_count": 8,
   "id": "e12dacc5-fe88-4987-966e-fbf40fe44c76",
   "metadata": {},
   "outputs": [],
   "source": [
    "from langchain.chat_models import ChatOpenAI\n",
    "from langchain.schema import AIMessage,HumanMessage,SystemMessage"
   ]
  },
  {
   "cell_type": "code",
   "execution_count": 4,
   "id": "4ed2185f-cfda-4afa-b06b-9bbeb3f345ac",
   "metadata": {},
   "outputs": [],
   "source": [
    "text=\"\"\"Mojo is a new programming language that bridges the gap between research and production by combining the best of Python syntax with systems programming and metaprogramming.\n",
    "With Mojo, you can write portable code that’s faster than C and seamlessly inter-op with the Python ecosystem.\n",
    "When we started Modular, we had no intention of building a new programming language. But as we were building our platform with the intent to unify the world’s ML/AI infrastructure, we realized that programming across the entire stack was too complicated. Plus, we were writing a lot of MLIR by hand and not having a good time.\\\n",
    "What we wanted was an innovative and scalable programming model that could target accelerators and other heterogeneous systems that are pervasive in the AI field. This meant a programming language with powerful compile-time metaprogramming, integration of adaptive compilation techniques, caching throughout the compilation flow, and other features that are not supported by existing languages.\n",
    "And although accelerators are important, one of the most prevalent and sometimes overlooked “accelerators” is the host CPU. Nowadays, CPUs have lots of tensor-core-like accelerator blocks and other AI acceleration units, but they also serve as the “fallback” for operations that specialized accelerators don’t handle, such as data loading, pre- and post-processing, and integrations with foreign systems. So it was clear that we couldn’t lift AI with just an “accelerator language” that worked with only specific processors.\n",
    "Applied AI systems need to address all these issues, and we decided there was no reason it couldn’t be done with just one language. Thus, Mojo was born.\n",
    "\"\"\"\n",
    "\n",
    "message=[\n",
    "    SystemMessage(content='You are an exper copywriter with expertise in summarizing documents'),\n",
    "    HumanMessage(content=f'Please provide a short and concise summary of the following text.\\n TEXT:{text}'),\n",
    "]\n",
    "\n"
   ]
  },
  {
   "cell_type": "code",
   "execution_count": 9,
   "id": "01c67b87-303e-4e08-8ced-bd787329d98b",
   "metadata": {},
   "outputs": [],
   "source": [
    "gpt_llm = ChatOpenAI(temperature=0,model='gpt-3.5-turbo')"
   ]
  },
  {
   "cell_type": "code",
   "execution_count": 5,
   "id": "63fc7a1d-32d8-44c9-b555-41dc83d96369",
   "metadata": {},
   "outputs": [
    {
     "data": {
      "text/plain": [
       "320"
      ]
     },
     "execution_count": 5,
     "metadata": {},
     "output_type": "execute_result"
    }
   ],
   "source": [
    "gpt_llm.get_num_tokens(text)"
   ]
  },
  {
   "cell_type": "code",
   "execution_count": 6,
   "id": "4dc25362-caac-4ab6-ac6d-40b4a3cf4a24",
   "metadata": {},
   "outputs": [],
   "source": [
    "summary = gpt_llm(message)"
   ]
  },
  {
   "cell_type": "code",
   "execution_count": 7,
   "id": "f51ea134-be75-424f-bce4-b90b0370d73e",
   "metadata": {},
   "outputs": [
    {
     "data": {
      "text/plain": [
       "\"Mojo is a new programming language that combines Python syntax with systems programming and metaprogramming. It aims to bridge the gap between research and production by allowing developers to write portable code that is faster than C and seamlessly integrates with the Python ecosystem. Mojo was created to address the complexities of programming across the entire stack in the ML/AI field, with a focus on targeting accelerators and heterogeneous systems. It also recognizes the importance of the host CPU and aims to handle operations that specialized accelerators don't handle. Mojo aims to be a comprehensive language for applied AI systems.\""
      ]
     },
     "execution_count": 7,
     "metadata": {},
     "output_type": "execute_result"
    }
   ],
   "source": [
    "summary.content"
   ]
  },
  {
   "cell_type": "markdown",
   "id": "58d4bf75-638b-4fe5-8c63-d6e8f6b05f52",
   "metadata": {},
   "source": [
    "#### Prompt Templates"
   ]
  },
  {
   "cell_type": "code",
   "execution_count": 8,
   "id": "d5c9e550-47de-4f99-8b2b-248a3d00f44c",
   "metadata": {},
   "outputs": [],
   "source": [
    "from langchain import PromptTemplate\n",
    "from langchain.chains import LLMChain"
   ]
  },
  {
   "cell_type": "code",
   "execution_count": 9,
   "id": "382909a8-27cb-403a-8072-02fd879ed57e",
   "metadata": {},
   "outputs": [],
   "source": [
    "template=\"\"\"\n",
    "Write a concise and short summary of the following text:\n",
    "TEXT:{text}\n",
    "Translate the summary to {language}\n",
    "\"\"\"\n",
    "prompt = PromptTemplate(input_variables=['text','language'],template=template)"
   ]
  },
  {
   "cell_type": "code",
   "execution_count": 10,
   "id": "dc834e62-6f26-4217-a7f7-6a23bc9da923",
   "metadata": {},
   "outputs": [
    {
     "data": {
      "text/plain": [
       "340"
      ]
     },
     "execution_count": 10,
     "metadata": {},
     "output_type": "execute_result"
    }
   ],
   "source": [
    "gpt_llm.get_num_tokens(prompt.format(text=text,language='English'))"
   ]
  },
  {
   "cell_type": "code",
   "execution_count": 11,
   "id": "7afdd472-d090-4e83-91e9-ab9727b6f241",
   "metadata": {},
   "outputs": [],
   "source": [
    "chain = LLMChain(llm=gpt_llm,prompt=prompt)"
   ]
  },
  {
   "cell_type": "code",
   "execution_count": 12,
   "id": "699e5451-2a11-4fb1-b675-21eabc998d34",
   "metadata": {},
   "outputs": [],
   "source": [
    "summary = chain.run({'text':text,'language':'Spanish'})"
   ]
  },
  {
   "cell_type": "code",
   "execution_count": 14,
   "id": "d0b002b7-857b-409b-875c-782f2a175b57",
   "metadata": {},
   "outputs": [
    {
     "data": {
      "text/plain": [
       "'Mojo es un nuevo lenguaje de programación que combina lo mejor de la sintaxis de Python con la programación de sistemas y la metaprogramación, con el objetivo de unificar la infraestructura de inteligencia artificial y aprendizaje automático. Con Mojo, se puede escribir código portátil más rápido que en C y trabajar de manera integrada con el ecosistema de Python. Este lenguaje fue creado para abordar la complejidad de programar en todo el stack y para ofrecer un modelo de programación innovador y escalable que pueda dirigirse a aceleradores y otros sistemas heterogéneos en el campo de la inteligencia artificial. Además, Mojo reconoce la importancia de la CPU como un \"acelerador\" prevalente y a menudo pasado por alto, y busca abordar todas las necesidades de los sistemas de IA aplicada en un solo lenguaje.'"
      ]
     },
     "execution_count": 14,
     "metadata": {},
     "output_type": "execute_result"
    }
   ],
   "source": [
    "summary"
   ]
  },
  {
   "cell_type": "markdown",
   "id": "05aa63bf-b455-4e27-acdf-5bcfa1eb92f4",
   "metadata": {},
   "source": [
    "#### Summarizing using StuffDocumentChain"
   ]
  },
  {
   "cell_type": "code",
   "execution_count": 3,
   "id": "59484384-c019-4fab-b53f-0e4ad06322a5",
   "metadata": {},
   "outputs": [],
   "source": [
    "from langchain import PromptTemplate\n",
    "from langchain.chat_models import ChatOpenAI\n",
    "from langchain.chains.summarize import load_summarize_chain\n",
    "from langchain.docstore.document import Document"
   ]
  },
  {
   "cell_type": "code",
   "execution_count": 4,
   "id": "4efc64a4-90ad-41db-ab9c-fda387b2b606",
   "metadata": {},
   "outputs": [],
   "source": [
    "with open('files/speech.txt',encoding='utf-8') as f:\n",
    "    text = f.read()\n",
    "doc = [Document(page_content=text)]"
   ]
  },
  {
   "cell_type": "code",
   "execution_count": 5,
   "id": "13bc500f-6488-45b3-81a0-04a805394a0d",
   "metadata": {},
   "outputs": [],
   "source": [
    "prompt_template = '''Write a concise ans short summary of the text.TEXT:`{text}`'''\n",
    "prompt=PromptTemplate(\n",
    "    input_variables=['text'],\n",
    "    template=prompt_template\n",
    ")"
   ]
  },
  {
   "cell_type": "code",
   "execution_count": 11,
   "id": "6554c11c-b635-459e-888d-a355a5bda6bb",
   "metadata": {},
   "outputs": [],
   "source": [
    "chain = load_summarize_chain(\n",
    "    llm=gpt_llm,\n",
    "    prompt=prompt,\n",
    "    chain_type='stuff',\n",
    "    verbose=False\n",
    ")\n",
    "summary = chain.run(doc)"
   ]
  },
  {
   "cell_type": "code",
   "execution_count": 12,
   "id": "1c38fdf6-5447-48f5-b621-2fa2376a5ed4",
   "metadata": {},
   "outputs": [
    {
     "data": {
      "text/plain": [
       "\"The text is a commencement speech given by Steve Jobs at a university graduation. He shares three stories from his life, emphasizing the importance of connecting the dots, following one's passion, and embracing the inevitability of death. He encourages the graduates to trust in themselves, stay curious, and not be afraid to take risks. The speech ends with the message to stay hungry and stay foolish, urging the graduates to continue seeking knowledge and embracing new experiences.\""
      ]
     },
     "execution_count": 12,
     "metadata": {},
     "output_type": "execute_result"
    }
   ],
   "source": [
    "summary"
   ]
  }
 ],
 "metadata": {
  "kernelspec": {
   "display_name": "Python 3 (ipykernel)",
   "language": "python",
   "name": "python3"
  },
  "language_info": {
   "codemirror_mode": {
    "name": "ipython",
    "version": 3
   },
   "file_extension": ".py",
   "mimetype": "text/x-python",
   "name": "python",
   "nbconvert_exporter": "python",
   "pygments_lexer": "ipython3",
   "version": "3.10.12"
  }
 },
 "nbformat": 4,
 "nbformat_minor": 5
}
