import os
from dotenv import load_dotenv,find_dotenv
load_dotenv(find_dotenv())


from langchain.agents import load_tools
from langchain.agents import initialize_agent
from langchain.agents import get_all_tool_names
from langchain.agents import AgentType
from langchain.llms import OpenAI
from langchain.chat_models import ChatOpenAI


from langchain.chains import LLMChain


llm=OpenAI(temperature=0)
tools = load_tools(['serpapi','llm-math'],llm=llm)
print(tools[0].description)
print(tools[1].description)


from langchain.chains.llm import LLMChain
from langchain.prompts import PromptTemplate
from langchain.chains.combine_documents.stuff import StuffDocumentsChain

# Define prompt
prompt_template = """Write a concise summary of the following conversation:
"{conversation}"
CONCISE SUMMARY:"""
prompt = PromptTemplate.from_template(prompt_template)

# Define LLM chain
llm = ChatOpenAI(temperature=0, model_name="gpt-3.5-turbo-16k")
summary_chain = LLMChain(llm=llm, prompt=prompt)



made_up_conversation_1 = '''
    
Certainly, here's an example conversation between a chat agent and a financial manager of a company:

Chat Agent (CA): Hello, this is [Company Name] customer support. How can I assist you today?

Financial Manager (FM): Hi, I'm the financial manager at [Company Name]. I have some questions regarding our recent financial statements and accounting procedures.

CA: Of course, I'd be happy to help. Could you please specify what information or assistance you're looking for?

FM: Sure, I need clarification on our Q3 financial statements. There seems to be a discrepancy in the income statement.

CA: I apologize for any confusion. Can you provide me with more details about the discrepancy you've noticed?

FM: Certainly. In our Q3 income statement, the revenue figures appear to be higher than expected. I want to understand if this is accurate or if there might be an error in our accounting.

CA: I understand your concern. Let me check our records and consult with our accounting department to get a better understanding of the situation. Can you please provide me with the specific account or line item that you're referring to?

FM: The main area of concern is the "Sales Revenue" line. It shows a significant increase compared to previous quarters, and I want to ensure that all transactions have been properly recorded.

CA: Thank you for providing that information. I'll investigate this issue and reach out to our accounting team for clarification. Is there anything else you'd like to inquire about or any other financial matters you'd like assistance with today?

FM: Yes, I also have questions about our cash flow statement and our current cash position. Can you provide an update on that as well?

CA: Certainly, I can help with that. Let me access our latest financial reports and provide you with the relevant information. Please give me a moment to gather the data.

[After a brief pause...]

CA: According to our records, as of the end of Q3, our company's cash flow remains stable, and our cash position is within our targeted range. We have sufficient liquidity to meet our short-term obligations.

FM: That's reassuring to hear. Thank you for the update. If you could also send me a copy of the latest cash flow statement for my records, I would appreciate it.

CA: Absolutely, I'll email you a copy of the cash flow statement right away. Is there anything else you'd like to discuss or any additional documents you require?

FM: That should cover my immediate concerns. Thank you for your assistance. Please send the statement as soon as possible.

CA: You're welcome! I'll send the statement to your registered email address shortly. If you have any more questions or need further assistance in the future, don't hesitate to reach out. Have a great day!

FM: Thank you, you too. Goodbye.

CA: Goodbye, and have a wonderful day as well!
'''


summary1=summary_chain.run(made_up_conversation_1)


made_up_conversation_2 = '''
    CFO: Hello [FM], I heard you had a discussion with our customer support team about our Q3 financial statements. Can you provide me with an update?

FM: Hello, [CFO]. Yes, I reached out to them to address a discrepancy in our Q3 income statement. They mentioned they would investigate and get back to me.

CFO: I see. Can you please share the details of the discrepancy and what actions were taken?

FM: Certainly, [CFO]. The main issue was with the "Sales Revenue" line, which showed a significant increase compared to previous quarters. I asked for clarification to ensure the accuracy of our accounting.

CFO: That's a valid concern. Did you receive any feedback from the customer support team?

FM: They assured me that they would consult with our accounting department and get back to me with an explanation and any necessary adjustments. I'm awaiting their response.

CFO: Thank you for taking the initiative on this matter, [FM]. It's crucial that we maintain the accuracy of our financial statements. Please keep me updated on any developments.

FM: Of course, [CFO]. I will ensure to relay any information I receive promptly. Additionally, I inquired about our cash flow statement and cash position. They mentioned that our cash flow remains stable, and we have sufficient liquidity to meet short-term obligations.

CFO: That's good news. It's essential that we maintain a healthy cash flow. Did they mention when they would send you a copy of the cash flow statement?

FM: They mentioned they would send it to my email address shortly, so I expect to receive it soon.

CFO: Excellent. Once you receive it, please review the cash flow statement carefully, and if you notice any issues or have further questions, let me know. Our finance team should always be on the same page regarding our financial health.

FM: I will, [CFO]. Thank you for your guidance and support in handling these matters.

CFO: You're welcome, [FM]. If you have any more financial inquiries or concerns, don't hesitate to reach out. We need to ensure our financial records are accurate and transparent.

FM: Absolutely, [CFO]. I will keep you informed and continue to monitor our financial performance closely.

CFO: Great. Let's stay proactive in maintaining the financial health of our company. If there's nothing else for now, please keep me updated on any responses you receive.

FM: Will do, [CFO]. I'll notify you as soon as I hear back from the customer support team regarding the Q3 income statement and when I receive the cash flow statement.

CFO: Perfect, [FM]. Thank you for your diligence. Have a productive day.

FM: You too, [CFO]. Goodbye.

CFO: Goodbye, and take care.

'''


summary2 = summary_chain.run(made_up_conversation_2)


from langchain.vectorstores import Chroma
from langchain.embeddings import OpenAIEmbeddings

vectordb=Chroma(embedding_function=OpenAIEmbeddings())
vectordb2=Chroma(embedding_function=OpenAIEmbeddings())


vectordb.add_texts([summary1])
vectordb2.add_texts([made_up_conversation_1])


vectordb.add_texts([summary2])
vectordb2.add_texts([made_up_conversation_2])


from langchain.memory import ConversationBufferMemory
memory = ConversationBufferMemory(memory_key="chat_history", return_messages=True)


from langchain.chains import ConversationalRetrievalChain
from langchain.chains import RetrievalQA
from langchain.llms import OpenAI
retriever=vectordb.as_retriever()
retriever2=vectordb2.as_retriever()
qa_chain = RetrievalQA.from_llm(llm,retriever=retriever,return_source_documents=True)
qa_chain2 = RetrievalQA.from_llm(llm,retriever=retriever2,return_source_documents=True)


qa_chain('Who all are involved in the conversation')


qa_chain2.run('Who all are involved in the conversation')


from langchain.chains import LLMChain
prompt = PromptTemplate(
    template="""You are a helpful agent within a firm responsible for facilitating
    communications and resolving conflicts among various parties of the firm.Your day to day task involves
    providing updates about the happenings in the firm,Any ongoing discussions that is going on,
    ask questions related to the person's expertise etc. 
    """
)
agent_chain = LLMChain(llm=llm, prompt=prompt)



agent_chain.run({'question':"what's up?"})


from langchain.agents import Tool

tools = [
    Tool(
        name='Knowledge Base',
        func=qa_chain,
        description=(
            'use this tool first when answering queries'
        )
    )
]


agent = initialize_agent(
    tools,llm,agent=AgentType.CONVERSATIONAL_REACT_DESCRIPTION,
    verbose=True
)


agent.run('Hey whatsup?')


agent.run('Any updates?')
